{
 "cells": [
  {
   "cell_type": "code",
   "execution_count": 1,
   "metadata": {},
   "outputs": [],
   "source": [
    "import pandas as pd\n",
    "import matplotlib.pyplot as plt\n",
    "import seaborn as sns"
   ]
  },
  {
   "cell_type": "code",
   "execution_count": 2,
   "metadata": {},
   "outputs": [],
   "source": [
    "customer_df = pd.read_csv(\"Customer Data.csv\",header=0)"
   ]
  },
  {
   "cell_type": "code",
   "execution_count": 3,
   "metadata": {},
   "outputs": [
    {
     "data": {
      "text/html": [
       "<div>\n",
       "<style scoped>\n",
       "    .dataframe tbody tr th:only-of-type {\n",
       "        vertical-align: middle;\n",
       "    }\n",
       "\n",
       "    .dataframe tbody tr th {\n",
       "        vertical-align: top;\n",
       "    }\n",
       "\n",
       "    .dataframe thead th {\n",
       "        text-align: right;\n",
       "    }\n",
       "</style>\n",
       "<table border=\"1\" class=\"dataframe\">\n",
       "  <thead>\n",
       "    <tr style=\"text-align: right;\">\n",
       "      <th></th>\n",
       "      <th>Customer ID</th>\n",
       "      <th>Mail Deliverable</th>\n",
       "      <th>Lifetime Recency</th>\n",
       "      <th>Lifetime Frequency</th>\n",
       "      <th>Lifetime Monetary</th>\n",
       "      <th>Closest store distance</th>\n",
       "    </tr>\n",
       "  </thead>\n",
       "  <tbody>\n",
       "    <tr>\n",
       "      <th>0</th>\n",
       "      <td>18089141</td>\n",
       "      <td>Y</td>\n",
       "      <td>12</td>\n",
       "      <td>1</td>\n",
       "      <td>368.84</td>\n",
       "      <td>161.0</td>\n",
       "    </tr>\n",
       "    <tr>\n",
       "      <th>1</th>\n",
       "      <td>4482047</td>\n",
       "      <td>Y</td>\n",
       "      <td>15</td>\n",
       "      <td>2</td>\n",
       "      <td>118.90</td>\n",
       "      <td>8.0</td>\n",
       "    </tr>\n",
       "    <tr>\n",
       "      <th>2</th>\n",
       "      <td>18201629</td>\n",
       "      <td>Y</td>\n",
       "      <td>4</td>\n",
       "      <td>1</td>\n",
       "      <td>99.90</td>\n",
       "      <td>86.0</td>\n",
       "    </tr>\n",
       "    <tr>\n",
       "      <th>3</th>\n",
       "      <td>18116939</td>\n",
       "      <td>Y</td>\n",
       "      <td>11</td>\n",
       "      <td>1</td>\n",
       "      <td>29.92</td>\n",
       "      <td>80.0</td>\n",
       "    </tr>\n",
       "    <tr>\n",
       "      <th>4</th>\n",
       "      <td>9125409</td>\n",
       "      <td>Y</td>\n",
       "      <td>4</td>\n",
       "      <td>21</td>\n",
       "      <td>1785.23</td>\n",
       "      <td>10.0</td>\n",
       "    </tr>\n",
       "  </tbody>\n",
       "</table>\n",
       "</div>"
      ],
      "text/plain": [
       "   Customer ID Mail Deliverable  Lifetime Recency  Lifetime Frequency   \\\n",
       "0     18089141                Y                12                    1   \n",
       "1      4482047                Y                15                    2   \n",
       "2     18201629                Y                 4                    1   \n",
       "3     18116939                Y                11                    1   \n",
       "4      9125409                Y                 4                   21   \n",
       "\n",
       "   Lifetime Monetary  Closest store distance  \n",
       "0             368.84                   161.0  \n",
       "1             118.90                     8.0  \n",
       "2              99.90                    86.0  \n",
       "3              29.92                    80.0  \n",
       "4            1785.23                    10.0  "
      ]
     },
     "execution_count": 3,
     "metadata": {},
     "output_type": "execute_result"
    }
   ],
   "source": [
    "customer_df.head()"
   ]
  },
  {
   "cell_type": "code",
   "execution_count": 4,
   "metadata": {
    "scrolled": true
   },
   "outputs": [
    {
     "name": "stdout",
     "output_type": "stream",
     "text": [
      "<class 'pandas.core.frame.DataFrame'>\n",
      "RangeIndex: 200000 entries, 0 to 199999\n",
      "Data columns (total 6 columns):\n",
      " #   Column                  Non-Null Count   Dtype  \n",
      "---  ------                  --------------   -----  \n",
      " 0   Customer ID             200000 non-null  int64  \n",
      " 1   Mail Deliverable        200000 non-null  object \n",
      " 2   Lifetime Recency        200000 non-null  int64  \n",
      " 3   Lifetime Frequency      200000 non-null  int64  \n",
      " 4   Lifetime Monetary       200000 non-null  float64\n",
      " 5   Closest store distance  197159 non-null  float64\n",
      "dtypes: float64(2), int64(3), object(1)\n",
      "memory usage: 9.2+ MB\n"
     ]
    }
   ],
   "source": [
    "customer_df.info()"
   ]
  },
  {
   "cell_type": "code",
   "execution_count": 5,
   "metadata": {},
   "outputs": [
    {
     "data": {
      "text/plain": [
       "200000"
      ]
     },
     "execution_count": 5,
     "metadata": {},
     "output_type": "execute_result"
    }
   ],
   "source": [
    "len(customer_df['Customer ID'].unique())"
   ]
  },
  {
   "cell_type": "code",
   "execution_count": 6,
   "metadata": {},
   "outputs": [
    {
     "data": {
      "text/plain": [
       "Customer ID               0.00\n",
       "Mail Deliverable          0.00\n",
       "Lifetime Recency          0.00\n",
       "Lifetime Frequency        0.00\n",
       "Lifetime Monetary         0.00\n",
       "Closest store distance    1.42\n",
       "dtype: float64"
      ]
     },
     "execution_count": 6,
     "metadata": {},
     "output_type": "execute_result"
    }
   ],
   "source": [
    "# percent missing values in customer data\n",
    "round(100*(customer_df.isnull().sum())/len(customer_df), 2)"
   ]
  },
  {
   "cell_type": "code",
   "execution_count": 7,
   "metadata": {},
   "outputs": [
    {
     "data": {
      "text/plain": [
       "2841"
      ]
     },
     "execution_count": 7,
     "metadata": {},
     "output_type": "execute_result"
    }
   ],
   "source": [
    "missing_count = customer_df['Closest store distance'].isnull().sum()\n",
    "missing_count"
   ]
  },
  {
   "cell_type": "code",
   "execution_count": 8,
   "metadata": {},
   "outputs": [
    {
     "data": {
      "text/plain": [
       "count    197159.000000\n",
       "mean         43.918507\n",
       "std          50.164970\n",
       "min           0.000000\n",
       "25%          10.000000\n",
       "50%          22.000000\n",
       "75%          62.000000\n",
       "max         299.000000\n",
       "Name: Closest store distance, dtype: float64"
      ]
     },
     "execution_count": 8,
     "metadata": {},
     "output_type": "execute_result"
    }
   ],
   "source": [
    "customer_df['Closest store distance'].describe()"
   ]
  },
  {
   "cell_type": "code",
   "execution_count": 9,
   "metadata": {},
   "outputs": [
    {
     "data": {
      "image/png": "[encoded data removed]",
      "text/plain": [
       "<Figure size 432x288 with 1 Axes>"
      ]
     },
     "metadata": {
      "needs_background": "light"
     },
     "output_type": "display_data"
    }
   ],
   "source": [
    "plt.hist(customer_df['Closest store distance'], bins=50)\n",
    "plt.xlabel('Distance')\n",
    "plt.ylabel('Frequency')\n",
    "plt.show()"
   ]
  },
  {
   "cell_type": "code",
   "execution_count": 10,
   "metadata": {},
   "outputs": [
    {
     "data": {
      "image/png": "[encoded data removed]",
      "text/plain": [
       "<Figure size 432x288 with 1 Axes>"
      ]
     },
     "metadata": {
      "needs_background": "light"
     },
     "output_type": "display_data"
    }
   ],
   "source": [
    "sns.boxplot(x=customer_df[\"Closest store distance\"])\n",
    "plt.show()"
   ]
  },
  {
   "cell_type": "code",
   "execution_count": 11,
   "metadata": {},
   "outputs": [],
   "source": [
    "# impute missing distance enteries with mean distance\n",
    "mean_distance = customer_df['Closest store distance'].mean()\n",
    "customer_df['Closest store distance'] = customer_df['Closest store distance'].fillna(mean_distance)"
   ]
  },
  {
   "cell_type": "code",
   "execution_count": 12,
   "metadata": {},
   "outputs": [
    {
     "name": "stdout",
     "output_type": "stream",
     "text": [
      "<class 'pandas.core.frame.DataFrame'>\n",
      "RangeIndex: 200000 entries, 0 to 199999\n",
      "Data columns (total 6 columns):\n",
      " #   Column                  Non-Null Count   Dtype  \n",
      "---  ------                  --------------   -----  \n",
      " 0   Customer ID             200000 non-null  int64  \n",
      " 1   Mail Deliverable        200000 non-null  object \n",
      " 2   Lifetime Recency        200000 non-null  int64  \n",
      " 3   Lifetime Frequency      200000 non-null  int64  \n",
      " 4   Lifetime Monetary       200000 non-null  float64\n",
      " 5   Closest store distance  200000 non-null  float64\n",
      "dtypes: float64(2), int64(3), object(1)\n",
      "memory usage: 9.2+ MB\n"
     ]
    }
   ],
   "source": [
    "customer_df.info()"
   ]
  },
  {
   "cell_type": "code",
   "execution_count": 13,
   "metadata": {},
   "outputs": [
    {
     "name": "stderr",
     "output_type": "stream",
     "text": [
      "C:\\Users\\p.neeraj.mendhekar\\Anaconda3\\lib\\site-packages\\IPython\\core\\interactiveshell.py:3165: DtypeWarning: Columns (7) have mixed types.Specify dtype option on import or set low_memory=False.\n",
      "  has_raised = await self.run_ast_nodes(code_ast.body, cell_name,\n"
     ]
    }
   ],
   "source": [
    "purchase_df = pd.read_csv(\"Purchase Data.csv\",header = 0)"
   ]
  },
  {
   "cell_type": "code",
   "execution_count": 14,
   "metadata": {},
   "outputs": [
    {
     "name": "stdout",
     "output_type": "stream",
     "text": [
      "<class 'pandas.core.frame.DataFrame'>\n",
      "RangeIndex: 508658 entries, 0 to 508657\n",
      "Data columns (total 8 columns):\n",
      " #   Column       Non-Null Count   Dtype  \n",
      "---  ------       --------------   -----  \n",
      " 0   Customer ID  508658 non-null  int64  \n",
      " 1   Date         508658 non-null  object \n",
      " 2   Product      508658 non-null  object \n",
      " 3   Units        508658 non-null  int64  \n",
      " 4   Amount       508655 non-null  float64\n",
      " 5   Cost         508658 non-null  float64\n",
      " 6   Channel      508658 non-null  object \n",
      " 7   Store        508658 non-null  object \n",
      "dtypes: float64(2), int64(2), object(4)\n",
      "memory usage: 31.0+ MB\n"
     ]
    }
   ],
   "source": [
    "purchase_df.info()"
   ]
  },
  {
   "cell_type": "code",
   "execution_count": 15,
   "metadata": {
    "scrolled": true
   },
   "outputs": [
    {
     "data": {
      "text/html": [
       "<div>\n",
       "<style scoped>\n",
       "    .dataframe tbody tr th:only-of-type {\n",
       "        vertical-align: middle;\n",
       "    }\n",
       "\n",
       "    .dataframe tbody tr th {\n",
       "        vertical-align: top;\n",
       "    }\n",
       "\n",
       "    .dataframe thead th {\n",
       "        text-align: right;\n",
       "    }\n",
       "</style>\n",
       "<table border=\"1\" class=\"dataframe\">\n",
       "  <thead>\n",
       "    <tr style=\"text-align: right;\">\n",
       "      <th></th>\n",
       "      <th>Customer ID</th>\n",
       "      <th>Date</th>\n",
       "      <th>Product</th>\n",
       "      <th>Units</th>\n",
       "      <th>Amount</th>\n",
       "      <th>Cost</th>\n",
       "      <th>Channel</th>\n",
       "      <th>Store</th>\n",
       "    </tr>\n",
       "  </thead>\n",
       "  <tbody>\n",
       "    <tr>\n",
       "      <th>0</th>\n",
       "      <td>1806560</td>\n",
       "      <td>19/09/2019</td>\n",
       "      <td>APPAREL</td>\n",
       "      <td>1</td>\n",
       "      <td>29.97</td>\n",
       "      <td>20.00</td>\n",
       "      <td>Internet</td>\n",
       "      <td>~</td>\n",
       "    </tr>\n",
       "    <tr>\n",
       "      <th>1</th>\n",
       "      <td>1806560</td>\n",
       "      <td>19/09/2019</td>\n",
       "      <td>APPAREL</td>\n",
       "      <td>1</td>\n",
       "      <td>29.97</td>\n",
       "      <td>38.00</td>\n",
       "      <td>Internet</td>\n",
       "      <td>~</td>\n",
       "    </tr>\n",
       "    <tr>\n",
       "      <th>2</th>\n",
       "      <td>1806560</td>\n",
       "      <td>19/09/2019</td>\n",
       "      <td>APPAREL</td>\n",
       "      <td>1</td>\n",
       "      <td>29.98</td>\n",
       "      <td>27.25</td>\n",
       "      <td>Internet</td>\n",
       "      <td>~</td>\n",
       "    </tr>\n",
       "    <tr>\n",
       "      <th>3</th>\n",
       "      <td>1806560</td>\n",
       "      <td>19/09/2019</td>\n",
       "      <td>APPAREL</td>\n",
       "      <td>1</td>\n",
       "      <td>24.97</td>\n",
       "      <td>15.00</td>\n",
       "      <td>Internet</td>\n",
       "      <td>~</td>\n",
       "    </tr>\n",
       "    <tr>\n",
       "      <th>4</th>\n",
       "      <td>1806560</td>\n",
       "      <td>19/09/2019</td>\n",
       "      <td>APPAREL</td>\n",
       "      <td>1</td>\n",
       "      <td>39.98</td>\n",
       "      <td>19.00</td>\n",
       "      <td>Internet</td>\n",
       "      <td>~</td>\n",
       "    </tr>\n",
       "  </tbody>\n",
       "</table>\n",
       "</div>"
      ],
      "text/plain": [
       "   Customer ID        Date  Product  Units  Amount   Cost   Channel Store\n",
       "0      1806560  19/09/2019  APPAREL      1   29.97  20.00  Internet     ~\n",
       "1      1806560  19/09/2019  APPAREL      1   29.97  38.00  Internet     ~\n",
       "2      1806560  19/09/2019  APPAREL      1   29.98  27.25  Internet     ~\n",
       "3      1806560  19/09/2019  APPAREL      1   24.97  15.00  Internet     ~\n",
       "4      1806560  19/09/2019  APPAREL      1   39.98  19.00  Internet     ~"
      ]
     },
     "execution_count": 15,
     "metadata": {},
     "output_type": "execute_result"
    }
   ],
   "source": [
    "purchase_df.head()"
   ]
  },
  {
   "cell_type": "code",
   "execution_count": 16,
   "metadata": {},
   "outputs": [
    {
     "data": {
      "text/plain": [
       "(508658, 8)"
      ]
     },
     "execution_count": 16,
     "metadata": {},
     "output_type": "execute_result"
    }
   ],
   "source": [
    "purchase_df.shape"
   ]
  },
  {
   "cell_type": "code",
   "execution_count": 17,
   "metadata": {},
   "outputs": [
    {
     "data": {
      "text/plain": [
       "86665"
      ]
     },
     "execution_count": 17,
     "metadata": {},
     "output_type": "execute_result"
    }
   ],
   "source": [
    "len(purchase_df['Customer ID'].unique())"
   ]
  },
  {
   "cell_type": "code",
   "execution_count": 18,
   "metadata": {},
   "outputs": [
    {
     "data": {
      "text/plain": [
       "array(['Internet', 'POS Sales'], dtype=object)"
      ]
     },
     "execution_count": 18,
     "metadata": {},
     "output_type": "execute_result"
    }
   ],
   "source": [
    "purchase_df['Channel'].unique()"
   ]
  },
  {
   "cell_type": "code",
   "execution_count": 19,
   "metadata": {},
   "outputs": [
    {
     "data": {
      "text/plain": [
       "array(['APPAREL', 'ACCESSORIES', 'NOVELTY', 'PERSONAL CARE', 'JEWELRY',\n",
       "       'FOOTWEAR', 'BEAUTY', 'BATH & BODY'], dtype=object)"
      ]
     },
     "execution_count": 19,
     "metadata": {},
     "output_type": "execute_result"
    }
   ],
   "source": [
    "purchase_df['Product'].unique()"
   ]
  },
  {
   "cell_type": "code",
   "execution_count": 20,
   "metadata": {},
   "outputs": [
    {
     "data": {
      "text/plain": [
       "array(['~', '37', '17', '15', '74', '10', '33', '23', '20', '45', '55',\n",
       "       '22', '24', '26', '14', '13', '40', '36', '62', '67', '53', '56',\n",
       "       '81', '52', '6', '1', '28', '51', '31', '69', '12', '72', '48',\n",
       "       '35', '32', '41', '19', '58', '38', '77', '7', '57', '80', '49',\n",
       "       '29', '50', '3', '47', '34', '54', '68', '76', '21', '60', '27',\n",
       "       '65', '43', '70', '5', '9', '46', '39', '16', '61', '11', '59',\n",
       "       '83', '63', '25', '71', '75', '2', '30', '44', '66', '73', '64',\n",
       "       '18', '82', '42', '79', 19, 5, 39, 7, 60, 37, 50, 74, 14, 65, 75,\n",
       "       38, 18, 9, 80, 42, 70, 31, 66, 67, 11, 63, 32, 40, 54, 46, 71, 10,\n",
       "       61, 6, 16, 25, 59, 43, 13, 68, 62, 33, 27, 81, 1, 55, 82, 44, 48,\n",
       "       26, 52, 72, 51, 28, 69, 15, 64, 22, 30, 56, 49, 58, 24, 73, 17, 23,\n",
       "       29, 3, 35, 20, 76, 12, 45, 47, 21, 83, 36, 79, 41, 53, 34, 2, 57,\n",
       "       77], dtype=object)"
      ]
     },
     "execution_count": 20,
     "metadata": {},
     "output_type": "execute_result"
    }
   ],
   "source": [
    "purchase_df['Store'].unique()"
   ]
  },
  {
   "cell_type": "code",
   "execution_count": 21,
   "metadata": {},
   "outputs": [],
   "source": [
    "purchase_df[\"Store\"] = purchase_df[\"Store\"].replace(\"~\", \"999\")"
   ]
  },
  {
   "cell_type": "code",
   "execution_count": 22,
   "metadata": {},
   "outputs": [
    {
     "data": {
      "text/plain": [
       "array(['999', '37', '17', '15', '74', '10', '33', '23', '20', '45', '55',\n",
       "       '22', '24', '26', '14', '13', '40', '36', '62', '67', '53', '56',\n",
       "       '81', '52', '6', '1', '28', '51', '31', '69', '12', '72', '48',\n",
       "       '35', '32', '41', '19', '58', '38', '77', '7', '57', '80', '49',\n",
       "       '29', '50', '3', '47', '34', '54', '68', '76', '21', '60', '27',\n",
       "       '65', '43', '70', '5', '9', '46', '39', '16', '61', '11', '59',\n",
       "       '83', '63', '25', '71', '75', '2', '30', '44', '66', '73', '64',\n",
       "       '18', '82', '42', '79', 19, 5, 39, 7, 60, 37, 50, 74, 14, 65, 75,\n",
       "       38, 18, 9, 80, 42, 70, 31, 66, 67, 11, 63, 32, 40, 54, 46, 71, 10,\n",
       "       61, 6, 16, 25, 59, 43, 13, 68, 62, 33, 27, 81, 1, 55, 82, 44, 48,\n",
       "       26, 52, 72, 51, 28, 69, 15, 64, 22, 30, 56, 49, 58, 24, 73, 17, 23,\n",
       "       29, 3, 35, 20, 76, 12, 45, 47, 21, 83, 36, 79, 41, 53, 34, 2, 57,\n",
       "       77], dtype=object)"
      ]
     },
     "execution_count": 22,
     "metadata": {},
     "output_type": "execute_result"
    }
   ],
   "source": [
    "purchase_df['Store'].unique()"
   ]
  },
  {
   "cell_type": "code",
   "execution_count": 23,
   "metadata": {},
   "outputs": [],
   "source": [
    "purchase_df['Store'] = purchase_df['Store'].astype(int)"
   ]
  },
  {
   "cell_type": "code",
   "execution_count": 24,
   "metadata": {},
   "outputs": [],
   "source": [
    "def find_missing_store_number(unique_arr):\n",
    "    n = len(unique_arr) + 1\n",
    "    expected_sum = (n * (n + 1)) // 2\n",
    "    actual_sum = sum(unique_arr)\n",
    "    missing_number = expected_sum - actual_sum\n",
    "    return missing_number"
   ]
  },
  {
   "cell_type": "code",
   "execution_count": 25,
   "metadata": {},
   "outputs": [],
   "source": [
    "def find_missing_numbers(unique_arr):\n",
    "    min_num = min(unique_arr)\n",
    "    max_num = max(unique_arr)\n",
    "    new_arr = [0] * (max_num - min_num + 1)\n",
    "    for num in arr:\n",
    "        new_arr[num - min_num] = 1\n",
    "    missing_numbers = []\n",
    "    for i in range(len(new_arr)):\n",
    "        if new_arr[i] == 0:\n",
    "            missing_numbers.append(i + min_num)\n",
    "    return missing_numbers\n"
   ]
  },
  {
   "cell_type": "code",
   "execution_count": 26,
   "metadata": {},
   "outputs": [
    {
     "name": "stdout",
     "output_type": "stream",
     "text": [
      "[4, 8, 78]\n"
     ]
    }
   ],
   "source": [
    "import numpy as np\n",
    "arr = purchase_df.loc[purchase_df[\"Store\"] != 999, \"Store\"].values.astype(np.int32)\n",
    "unique_arr = np.unique(arr)\n",
    "missing_numbers = find_missing_numbers(unique_arr)\n",
    "print(missing_numbers)\n"
   ]
  },
  {
   "cell_type": "code",
   "execution_count": 27,
   "metadata": {},
   "outputs": [
    {
     "data": {
      "text/plain": [
       "Customer ID    0.0\n",
       "Date           0.0\n",
       "Product        0.0\n",
       "Units          0.0\n",
       "Amount         0.0\n",
       "Cost           0.0\n",
       "Channel        0.0\n",
       "Store          0.0\n",
       "dtype: float64"
      ]
     },
     "execution_count": 27,
     "metadata": {},
     "output_type": "execute_result"
    }
   ],
   "source": [
    "#check for missing values in purchase data\n",
    "round(100*(purchase_df.isnull().sum())/len(purchase_df), 2)"
   ]
  },
  {
   "cell_type": "markdown",
   "metadata": {},
   "source": [
    "### EDA"
   ]
  },
  {
   "cell_type": "code",
   "execution_count": 28,
   "metadata": {
    "scrolled": true
   },
   "outputs": [
    {
     "data": {
      "text/html": [
       "<div>\n",
       "<style scoped>\n",
       "    .dataframe tbody tr th:only-of-type {\n",
       "        vertical-align: middle;\n",
       "    }\n",
       "\n",
       "    .dataframe tbody tr th {\n",
       "        vertical-align: top;\n",
       "    }\n",
       "\n",
       "    .dataframe thead th {\n",
       "        text-align: right;\n",
       "    }\n",
       "</style>\n",
       "<table border=\"1\" class=\"dataframe\">\n",
       "  <thead>\n",
       "    <tr style=\"text-align: right;\">\n",
       "      <th></th>\n",
       "      <th>Customer ID</th>\n",
       "      <th>Mail Deliverable</th>\n",
       "      <th>Lifetime Recency</th>\n",
       "      <th>Lifetime Frequency</th>\n",
       "      <th>Lifetime Monetary</th>\n",
       "      <th>Closest store distance</th>\n",
       "      <th>Date</th>\n",
       "      <th>Product</th>\n",
       "      <th>Units</th>\n",
       "      <th>Amount</th>\n",
       "      <th>Cost</th>\n",
       "      <th>Channel</th>\n",
       "      <th>Store</th>\n",
       "    </tr>\n",
       "  </thead>\n",
       "  <tbody>\n",
       "    <tr>\n",
       "      <th>0</th>\n",
       "      <td>4482047</td>\n",
       "      <td>Y</td>\n",
       "      <td>15</td>\n",
       "      <td>2</td>\n",
       "      <td>118.90</td>\n",
       "      <td>8.0</td>\n",
       "      <td>07/06/2019</td>\n",
       "      <td>APPAREL</td>\n",
       "      <td>1</td>\n",
       "      <td>108.95</td>\n",
       "      <td>23.00</td>\n",
       "      <td>Internet</td>\n",
       "      <td>999</td>\n",
       "    </tr>\n",
       "    <tr>\n",
       "      <th>1</th>\n",
       "      <td>6564872</td>\n",
       "      <td>Y</td>\n",
       "      <td>4</td>\n",
       "      <td>6</td>\n",
       "      <td>1785.20</td>\n",
       "      <td>13.0</td>\n",
       "      <td>13/12/2019</td>\n",
       "      <td>APPAREL</td>\n",
       "      <td>1</td>\n",
       "      <td>69.95</td>\n",
       "      <td>16.31</td>\n",
       "      <td>Internet</td>\n",
       "      <td>999</td>\n",
       "    </tr>\n",
       "    <tr>\n",
       "      <th>2</th>\n",
       "      <td>7004515</td>\n",
       "      <td>Y</td>\n",
       "      <td>11</td>\n",
       "      <td>23</td>\n",
       "      <td>2068.93</td>\n",
       "      <td>23.0</td>\n",
       "      <td>21/11/2019</td>\n",
       "      <td>APPAREL</td>\n",
       "      <td>1</td>\n",
       "      <td>119.95</td>\n",
       "      <td>39.75</td>\n",
       "      <td>Internet</td>\n",
       "      <td>999</td>\n",
       "    </tr>\n",
       "    <tr>\n",
       "      <th>3</th>\n",
       "      <td>7004515</td>\n",
       "      <td>Y</td>\n",
       "      <td>11</td>\n",
       "      <td>23</td>\n",
       "      <td>2068.93</td>\n",
       "      <td>23.0</td>\n",
       "      <td>20/07/2019</td>\n",
       "      <td>APPAREL</td>\n",
       "      <td>1</td>\n",
       "      <td>59.95</td>\n",
       "      <td>14.75</td>\n",
       "      <td>Internet</td>\n",
       "      <td>999</td>\n",
       "    </tr>\n",
       "    <tr>\n",
       "      <th>4</th>\n",
       "      <td>6429944</td>\n",
       "      <td>Y</td>\n",
       "      <td>11</td>\n",
       "      <td>8</td>\n",
       "      <td>2813.77</td>\n",
       "      <td>9.0</td>\n",
       "      <td>12/11/2019</td>\n",
       "      <td>APPAREL</td>\n",
       "      <td>1</td>\n",
       "      <td>79.95</td>\n",
       "      <td>15.76</td>\n",
       "      <td>Internet</td>\n",
       "      <td>999</td>\n",
       "    </tr>\n",
       "    <tr>\n",
       "      <th>...</th>\n",
       "      <td>...</td>\n",
       "      <td>...</td>\n",
       "      <td>...</td>\n",
       "      <td>...</td>\n",
       "      <td>...</td>\n",
       "      <td>...</td>\n",
       "      <td>...</td>\n",
       "      <td>...</td>\n",
       "      <td>...</td>\n",
       "      <td>...</td>\n",
       "      <td>...</td>\n",
       "      <td>...</td>\n",
       "      <td>...</td>\n",
       "    </tr>\n",
       "    <tr>\n",
       "      <th>508653</th>\n",
       "      <td>2930907</td>\n",
       "      <td>Y</td>\n",
       "      <td>18</td>\n",
       "      <td>1</td>\n",
       "      <td>99.90</td>\n",
       "      <td>175.0</td>\n",
       "      <td>20/04/2019</td>\n",
       "      <td>APPAREL</td>\n",
       "      <td>1</td>\n",
       "      <td>76.46</td>\n",
       "      <td>13.80</td>\n",
       "      <td>Internet</td>\n",
       "      <td>999</td>\n",
       "    </tr>\n",
       "    <tr>\n",
       "      <th>508654</th>\n",
       "      <td>18077839</td>\n",
       "      <td>Y</td>\n",
       "      <td>13</td>\n",
       "      <td>2</td>\n",
       "      <td>229.86</td>\n",
       "      <td>24.0</td>\n",
       "      <td>31/08/2019</td>\n",
       "      <td>APPAREL</td>\n",
       "      <td>1</td>\n",
       "      <td>39.99</td>\n",
       "      <td>27.25</td>\n",
       "      <td>Internet</td>\n",
       "      <td>999</td>\n",
       "    </tr>\n",
       "    <tr>\n",
       "      <th>508655</th>\n",
       "      <td>18077839</td>\n",
       "      <td>Y</td>\n",
       "      <td>13</td>\n",
       "      <td>2</td>\n",
       "      <td>229.86</td>\n",
       "      <td>24.0</td>\n",
       "      <td>31/08/2019</td>\n",
       "      <td>APPAREL</td>\n",
       "      <td>1</td>\n",
       "      <td>49.99</td>\n",
       "      <td>21.00</td>\n",
       "      <td>Internet</td>\n",
       "      <td>999</td>\n",
       "    </tr>\n",
       "    <tr>\n",
       "      <th>508656</th>\n",
       "      <td>18077839</td>\n",
       "      <td>Y</td>\n",
       "      <td>13</td>\n",
       "      <td>2</td>\n",
       "      <td>229.86</td>\n",
       "      <td>24.0</td>\n",
       "      <td>31/08/2019</td>\n",
       "      <td>APPAREL</td>\n",
       "      <td>1</td>\n",
       "      <td>59.99</td>\n",
       "      <td>20.16</td>\n",
       "      <td>Internet</td>\n",
       "      <td>999</td>\n",
       "    </tr>\n",
       "    <tr>\n",
       "      <th>508657</th>\n",
       "      <td>3173145</td>\n",
       "      <td>Y</td>\n",
       "      <td>20</td>\n",
       "      <td>2</td>\n",
       "      <td>137.83</td>\n",
       "      <td>15.0</td>\n",
       "      <td>11/02/2019</td>\n",
       "      <td>APPAREL</td>\n",
       "      <td>1</td>\n",
       "      <td>59.95</td>\n",
       "      <td>19.84</td>\n",
       "      <td>Internet</td>\n",
       "      <td>999</td>\n",
       "    </tr>\n",
       "  </tbody>\n",
       "</table>\n",
       "<p>505368 rows × 13 columns</p>\n",
       "</div>"
      ],
      "text/plain": [
       "        Customer ID Mail Deliverable  Lifetime Recency  Lifetime Frequency   \\\n",
       "0           4482047                Y                15                    2   \n",
       "1           6564872                Y                 4                    6   \n",
       "2           7004515                Y                11                   23   \n",
       "3           7004515                Y                11                   23   \n",
       "4           6429944                Y                11                    8   \n",
       "...             ...              ...               ...                  ...   \n",
       "508653      2930907                Y                18                    1   \n",
       "508654     18077839                Y                13                    2   \n",
       "508655     18077839                Y                13                    2   \n",
       "508656     18077839                Y                13                    2   \n",
       "508657      3173145                Y                20                    2   \n",
       "\n",
       "        Lifetime Monetary  Closest store distance        Date  Product  Units  \\\n",
       "0                  118.90                     8.0  07/06/2019  APPAREL      1   \n",
       "1                 1785.20                    13.0  13/12/2019  APPAREL      1   \n",
       "2                 2068.93                    23.0  21/11/2019  APPAREL      1   \n",
       "3                 2068.93                    23.0  20/07/2019  APPAREL      1   \n",
       "4                 2813.77                     9.0  12/11/2019  APPAREL      1   \n",
       "...                   ...                     ...         ...      ...    ...   \n",
       "508653              99.90                   175.0  20/04/2019  APPAREL      1   \n",
       "508654             229.86                    24.0  31/08/2019  APPAREL      1   \n",
       "508655             229.86                    24.0  31/08/2019  APPAREL      1   \n",
       "508656             229.86                    24.0  31/08/2019  APPAREL      1   \n",
       "508657             137.83                    15.0  11/02/2019  APPAREL      1   \n",
       "\n",
       "        Amount   Cost   Channel  Store  \n",
       "0       108.95  23.00  Internet    999  \n",
       "1        69.95  16.31  Internet    999  \n",
       "2       119.95  39.75  Internet    999  \n",
       "3        59.95  14.75  Internet    999  \n",
       "4        79.95  15.76  Internet    999  \n",
       "...        ...    ...       ...    ...  \n",
       "508653   76.46  13.80  Internet    999  \n",
       "508654   39.99  27.25  Internet    999  \n",
       "508655   49.99  21.00  Internet    999  \n",
       "508656   59.99  20.16  Internet    999  \n",
       "508657   59.95  19.84  Internet    999  \n",
       "\n",
       "[505368 rows x 13 columns]"
      ]
     },
     "execution_count": 28,
     "metadata": {},
     "output_type": "execute_result"
    }
   ],
   "source": [
    "# merge customer data and purchase data\n",
    "# merge the two data frames on the 'Customer ID' column\n",
    "merged_df = pd.merge(customer_df, purchase_df, on='Customer ID', how='inner')\n",
    "\n",
    "# drop duplicate rows if any\n",
    "merged_df.drop_duplicates()"
   ]
  },
  {
   "cell_type": "code",
   "execution_count": 29,
   "metadata": {},
   "outputs": [
    {
     "name": "stdout",
     "output_type": "stream",
     "text": [
      "<class 'pandas.core.frame.DataFrame'>\n",
      "Int64Index: 508658 entries, 0 to 508657\n",
      "Data columns (total 13 columns):\n",
      " #   Column                  Non-Null Count   Dtype  \n",
      "---  ------                  --------------   -----  \n",
      " 0   Customer ID             508658 non-null  int64  \n",
      " 1   Mail Deliverable        508658 non-null  object \n",
      " 2   Lifetime Recency        508658 non-null  int64  \n",
      " 3   Lifetime Frequency      508658 non-null  int64  \n",
      " 4   Lifetime Monetary       508658 non-null  float64\n",
      " 5   Closest store distance  508658 non-null  float64\n",
      " 6   Date                    508658 non-null  object \n",
      " 7   Product                 508658 non-null  object \n",
      " 8   Units                   508658 non-null  int64  \n",
      " 9   Amount                  508655 non-null  float64\n",
      " 10  Cost                    508658 non-null  float64\n",
      " 11  Channel                 508658 non-null  object \n",
      " 12  Store                   508658 non-null  int32  \n",
      "dtypes: float64(4), int32(1), int64(4), object(4)\n",
      "memory usage: 52.4+ MB\n"
     ]
    }
   ],
   "source": [
    "merged_df.info()"
   ]
  },
  {
   "cell_type": "code",
   "execution_count": 30,
   "metadata": {},
   "outputs": [],
   "source": [
    "#convert date to proper datatype\n",
    "import datetime as dt\n",
    "merged_df['Date'] = pd.to_datetime(merged_df['Date'])"
   ]
  },
  {
   "cell_type": "code",
   "execution_count": 31,
   "metadata": {},
   "outputs": [
    {
     "data": {
      "text/plain": [
       "array(['Y', 'N'], dtype=object)"
      ]
     },
     "execution_count": 31,
     "metadata": {},
     "output_type": "execute_result"
    }
   ],
   "source": [
    "merged_df['Mail Deliverable'].unique()"
   ]
  },
  {
   "cell_type": "code",
   "execution_count": 32,
   "metadata": {},
   "outputs": [],
   "source": [
    "merged_df[\"Mail Deliverable\"] = merged_df[\"Mail Deliverable\"].replace(\"Y\", \"1\")\n",
    "merged_df[\"Mail Deliverable\"] = merged_df[\"Mail Deliverable\"].replace(\"N\", \"0\")"
   ]
  },
  {
   "cell_type": "code",
   "execution_count": 33,
   "metadata": {},
   "outputs": [
    {
     "data": {
      "text/plain": [
       "array(['1', '0'], dtype=object)"
      ]
     },
     "execution_count": 33,
     "metadata": {},
     "output_type": "execute_result"
    }
   ],
   "source": [
    "merged_df['Mail Deliverable'].unique()"
   ]
  },
  {
   "cell_type": "code",
   "execution_count": 34,
   "metadata": {},
   "outputs": [],
   "source": [
    "merged_df['Mail Deliverable'] = merged_df['Mail Deliverable'].astype(int)"
   ]
  },
  {
   "cell_type": "code",
   "execution_count": 35,
   "metadata": {},
   "outputs": [
    {
     "name": "stdout",
     "output_type": "stream",
     "text": [
      "<class 'pandas.core.frame.DataFrame'>\n",
      "Int64Index: 508658 entries, 0 to 508657\n",
      "Data columns (total 13 columns):\n",
      " #   Column                  Non-Null Count   Dtype         \n",
      "---  ------                  --------------   -----         \n",
      " 0   Customer ID             508658 non-null  int64         \n",
      " 1   Mail Deliverable        508658 non-null  int32         \n",
      " 2   Lifetime Recency        508658 non-null  int64         \n",
      " 3   Lifetime Frequency      508658 non-null  int64         \n",
      " 4   Lifetime Monetary       508658 non-null  float64       \n",
      " 5   Closest store distance  508658 non-null  float64       \n",
      " 6   Date                    508658 non-null  datetime64[ns]\n",
      " 7   Product                 508658 non-null  object        \n",
      " 8   Units                   508658 non-null  int64         \n",
      " 9   Amount                  508655 non-null  float64       \n",
      " 10  Cost                    508658 non-null  float64       \n",
      " 11  Channel                 508658 non-null  object        \n",
      " 12  Store                   508658 non-null  int32         \n",
      "dtypes: datetime64[ns](1), float64(4), int32(2), int64(4), object(2)\n",
      "memory usage: 50.4+ MB\n"
     ]
    }
   ],
   "source": [
    "merged_df.info()"
   ]
  },
  {
   "cell_type": "code",
   "execution_count": 36,
   "metadata": {},
   "outputs": [],
   "source": [
    "# add month and quarter columns\n",
    "merged_df['Month'] = merged_df['Date'].dt.month\n",
    "merged_df['Quarter'] = merged_df['Date'].dt.quarter\n",
    "merged_df['Year'] = merged_df['Date'].dt.year"
   ]
  },
  {
   "cell_type": "code",
   "execution_count": 37,
   "metadata": {},
   "outputs": [
    {
     "name": "stdout",
     "output_type": "stream",
     "text": [
      "<class 'pandas.core.frame.DataFrame'>\n",
      "Int64Index: 508658 entries, 0 to 508657\n",
      "Data columns (total 16 columns):\n",
      " #   Column                  Non-Null Count   Dtype         \n",
      "---  ------                  --------------   -----         \n",
      " 0   Customer ID             508658 non-null  int64         \n",
      " 1   Mail Deliverable        508658 non-null  int32         \n",
      " 2   Lifetime Recency        508658 non-null  int64         \n",
      " 3   Lifetime Frequency      508658 non-null  int64         \n",
      " 4   Lifetime Monetary       508658 non-null  float64       \n",
      " 5   Closest store distance  508658 non-null  float64       \n",
      " 6   Date                    508658 non-null  datetime64[ns]\n",
      " 7   Product                 508658 non-null  object        \n",
      " 8   Units                   508658 non-null  int64         \n",
      " 9   Amount                  508655 non-null  float64       \n",
      " 10  Cost                    508658 non-null  float64       \n",
      " 11  Channel                 508658 non-null  object        \n",
      " 12  Store                   508658 non-null  int32         \n",
      " 13  Month                   508658 non-null  int64         \n",
      " 14  Quarter                 508658 non-null  int64         \n",
      " 15  Year                    508658 non-null  int64         \n",
      "dtypes: datetime64[ns](1), float64(4), int32(2), int64(7), object(2)\n",
      "memory usage: 62.1+ MB\n"
     ]
    }
   ],
   "source": [
    "merged_df.info()"
   ]
  },
  {
   "cell_type": "code",
   "execution_count": 38,
   "metadata": {},
   "outputs": [],
   "source": [
    "\n",
    "# Alternatively, we can use winsorization as outlier treatment technique\n",
    "from scipy.stats.mstats import winsorize\n",
    "\n",
    "# winsorize the Quantity and Revenue columns\n",
    "merged_df['Quantity_wins'] = winsorize(merged_df['Units'], limits=[0.05, 0.05])\n",
    "merged_df['Revenue_wins'] = winsorize(merged_df['Amount'], limits=[0.05, 0.05])\n",
    "\n",
    "# drop the original Quantity and Revenue columns\n",
    "merged_df = merged_df.drop(['Units', 'Amount'], axis=1)\n",
    "\n",
    "# rename the winsorized columns to Quantity and Revenue\n",
    "merged_df = merged_df.rename(columns={'Quantity_wins': 'Quantity', 'Revenue_wins': 'Revenue'})\n"
   ]
  },
  {
   "cell_type": "code",
   "execution_count": 39,
   "metadata": {
    "scrolled": true
   },
   "outputs": [
    {
     "data": {
      "text/html": [
       "<div>\n",
       "<style scoped>\n",
       "    .dataframe tbody tr th:only-of-type {\n",
       "        vertical-align: middle;\n",
       "    }\n",
       "\n",
       "    .dataframe tbody tr th {\n",
       "        vertical-align: top;\n",
       "    }\n",
       "\n",
       "    .dataframe thead th {\n",
       "        text-align: right;\n",
       "    }\n",
       "</style>\n",
       "<table border=\"1\" class=\"dataframe\">\n",
       "  <thead>\n",
       "    <tr style=\"text-align: right;\">\n",
       "      <th></th>\n",
       "      <th>Customer ID</th>\n",
       "      <th>Mail Deliverable</th>\n",
       "      <th>Lifetime Recency</th>\n",
       "      <th>Lifetime Frequency</th>\n",
       "      <th>Lifetime Monetary</th>\n",
       "      <th>Closest store distance</th>\n",
       "      <th>Cost</th>\n",
       "      <th>Store</th>\n",
       "      <th>Month</th>\n",
       "      <th>Quarter</th>\n",
       "      <th>Year</th>\n",
       "      <th>Quantity</th>\n",
       "      <th>Revenue</th>\n",
       "    </tr>\n",
       "  </thead>\n",
       "  <tbody>\n",
       "    <tr>\n",
       "      <th>count</th>\n",
       "      <td>5.086580e+05</td>\n",
       "      <td>508658.000000</td>\n",
       "      <td>508658.000000</td>\n",
       "      <td>508658.000000</td>\n",
       "      <td>5.086580e+05</td>\n",
       "      <td>508658.000000</td>\n",
       "      <td>508658.000000</td>\n",
       "      <td>508658.000000</td>\n",
       "      <td>508658.000000</td>\n",
       "      <td>508658.000000</td>\n",
       "      <td>508658.0</td>\n",
       "      <td>508658.000000</td>\n",
       "      <td>508658.000000</td>\n",
       "    </tr>\n",
       "    <tr>\n",
       "      <th>mean</th>\n",
       "      <td>7.387322e+06</td>\n",
       "      <td>0.987699</td>\n",
       "      <td>6.245029</td>\n",
       "      <td>477.706123</td>\n",
       "      <td>6.677285e+06</td>\n",
       "      <td>30.809522</td>\n",
       "      <td>21.936384</td>\n",
       "      <td>512.259355</td>\n",
       "      <td>6.617175</td>\n",
       "      <td>2.532892</td>\n",
       "      <td>2019.0</td>\n",
       "      <td>1.109321</td>\n",
       "      <td>54.136544</td>\n",
       "    </tr>\n",
       "    <tr>\n",
       "      <th>std</th>\n",
       "      <td>4.136041e+06</td>\n",
       "      <td>0.110226</td>\n",
       "      <td>5.637524</td>\n",
       "      <td>790.874917</td>\n",
       "      <td>1.165894e+07</td>\n",
       "      <td>44.156678</td>\n",
       "      <td>13.905278</td>\n",
       "      <td>479.829295</td>\n",
       "      <td>3.396370</td>\n",
       "      <td>1.086637</td>\n",
       "      <td>0.0</td>\n",
       "      <td>0.312042</td>\n",
       "      <td>35.358256</td>\n",
       "    </tr>\n",
       "    <tr>\n",
       "      <th>min</th>\n",
       "      <td>1.806560e+06</td>\n",
       "      <td>0.000000</td>\n",
       "      <td>1.000000</td>\n",
       "      <td>1.000000</td>\n",
       "      <td>1.040000e+00</td>\n",
       "      <td>0.000000</td>\n",
       "      <td>0.000000</td>\n",
       "      <td>1.000000</td>\n",
       "      <td>1.000000</td>\n",
       "      <td>1.000000</td>\n",
       "      <td>2019.0</td>\n",
       "      <td>1.000000</td>\n",
       "      <td>5.370000</td>\n",
       "    </tr>\n",
       "    <tr>\n",
       "      <th>25%</th>\n",
       "      <td>4.405852e+06</td>\n",
       "      <td>1.000000</td>\n",
       "      <td>1.000000</td>\n",
       "      <td>10.000000</td>\n",
       "      <td>1.660040e+03</td>\n",
       "      <td>4.000000</td>\n",
       "      <td>13.630000</td>\n",
       "      <td>38.000000</td>\n",
       "      <td>4.000000</td>\n",
       "      <td>2.000000</td>\n",
       "      <td>2019.0</td>\n",
       "      <td>1.000000</td>\n",
       "      <td>23.980000</td>\n",
       "    </tr>\n",
       "    <tr>\n",
       "      <th>50%</th>\n",
       "      <td>6.595659e+06</td>\n",
       "      <td>1.000000</td>\n",
       "      <td>4.000000</td>\n",
       "      <td>25.000000</td>\n",
       "      <td>5.064030e+03</td>\n",
       "      <td>12.000000</td>\n",
       "      <td>19.250000</td>\n",
       "      <td>81.000000</td>\n",
       "      <td>7.000000</td>\n",
       "      <td>3.000000</td>\n",
       "      <td>2019.0</td>\n",
       "      <td>1.000000</td>\n",
       "      <td>49.980000</td>\n",
       "    </tr>\n",
       "    <tr>\n",
       "      <th>75%</th>\n",
       "      <td>8.683456e+06</td>\n",
       "      <td>1.000000</td>\n",
       "      <td>11.000000</td>\n",
       "      <td>185.000000</td>\n",
       "      <td>5.718102e+04</td>\n",
       "      <td>38.000000</td>\n",
       "      <td>27.000000</td>\n",
       "      <td>999.000000</td>\n",
       "      <td>9.000000</td>\n",
       "      <td>3.000000</td>\n",
       "      <td>2019.0</td>\n",
       "      <td>1.000000</td>\n",
       "      <td>79.950000</td>\n",
       "    </tr>\n",
       "    <tr>\n",
       "      <th>max</th>\n",
       "      <td>1.809589e+07</td>\n",
       "      <td>1.000000</td>\n",
       "      <td>22.000000</td>\n",
       "      <td>1859.000000</td>\n",
       "      <td>2.705182e+07</td>\n",
       "      <td>299.000000</td>\n",
       "      <td>900.000000</td>\n",
       "      <td>999.000000</td>\n",
       "      <td>12.000000</td>\n",
       "      <td>4.000000</td>\n",
       "      <td>2019.0</td>\n",
       "      <td>2.000000</td>\n",
       "      <td>128.950000</td>\n",
       "    </tr>\n",
       "  </tbody>\n",
       "</table>\n",
       "</div>"
      ],
      "text/plain": [
       "        Customer ID  Mail Deliverable  Lifetime Recency  Lifetime Frequency   \\\n",
       "count  5.086580e+05     508658.000000     508658.000000        508658.000000   \n",
       "mean   7.387322e+06          0.987699          6.245029           477.706123   \n",
       "std    4.136041e+06          0.110226          5.637524           790.874917   \n",
       "min    1.806560e+06          0.000000          1.000000             1.000000   \n",
       "25%    4.405852e+06          1.000000          1.000000            10.000000   \n",
       "50%    6.595659e+06          1.000000          4.000000            25.000000   \n",
       "75%    8.683456e+06          1.000000         11.000000           185.000000   \n",
       "max    1.809589e+07          1.000000         22.000000          1859.000000   \n",
       "\n",
       "       Lifetime Monetary  Closest store distance           Cost  \\\n",
       "count       5.086580e+05           508658.000000  508658.000000   \n",
       "mean        6.677285e+06               30.809522      21.936384   \n",
       "std         1.165894e+07               44.156678      13.905278   \n",
       "min         1.040000e+00                0.000000       0.000000   \n",
       "25%         1.660040e+03                4.000000      13.630000   \n",
       "50%         5.064030e+03               12.000000      19.250000   \n",
       "75%         5.718102e+04               38.000000      27.000000   \n",
       "max         2.705182e+07              299.000000     900.000000   \n",
       "\n",
       "               Store          Month        Quarter      Year       Quantity  \\\n",
       "count  508658.000000  508658.000000  508658.000000  508658.0  508658.000000   \n",
       "mean      512.259355       6.617175       2.532892    2019.0       1.109321   \n",
       "std       479.829295       3.396370       1.086637       0.0       0.312042   \n",
       "min         1.000000       1.000000       1.000000    2019.0       1.000000   \n",
       "25%        38.000000       4.000000       2.000000    2019.0       1.000000   \n",
       "50%        81.000000       7.000000       3.000000    2019.0       1.000000   \n",
       "75%       999.000000       9.000000       3.000000    2019.0       1.000000   \n",
       "max       999.000000      12.000000       4.000000    2019.0       2.000000   \n",
       "\n",
       "             Revenue  \n",
       "count  508658.000000  \n",
       "mean       54.136544  \n",
       "std        35.358256  \n",
       "min         5.370000  \n",
       "25%        23.980000  \n",
       "50%        49.980000  \n",
       "75%        79.950000  \n",
       "max       128.950000  "
      ]
     },
     "execution_count": 39,
     "metadata": {},
     "output_type": "execute_result"
    }
   ],
   "source": [
    "merged_df.describe()"
   ]
  },
  {
   "cell_type": "code",
   "execution_count": 43,
   "metadata": {},
   "outputs": [
    {
     "data": {
      "text/plain": [
       "APPAREL          385268\n",
       "BEAUTY            45202\n",
       "ACCESSORIES       17303\n",
       "JEWELRY           17019\n",
       "PERSONAL CARE     15985\n",
       "NOVELTY           10249\n",
       "BATH & BODY        9108\n",
       "FOOTWEAR           8524\n",
       "Name: Product, dtype: int64"
      ]
     },
     "execution_count": 43,
     "metadata": {},
     "output_type": "execute_result"
    }
   ],
   "source": [
    "merged_df['Product'].value_counts()"
   ]
  },
  {
   "cell_type": "code",
   "execution_count": 41,
   "metadata": {},
   "outputs": [
    {
     "data": {
      "image/png": "[encoded data removed]",
      "text/plain": [
       "<Figure size 576x432 with 1 Axes>"
      ]
     },
     "metadata": {
      "needs_background": "light"
     },
     "output_type": "display_data"
    }
   ],
   "source": [
    "# group the data by Product and sum the Amount column\n",
    "revenue_by_product = merged_df.groupby('Product')['Revenue'].sum()\n",
    "\n",
    "# create a bar plot\n",
    "fig, ax = plt.subplots(figsize=(8, 6))\n",
    "ax.bar(revenue_by_product.index, revenue_by_product.values)\n",
    "plt.xticks(rotation=45, ha='right')\n",
    "\n",
    "# add labels and title\n",
    "plt.xlabel('Product')\n",
    "plt.ylabel('Revenue')\n",
    "plt.title('Product Wise Revenue')\n",
    "\n",
    "# display the plot\n",
    "plt.show()"
   ]
  },
  {
   "cell_type": "code",
   "execution_count": 44,
   "metadata": {},
   "outputs": [
    {
     "data": {
      "text/plain": [
       "POS Sales    258124\n",
       "Internet     250534\n",
       "Name: Channel, dtype: int64"
      ]
     },
     "execution_count": 44,
     "metadata": {},
     "output_type": "execute_result"
    }
   ],
   "source": [
    "merged_df['Channel'].value_counts()"
   ]
  },
  {
   "cell_type": "code",
   "execution_count": 42,
   "metadata": {},
   "outputs": [
    {
     "data": {
      "image/png": "[encoded data removed]",
      "text/plain": [
       "<Figure size 576x432 with 1 Axes>"
      ]
     },
     "metadata": {
      "needs_background": "light"
     },
     "output_type": "display_data"
    }
   ],
   "source": [
    "# group the data by channel and sum the Amount column\n",
    "revenue_by_channel = merged_df.groupby('Channel')['Revenue'].sum()\n",
    "\n",
    "# create a bar plot\n",
    "fig, ax = plt.subplots(figsize=(8, 6))\n",
    "ax.bar(revenue_by_channel.index, revenue_by_channel.values)\n",
    "plt.xticks(rotation=45, ha='right')\n",
    "\n",
    "# add labels and title\n",
    "plt.xlabel('Channel')\n",
    "plt.ylabel('Revenue')\n",
    "plt.title('Channel Wise Revenue')\n",
    "\n",
    "# display the plot\n",
    "plt.show()"
   ]
  },
  {
   "cell_type": "code",
   "execution_count": 45,
   "metadata": {},
   "outputs": [
    {
     "data": {
      "text/plain": [
       "1    502401\n",
       "0      6257\n",
       "Name: Mail Deliverable, dtype: int64"
      ]
     },
     "execution_count": 45,
     "metadata": {},
     "output_type": "execute_result"
    }
   ],
   "source": [
    "merged_df['Mail Deliverable'].value_counts()"
   ]
  },
  {
   "cell_type": "code",
   "execution_count": 48,
   "metadata": {
    "scrolled": true
   },
   "outputs": [
    {
     "data": {
      "image/png": "[encoded data removed]",
      "text/plain": [
       "<Figure size 576x432 with 1 Axes>"
      ]
     },
     "metadata": {
      "needs_background": "light"
     },
     "output_type": "display_data"
    }
   ],
   "source": [
    "mail_delivered_1 = merged_df[merged_df['Mail Deliverable'] == 1]\n",
    "channel_type = mail_delivered_1['Channel'].value_counts(normalize=True) * 100\n",
    "\n",
    "# Create bar plot\n",
    "fig, ax = plt.subplots(figsize=(8, 6))\n",
    "ax.bar(channel_type.index, channel_type.values, color='blue')\n",
    "ax.set_xlabel('Channel Type')\n",
    "ax.set_ylabel('Percentage')\n",
    "ax.set_title('Percentage of Channel Type used for Transactions when Mail Delivered is 1')\n",
    "plt.show()"
   ]
  },
  {
   "cell_type": "code",
   "execution_count": 50,
   "metadata": {},
   "outputs": [
    {
     "data": {
      "image/png": "[encoded data removed]",
      "text/plain": [
       "<Figure size 576x432 with 1 Axes>"
      ]
     },
     "metadata": {
      "needs_background": "light"
     },
     "output_type": "display_data"
    }
   ],
   "source": [
    "mail_delivered_0 = merged_df[merged_df['Mail Deliverable'] == 0]\n",
    "channel_type = mail_delivered_0['Channel'].value_counts(normalize=True) * 100\n",
    "\n",
    "# Create bar plot\n",
    "fig, ax = plt.subplots(figsize=(8, 6))\n",
    "ax.bar(channel_type.index, channel_type.values, color='green')\n",
    "ax.set_xlabel('Channel Type')\n",
    "ax.set_ylabel('Percentage')\n",
    "ax.set_title('Percentage of Channel Type used for Transactions when Mail Delivered is 0')\n",
    "plt.show()"
   ]
  },
  {
   "cell_type": "code",
   "execution_count": 40,
   "metadata": {},
   "outputs": [
    {
     "data": {
      "image/png": "[encoded data removed]",
      "text/plain": [
       "<Figure size 432x288 with 1 Axes>"
      ]
     },
     "metadata": {
      "needs_background": "light"
     },
     "output_type": "display_data"
    }
   ],
   "source": [
    "mail_delivered_monthly = merged_df.groupby('Month')['Mail Deliverable'].sum()\n",
    "\n",
    "# plotting the data\n",
    "plt.plot(mail_delivered_monthly.index, mail_delivered_monthly.values)\n",
    "plt.xlabel('Month')\n",
    "plt.ylabel('Mail Delivered')\n",
    "plt.title('Mail Delivered Month-wise')\n",
    "plt.show()"
   ]
  },
  {
   "cell_type": "code",
   "execution_count": 52,
   "metadata": {},
   "outputs": [
    {
     "data": {
      "image/png": "[encoded data removed]",
      "text/plain": [
       "<Figure size 720x432 with 1 Axes>"
      ]
     },
     "metadata": {
      "needs_background": "light"
     },
     "output_type": "display_data"
    }
   ],
   "source": [
    "# create a pivot table to aggregate monthly sales by channel type\n",
    "monthly_sales_by_channel = pd.pivot_table(merged_df, values='Revenue', index='Month', columns='Channel', aggfunc='sum')\n",
    "\n",
    "# create a line plot to visualize the monthly sales by channel type\n",
    "monthly_sales_by_channel.plot(kind='line', figsize=(10, 6))\n",
    "\n",
    "# set plot title and labels\n",
    "plt.title('Monthly Sales by Channel Type')\n",
    "plt.xlabel('Month')\n",
    "plt.ylabel('Revenue')\n",
    "\n",
    "# show the plot\n",
    "plt.show()"
   ]
  },
  {
   "cell_type": "markdown",
   "metadata": {},
   "source": [
    "### Questions"
   ]
  },
  {
   "cell_type": "markdown",
   "metadata": {},
   "source": [
    "#### Q1. Aggregate the revenue and quantity at customer level for relevant time period along with the reason of time period selection"
   ]
  },
  {
   "cell_type": "markdown",
   "metadata": {},
   "source": [
    "To aggregate revenue and quantity at the customer level, we need to first identify the relevant time period for analysis\n",
    "\n",
    "1.Monthly: Aggregating the data at the monthly level can provide insights into trends over time and seasonal variations.\n",
    "\n",
    "2.Quarterly: Aggregating the data at the quarterly level can provide a higher-level view of performance and may be useful for reporting purposes."
   ]
  },
  {
   "cell_type": "code",
   "execution_count": 53,
   "metadata": {},
   "outputs": [],
   "source": [
    "monthly_df = merged_df.groupby(['Customer ID', 'Month']).agg({'Revenue': 'sum','Quantity': 'sum'}).reset_index()"
   ]
  },
  {
   "cell_type": "code",
   "execution_count": 54,
   "metadata": {},
   "outputs": [
    {
     "data": {
      "text/html": [
       "<div>\n",
       "<style scoped>\n",
       "    .dataframe tbody tr th:only-of-type {\n",
       "        vertical-align: middle;\n",
       "    }\n",
       "\n",
       "    .dataframe tbody tr th {\n",
       "        vertical-align: top;\n",
       "    }\n",
       "\n",
       "    .dataframe thead th {\n",
       "        text-align: right;\n",
       "    }\n",
       "</style>\n",
       "<table border=\"1\" class=\"dataframe\">\n",
       "  <thead>\n",
       "    <tr style=\"text-align: right;\">\n",
       "      <th></th>\n",
       "      <th>Customer ID</th>\n",
       "      <th>Month</th>\n",
       "      <th>Revenue</th>\n",
       "      <th>Quantity</th>\n",
       "    </tr>\n",
       "  </thead>\n",
       "  <tbody>\n",
       "    <tr>\n",
       "      <th>0</th>\n",
       "      <td>1806560</td>\n",
       "      <td>9</td>\n",
       "      <td>234.84</td>\n",
       "      <td>7</td>\n",
       "    </tr>\n",
       "    <tr>\n",
       "      <th>1</th>\n",
       "      <td>1806593</td>\n",
       "      <td>1</td>\n",
       "      <td>278.85</td>\n",
       "      <td>3</td>\n",
       "    </tr>\n",
       "    <tr>\n",
       "      <th>2</th>\n",
       "      <td>1806727</td>\n",
       "      <td>1</td>\n",
       "      <td>108.95</td>\n",
       "      <td>1</td>\n",
       "    </tr>\n",
       "    <tr>\n",
       "      <th>3</th>\n",
       "      <td>1806727</td>\n",
       "      <td>4</td>\n",
       "      <td>508.70</td>\n",
       "      <td>6</td>\n",
       "    </tr>\n",
       "    <tr>\n",
       "      <th>4</th>\n",
       "      <td>1806727</td>\n",
       "      <td>10</td>\n",
       "      <td>79.95</td>\n",
       "      <td>1</td>\n",
       "    </tr>\n",
       "  </tbody>\n",
       "</table>\n",
       "</div>"
      ],
      "text/plain": [
       "   Customer ID  Month  Revenue  Quantity\n",
       "0      1806560      9   234.84         7\n",
       "1      1806593      1   278.85         3\n",
       "2      1806727      1   108.95         1\n",
       "3      1806727      4   508.70         6\n",
       "4      1806727     10    79.95         1"
      ]
     },
     "execution_count": 54,
     "metadata": {},
     "output_type": "execute_result"
    }
   ],
   "source": [
    "monthly_df.head()"
   ]
  },
  {
   "cell_type": "code",
   "execution_count": 55,
   "metadata": {},
   "outputs": [
    {
     "data": {
      "image/png": "[encoded data removed]",
      "text/plain": [
       "<Figure size 432x288 with 1 Axes>"
      ]
     },
     "metadata": {
      "needs_background": "light"
     },
     "output_type": "display_data"
    }
   ],
   "source": [
    "import matplotlib.pyplot as plt\n",
    "\n",
    "# Group the data by Month and calculate the sum of Amount\n",
    "monthly_amount = monthly_df.groupby('Month')['Revenue'].sum()\n",
    "\n",
    "# Create a line chart using Matplotlib\n",
    "plt.plot(monthly_amount.index, monthly_amount.values)\n",
    "\n",
    "# Set the chart title and axis labels\n",
    "plt.title('Monthly Sales')\n",
    "plt.xlabel('Month')\n",
    "plt.ylabel('Revenue')\n",
    "\n",
    "# Show the plot\n",
    "plt.show()\n"
   ]
  },
  {
   "cell_type": "code",
   "execution_count": 56,
   "metadata": {},
   "outputs": [],
   "source": [
    "quarterly_df = merged_df.groupby(['Customer ID', 'Quarter']).agg({'Revenue': 'sum','Quantity': 'sum'}).reset_index()"
   ]
  },
  {
   "cell_type": "code",
   "execution_count": 57,
   "metadata": {},
   "outputs": [
    {
     "data": {
      "text/html": [
       "<div>\n",
       "<style scoped>\n",
       "    .dataframe tbody tr th:only-of-type {\n",
       "        vertical-align: middle;\n",
       "    }\n",
       "\n",
       "    .dataframe tbody tr th {\n",
       "        vertical-align: top;\n",
       "    }\n",
       "\n",
       "    .dataframe thead th {\n",
       "        text-align: right;\n",
       "    }\n",
       "</style>\n",
       "<table border=\"1\" class=\"dataframe\">\n",
       "  <thead>\n",
       "    <tr style=\"text-align: right;\">\n",
       "      <th></th>\n",
       "      <th>Customer ID</th>\n",
       "      <th>Quarter</th>\n",
       "      <th>Revenue</th>\n",
       "      <th>Quantity</th>\n",
       "    </tr>\n",
       "  </thead>\n",
       "  <tbody>\n",
       "    <tr>\n",
       "      <th>0</th>\n",
       "      <td>1806560</td>\n",
       "      <td>3</td>\n",
       "      <td>234.84</td>\n",
       "      <td>7</td>\n",
       "    </tr>\n",
       "    <tr>\n",
       "      <th>1</th>\n",
       "      <td>1806593</td>\n",
       "      <td>1</td>\n",
       "      <td>278.85</td>\n",
       "      <td>3</td>\n",
       "    </tr>\n",
       "    <tr>\n",
       "      <th>2</th>\n",
       "      <td>1806727</td>\n",
       "      <td>1</td>\n",
       "      <td>108.95</td>\n",
       "      <td>1</td>\n",
       "    </tr>\n",
       "    <tr>\n",
       "      <th>3</th>\n",
       "      <td>1806727</td>\n",
       "      <td>2</td>\n",
       "      <td>508.70</td>\n",
       "      <td>6</td>\n",
       "    </tr>\n",
       "    <tr>\n",
       "      <th>4</th>\n",
       "      <td>1806727</td>\n",
       "      <td>4</td>\n",
       "      <td>79.95</td>\n",
       "      <td>1</td>\n",
       "    </tr>\n",
       "  </tbody>\n",
       "</table>\n",
       "</div>"
      ],
      "text/plain": [
       "   Customer ID  Quarter  Revenue  Quantity\n",
       "0      1806560        3   234.84         7\n",
       "1      1806593        1   278.85         3\n",
       "2      1806727        1   108.95         1\n",
       "3      1806727        2   508.70         6\n",
       "4      1806727        4    79.95         1"
      ]
     },
     "execution_count": 57,
     "metadata": {},
     "output_type": "execute_result"
    }
   ],
   "source": [
    "quarterly_df.head()"
   ]
  },
  {
   "cell_type": "code",
   "execution_count": 58,
   "metadata": {},
   "outputs": [
    {
     "data": {
      "image/png": "[encoded data removed]",
      "text/plain": [
       "<Figure size 432x288 with 1 Axes>"
      ]
     },
     "metadata": {
      "needs_background": "light"
     },
     "output_type": "display_data"
    }
   ],
   "source": [
    "# Group the data by Quarter and calculate the sum of Amount\n",
    "quarterly_amount = quarterly_df.groupby('Quarter')['Revenue'].sum()\n",
    "\n",
    "# Create a line chart using Matplotlib\n",
    "plt.plot(quarterly_amount.index, quarterly_amount.values)\n",
    "\n",
    "# Set the chart title and axis labels\n",
    "plt.title('Quarterly Sales')\n",
    "plt.xlabel('Quarter')\n",
    "plt.ylabel('Revenue')\n",
    "\n",
    "# Show the plot\n",
    "plt.show()\n"
   ]
  },
  {
   "cell_type": "code",
   "execution_count": 59,
   "metadata": {},
   "outputs": [
    {
     "data": {
      "text/html": [
       "<div>\n",
       "<style scoped>\n",
       "    .dataframe tbody tr th:only-of-type {\n",
       "        vertical-align: middle;\n",
       "    }\n",
       "\n",
       "    .dataframe tbody tr th {\n",
       "        vertical-align: top;\n",
       "    }\n",
       "\n",
       "    .dataframe thead th {\n",
       "        text-align: right;\n",
       "    }\n",
       "</style>\n",
       "<table border=\"1\" class=\"dataframe\">\n",
       "  <thead>\n",
       "    <tr style=\"text-align: right;\">\n",
       "      <th></th>\n",
       "      <th>Customer ID</th>\n",
       "      <th>Revenue</th>\n",
       "    </tr>\n",
       "  </thead>\n",
       "  <tbody>\n",
       "    <tr>\n",
       "      <th>0</th>\n",
       "      <td>1806560</td>\n",
       "      <td>33.548571</td>\n",
       "    </tr>\n",
       "    <tr>\n",
       "      <th>1</th>\n",
       "      <td>1806593</td>\n",
       "      <td>92.950000</td>\n",
       "    </tr>\n",
       "    <tr>\n",
       "      <th>2</th>\n",
       "      <td>1806727</td>\n",
       "      <td>87.200000</td>\n",
       "    </tr>\n",
       "    <tr>\n",
       "      <th>3</th>\n",
       "      <td>1806735</td>\n",
       "      <td>88.925000</td>\n",
       "    </tr>\n",
       "    <tr>\n",
       "      <th>4</th>\n",
       "      <td>1806741</td>\n",
       "      <td>41.200000</td>\n",
       "    </tr>\n",
       "  </tbody>\n",
       "</table>\n",
       "</div>"
      ],
      "text/plain": [
       "   Customer ID    Revenue\n",
       "0      1806560  33.548571\n",
       "1      1806593  92.950000\n",
       "2      1806727  87.200000\n",
       "3      1806735  88.925000\n",
       "4      1806741  41.200000"
      ]
     },
     "execution_count": 59,
     "metadata": {},
     "output_type": "execute_result"
    }
   ],
   "source": [
    "avg_order_value_per_customer = merged_df.groupby(['Customer ID']).agg({'Revenue': 'mean'}).reset_index()\n",
    "avg_order_value_per_customer.head()"
   ]
  },
  {
   "cell_type": "code",
   "execution_count": 60,
   "metadata": {},
   "outputs": [
    {
     "data": {
      "text/plain": [
       "Timestamp('2019-12-31 00:00:00')"
      ]
     },
     "execution_count": 60,
     "metadata": {},
     "output_type": "execute_result"
    }
   ],
   "source": [
    "# compute the max date\n",
    "max_date = max(merged_df['Date'])\n",
    "max_date"
   ]
  },
  {
   "cell_type": "code",
   "execution_count": 61,
   "metadata": {},
   "outputs": [
    {
     "data": {
      "text/html": [
       "<div>\n",
       "<style scoped>\n",
       "    .dataframe tbody tr th:only-of-type {\n",
       "        vertical-align: middle;\n",
       "    }\n",
       "\n",
       "    .dataframe tbody tr th {\n",
       "        vertical-align: top;\n",
       "    }\n",
       "\n",
       "    .dataframe thead th {\n",
       "        text-align: right;\n",
       "    }\n",
       "</style>\n",
       "<table border=\"1\" class=\"dataframe\">\n",
       "  <thead>\n",
       "    <tr style=\"text-align: right;\">\n",
       "      <th></th>\n",
       "      <th>Customer ID</th>\n",
       "      <th>Mail Deliverable</th>\n",
       "      <th>Lifetime Recency</th>\n",
       "      <th>Lifetime Frequency</th>\n",
       "      <th>Lifetime Monetary</th>\n",
       "      <th>Closest store distance</th>\n",
       "      <th>Date</th>\n",
       "      <th>Product</th>\n",
       "      <th>Cost</th>\n",
       "      <th>Channel</th>\n",
       "      <th>Store</th>\n",
       "      <th>Month</th>\n",
       "      <th>Quarter</th>\n",
       "      <th>Year</th>\n",
       "      <th>Quantity</th>\n",
       "      <th>Revenue</th>\n",
       "      <th>diff</th>\n",
       "    </tr>\n",
       "  </thead>\n",
       "  <tbody>\n",
       "    <tr>\n",
       "      <th>0</th>\n",
       "      <td>4482047</td>\n",
       "      <td>1</td>\n",
       "      <td>15</td>\n",
       "      <td>2</td>\n",
       "      <td>118.90</td>\n",
       "      <td>8.0</td>\n",
       "      <td>2019-07-06</td>\n",
       "      <td>APPAREL</td>\n",
       "      <td>23.00</td>\n",
       "      <td>Internet</td>\n",
       "      <td>999</td>\n",
       "      <td>7</td>\n",
       "      <td>3</td>\n",
       "      <td>2019</td>\n",
       "      <td>1</td>\n",
       "      <td>108.95</td>\n",
       "      <td>178 days</td>\n",
       "    </tr>\n",
       "    <tr>\n",
       "      <th>1</th>\n",
       "      <td>6564872</td>\n",
       "      <td>1</td>\n",
       "      <td>4</td>\n",
       "      <td>6</td>\n",
       "      <td>1785.20</td>\n",
       "      <td>13.0</td>\n",
       "      <td>2019-12-13</td>\n",
       "      <td>APPAREL</td>\n",
       "      <td>16.31</td>\n",
       "      <td>Internet</td>\n",
       "      <td>999</td>\n",
       "      <td>12</td>\n",
       "      <td>4</td>\n",
       "      <td>2019</td>\n",
       "      <td>1</td>\n",
       "      <td>69.95</td>\n",
       "      <td>18 days</td>\n",
       "    </tr>\n",
       "    <tr>\n",
       "      <th>2</th>\n",
       "      <td>7004515</td>\n",
       "      <td>1</td>\n",
       "      <td>11</td>\n",
       "      <td>23</td>\n",
       "      <td>2068.93</td>\n",
       "      <td>23.0</td>\n",
       "      <td>2019-11-21</td>\n",
       "      <td>APPAREL</td>\n",
       "      <td>39.75</td>\n",
       "      <td>Internet</td>\n",
       "      <td>999</td>\n",
       "      <td>11</td>\n",
       "      <td>4</td>\n",
       "      <td>2019</td>\n",
       "      <td>1</td>\n",
       "      <td>119.95</td>\n",
       "      <td>40 days</td>\n",
       "    </tr>\n",
       "    <tr>\n",
       "      <th>3</th>\n",
       "      <td>7004515</td>\n",
       "      <td>1</td>\n",
       "      <td>11</td>\n",
       "      <td>23</td>\n",
       "      <td>2068.93</td>\n",
       "      <td>23.0</td>\n",
       "      <td>2019-07-20</td>\n",
       "      <td>APPAREL</td>\n",
       "      <td>14.75</td>\n",
       "      <td>Internet</td>\n",
       "      <td>999</td>\n",
       "      <td>7</td>\n",
       "      <td>3</td>\n",
       "      <td>2019</td>\n",
       "      <td>1</td>\n",
       "      <td>59.95</td>\n",
       "      <td>164 days</td>\n",
       "    </tr>\n",
       "    <tr>\n",
       "      <th>4</th>\n",
       "      <td>6429944</td>\n",
       "      <td>1</td>\n",
       "      <td>11</td>\n",
       "      <td>8</td>\n",
       "      <td>2813.77</td>\n",
       "      <td>9.0</td>\n",
       "      <td>2019-12-11</td>\n",
       "      <td>APPAREL</td>\n",
       "      <td>15.76</td>\n",
       "      <td>Internet</td>\n",
       "      <td>999</td>\n",
       "      <td>12</td>\n",
       "      <td>4</td>\n",
       "      <td>2019</td>\n",
       "      <td>1</td>\n",
       "      <td>79.95</td>\n",
       "      <td>20 days</td>\n",
       "    </tr>\n",
       "  </tbody>\n",
       "</table>\n",
       "</div>"
      ],
      "text/plain": [
       "   Customer ID  Mail Deliverable  Lifetime Recency  Lifetime Frequency   \\\n",
       "0      4482047                 1                15                    2   \n",
       "1      6564872                 1                 4                    6   \n",
       "2      7004515                 1                11                   23   \n",
       "3      7004515                 1                11                   23   \n",
       "4      6429944                 1                11                    8   \n",
       "\n",
       "   Lifetime Monetary  Closest store distance       Date  Product   Cost  \\\n",
       "0             118.90                     8.0 2019-07-06  APPAREL  23.00   \n",
       "1            1785.20                    13.0 2019-12-13  APPAREL  16.31   \n",
       "2            2068.93                    23.0 2019-11-21  APPAREL  39.75   \n",
       "3            2068.93                    23.0 2019-07-20  APPAREL  14.75   \n",
       "4            2813.77                     9.0 2019-12-11  APPAREL  15.76   \n",
       "\n",
       "    Channel  Store  Month  Quarter  Year  Quantity  Revenue     diff  \n",
       "0  Internet    999      7        3  2019         1   108.95 178 days  \n",
       "1  Internet    999     12        4  2019         1    69.95  18 days  \n",
       "2  Internet    999     11        4  2019         1   119.95  40 days  \n",
       "3  Internet    999      7        3  2019         1    59.95 164 days  \n",
       "4  Internet    999     12        4  2019         1    79.95  20 days  "
      ]
     },
     "execution_count": 61,
     "metadata": {},
     "output_type": "execute_result"
    }
   ],
   "source": [
    "# compute the diff\n",
    "merged_df['diff'] = max_date - merged_df['Date']\n",
    "merged_df.head()"
   ]
  },
  {
   "cell_type": "code",
   "execution_count": 62,
   "metadata": {},
   "outputs": [
    {
     "data": {
      "text/html": [
       "<div>\n",
       "<style scoped>\n",
       "    .dataframe tbody tr th:only-of-type {\n",
       "        vertical-align: middle;\n",
       "    }\n",
       "\n",
       "    .dataframe tbody tr th {\n",
       "        vertical-align: top;\n",
       "    }\n",
       "\n",
       "    .dataframe thead th {\n",
       "        text-align: right;\n",
       "    }\n",
       "</style>\n",
       "<table border=\"1\" class=\"dataframe\">\n",
       "  <thead>\n",
       "    <tr style=\"text-align: right;\">\n",
       "      <th></th>\n",
       "      <th>Customer ID</th>\n",
       "      <th>Lifetime Monetary</th>\n",
       "    </tr>\n",
       "  </thead>\n",
       "  <tbody>\n",
       "    <tr>\n",
       "      <th>0</th>\n",
       "      <td>1806560</td>\n",
       "      <td>27763.19</td>\n",
       "    </tr>\n",
       "    <tr>\n",
       "      <th>1</th>\n",
       "      <td>1806593</td>\n",
       "      <td>4314.69</td>\n",
       "    </tr>\n",
       "    <tr>\n",
       "      <th>2</th>\n",
       "      <td>1806727</td>\n",
       "      <td>16492.96</td>\n",
       "    </tr>\n",
       "    <tr>\n",
       "      <th>3</th>\n",
       "      <td>1806735</td>\n",
       "      <td>1822.02</td>\n",
       "    </tr>\n",
       "    <tr>\n",
       "      <th>4</th>\n",
       "      <td>1806741</td>\n",
       "      <td>11842.16</td>\n",
       "    </tr>\n",
       "  </tbody>\n",
       "</table>\n",
       "</div>"
      ],
      "text/plain": [
       "   Customer ID  Lifetime Monetary\n",
       "0      1806560           27763.19\n",
       "1      1806593            4314.69\n",
       "2      1806727           16492.96\n",
       "3      1806735            1822.02\n",
       "4      1806741           11842.16"
      ]
     },
     "execution_count": 62,
     "metadata": {},
     "output_type": "execute_result"
    }
   ],
   "source": [
    "# monetary\n",
    "grouped_df = merged_df.groupby('Customer ID')['Lifetime Monetary'].sum()\n",
    "grouped_df = grouped_df.reset_index()\n",
    "grouped_df.head()"
   ]
  },
  {
   "cell_type": "code",
   "execution_count": 63,
   "metadata": {},
   "outputs": [
    {
     "data": {
      "text/plain": [
       "Index(['Customer ID', 'Mail Deliverable', 'Lifetime Recency',\n",
       "       'Lifetime Frequency ', 'Lifetime Monetary', 'Closest store distance',\n",
       "       'Date', 'Product', 'Cost', 'Channel', 'Store', 'Month', 'Quarter',\n",
       "       'Year', 'Quantity', 'Revenue', 'diff'],\n",
       "      dtype='object')"
      ]
     },
     "execution_count": 63,
     "metadata": {},
     "output_type": "execute_result"
    }
   ],
   "source": [
    "merged_df.columns"
   ]
  },
  {
   "cell_type": "code",
   "execution_count": 64,
   "metadata": {},
   "outputs": [
    {
     "data": {
      "text/html": [
       "<div>\n",
       "<style scoped>\n",
       "    .dataframe tbody tr th:only-of-type {\n",
       "        vertical-align: middle;\n",
       "    }\n",
       "\n",
       "    .dataframe tbody tr th {\n",
       "        vertical-align: top;\n",
       "    }\n",
       "\n",
       "    .dataframe thead th {\n",
       "        text-align: right;\n",
       "    }\n",
       "</style>\n",
       "<table border=\"1\" class=\"dataframe\">\n",
       "  <thead>\n",
       "    <tr style=\"text-align: right;\">\n",
       "      <th></th>\n",
       "      <th>Customer ID</th>\n",
       "      <th>Lifetime Frequency</th>\n",
       "    </tr>\n",
       "  </thead>\n",
       "  <tbody>\n",
       "    <tr>\n",
       "      <th>0</th>\n",
       "      <td>1806560</td>\n",
       "      <td>7</td>\n",
       "    </tr>\n",
       "    <tr>\n",
       "      <th>1</th>\n",
       "      <td>1806593</td>\n",
       "      <td>3</td>\n",
       "    </tr>\n",
       "    <tr>\n",
       "      <th>2</th>\n",
       "      <td>1806727</td>\n",
       "      <td>8</td>\n",
       "    </tr>\n",
       "    <tr>\n",
       "      <th>3</th>\n",
       "      <td>1806735</td>\n",
       "      <td>2</td>\n",
       "    </tr>\n",
       "    <tr>\n",
       "      <th>4</th>\n",
       "      <td>1806741</td>\n",
       "      <td>4</td>\n",
       "    </tr>\n",
       "  </tbody>\n",
       "</table>\n",
       "</div>"
      ],
      "text/plain": [
       "   Customer ID  Lifetime Frequency \n",
       "0      1806560                    7\n",
       "1      1806593                    3\n",
       "2      1806727                    8\n",
       "3      1806735                    2\n",
       "4      1806741                    4"
      ]
     },
     "execution_count": 64,
     "metadata": {},
     "output_type": "execute_result"
    }
   ],
   "source": [
    "# frequency\n",
    "frequency = merged_df.groupby('Customer ID')['Lifetime Frequency '].count()\n",
    "frequency = frequency.reset_index()\n",
    "frequency.columns = ['Customer ID', 'Lifetime Frequency ']\n",
    "frequency.head()"
   ]
  },
  {
   "cell_type": "code",
   "execution_count": 65,
   "metadata": {},
   "outputs": [
    {
     "data": {
      "text/html": [
       "<div>\n",
       "<style scoped>\n",
       "    .dataframe tbody tr th:only-of-type {\n",
       "        vertical-align: middle;\n",
       "    }\n",
       "\n",
       "    .dataframe tbody tr th {\n",
       "        vertical-align: top;\n",
       "    }\n",
       "\n",
       "    .dataframe thead th {\n",
       "        text-align: right;\n",
       "    }\n",
       "</style>\n",
       "<table border=\"1\" class=\"dataframe\">\n",
       "  <thead>\n",
       "    <tr style=\"text-align: right;\">\n",
       "      <th></th>\n",
       "      <th>Customer ID</th>\n",
       "      <th>Lifetime Monetary</th>\n",
       "      <th>Lifetime Frequency</th>\n",
       "    </tr>\n",
       "  </thead>\n",
       "  <tbody>\n",
       "    <tr>\n",
       "      <th>0</th>\n",
       "      <td>1806560</td>\n",
       "      <td>27763.19</td>\n",
       "      <td>7</td>\n",
       "    </tr>\n",
       "    <tr>\n",
       "      <th>1</th>\n",
       "      <td>1806593</td>\n",
       "      <td>4314.69</td>\n",
       "      <td>3</td>\n",
       "    </tr>\n",
       "    <tr>\n",
       "      <th>2</th>\n",
       "      <td>1806727</td>\n",
       "      <td>16492.96</td>\n",
       "      <td>8</td>\n",
       "    </tr>\n",
       "    <tr>\n",
       "      <th>3</th>\n",
       "      <td>1806735</td>\n",
       "      <td>1822.02</td>\n",
       "      <td>2</td>\n",
       "    </tr>\n",
       "    <tr>\n",
       "      <th>4</th>\n",
       "      <td>1806741</td>\n",
       "      <td>11842.16</td>\n",
       "      <td>4</td>\n",
       "    </tr>\n",
       "  </tbody>\n",
       "</table>\n",
       "</div>"
      ],
      "text/plain": [
       "   Customer ID  Lifetime Monetary  Lifetime Frequency \n",
       "0      1806560           27763.19                    7\n",
       "1      1806593            4314.69                    3\n",
       "2      1806727           16492.96                    8\n",
       "3      1806735            1822.02                    2\n",
       "4      1806741           11842.16                    4"
      ]
     },
     "execution_count": 65,
     "metadata": {},
     "output_type": "execute_result"
    }
   ],
   "source": [
    "# merge the two dfs\n",
    "grouped_df = pd.merge(grouped_df, frequency, on='Customer ID', how='inner')\n",
    "grouped_df.head()"
   ]
  },
  {
   "cell_type": "code",
   "execution_count": 66,
   "metadata": {},
   "outputs": [
    {
     "data": {
      "text/html": [
       "<div>\n",
       "<style scoped>\n",
       "    .dataframe tbody tr th:only-of-type {\n",
       "        vertical-align: middle;\n",
       "    }\n",
       "\n",
       "    .dataframe tbody tr th {\n",
       "        vertical-align: top;\n",
       "    }\n",
       "\n",
       "    .dataframe thead th {\n",
       "        text-align: right;\n",
       "    }\n",
       "</style>\n",
       "<table border=\"1\" class=\"dataframe\">\n",
       "  <thead>\n",
       "    <tr style=\"text-align: right;\">\n",
       "      <th></th>\n",
       "      <th>Customer ID</th>\n",
       "      <th>Lifetime Recency</th>\n",
       "    </tr>\n",
       "  </thead>\n",
       "  <tbody>\n",
       "    <tr>\n",
       "      <th>0</th>\n",
       "      <td>1806560</td>\n",
       "      <td>2</td>\n",
       "    </tr>\n",
       "    <tr>\n",
       "      <th>1</th>\n",
       "      <td>1806593</td>\n",
       "      <td>3</td>\n",
       "    </tr>\n",
       "    <tr>\n",
       "      <th>2</th>\n",
       "      <td>1806727</td>\n",
       "      <td>1</td>\n",
       "    </tr>\n",
       "    <tr>\n",
       "      <th>3</th>\n",
       "      <td>1806735</td>\n",
       "      <td>1</td>\n",
       "    </tr>\n",
       "    <tr>\n",
       "      <th>4</th>\n",
       "      <td>1806741</td>\n",
       "      <td>18</td>\n",
       "    </tr>\n",
       "  </tbody>\n",
       "</table>\n",
       "</div>"
      ],
      "text/plain": [
       "   Customer ID  Lifetime Recency\n",
       "0      1806560                 2\n",
       "1      1806593                 3\n",
       "2      1806727                 1\n",
       "3      1806735                 1\n",
       "4      1806741                18"
      ]
     },
     "execution_count": 66,
     "metadata": {},
     "output_type": "execute_result"
    }
   ],
   "source": [
    "recency = merged_df.groupby('Customer ID')['Lifetime Recency'].min()\n",
    "recency = recency.reset_index()\n",
    "recency.columns = ['Customer ID', 'Lifetime Recency']\n",
    "recency.head()"
   ]
  },
  {
   "cell_type": "code",
   "execution_count": 67,
   "metadata": {},
   "outputs": [
    {
     "data": {
      "text/html": [
       "<div>\n",
       "<style scoped>\n",
       "    .dataframe tbody tr th:only-of-type {\n",
       "        vertical-align: middle;\n",
       "    }\n",
       "\n",
       "    .dataframe tbody tr th {\n",
       "        vertical-align: top;\n",
       "    }\n",
       "\n",
       "    .dataframe thead th {\n",
       "        text-align: right;\n",
       "    }\n",
       "</style>\n",
       "<table border=\"1\" class=\"dataframe\">\n",
       "  <thead>\n",
       "    <tr style=\"text-align: right;\">\n",
       "      <th></th>\n",
       "      <th>Customer ID</th>\n",
       "      <th>Lifetime Monetary</th>\n",
       "      <th>Lifetime Frequency</th>\n",
       "      <th>Lifetime Recency</th>\n",
       "    </tr>\n",
       "  </thead>\n",
       "  <tbody>\n",
       "    <tr>\n",
       "      <th>0</th>\n",
       "      <td>1806560</td>\n",
       "      <td>27763.19</td>\n",
       "      <td>7</td>\n",
       "      <td>2</td>\n",
       "    </tr>\n",
       "    <tr>\n",
       "      <th>1</th>\n",
       "      <td>1806593</td>\n",
       "      <td>4314.69</td>\n",
       "      <td>3</td>\n",
       "      <td>3</td>\n",
       "    </tr>\n",
       "    <tr>\n",
       "      <th>2</th>\n",
       "      <td>1806727</td>\n",
       "      <td>16492.96</td>\n",
       "      <td>8</td>\n",
       "      <td>1</td>\n",
       "    </tr>\n",
       "    <tr>\n",
       "      <th>3</th>\n",
       "      <td>1806735</td>\n",
       "      <td>1822.02</td>\n",
       "      <td>2</td>\n",
       "      <td>1</td>\n",
       "    </tr>\n",
       "    <tr>\n",
       "      <th>4</th>\n",
       "      <td>1806741</td>\n",
       "      <td>11842.16</td>\n",
       "      <td>4</td>\n",
       "      <td>18</td>\n",
       "    </tr>\n",
       "  </tbody>\n",
       "</table>\n",
       "</div>"
      ],
      "text/plain": [
       "   Customer ID  Lifetime Monetary  Lifetime Frequency   Lifetime Recency\n",
       "0      1806560           27763.19                    7                 2\n",
       "1      1806593            4314.69                    3                 3\n",
       "2      1806727           16492.96                    8                 1\n",
       "3      1806735            1822.02                    2                 1\n",
       "4      1806741           11842.16                    4                18"
      ]
     },
     "execution_count": 67,
     "metadata": {},
     "output_type": "execute_result"
    }
   ],
   "source": [
    "grouped_df = pd.merge(grouped_df, recency, on='Customer ID', how='inner')\n",
    "grouped_df.head()"
   ]
  },
  {
   "cell_type": "code",
   "execution_count": 68,
   "metadata": {},
   "outputs": [
    {
     "data": {
      "text/plain": [
       "{'whiskers': [<matplotlib.lines.Line2D at 0x25bdbb74910>,\n",
       "  <matplotlib.lines.Line2D at 0x25bdbb74b80>],\n",
       " 'caps': [<matplotlib.lines.Line2D at 0x25bdbb74250>,\n",
       "  <matplotlib.lines.Line2D at 0x25bdbb49f40>],\n",
       " 'boxes': [<matplotlib.lines.Line2D at 0x25bdbb74640>],\n",
       " 'medians': [<matplotlib.lines.Line2D at 0x25bdbb493d0>],\n",
       " 'fliers': [<matplotlib.lines.Line2D at 0x25bdbb49070>],\n",
       " 'means': []}"
      ]
     },
     "execution_count": 68,
     "metadata": {},
     "output_type": "execute_result"
    },
    {
     "data": {
      "image/png": "[encoded data removed]",
      "text/plain": [
       "<Figure size 432x288 with 1 Axes>"
      ]
     },
     "metadata": {
      "needs_background": "light"
     },
     "output_type": "display_data"
    }
   ],
   "source": [
    "plt.boxplot(grouped_df['Lifetime Recency'])"
   ]
  },
  {
   "cell_type": "code",
   "execution_count": 69,
   "metadata": {},
   "outputs": [
    {
     "data": {
      "text/plain": [
       "Index(['Customer ID', 'Lifetime Monetary', 'Lifetime Frequency ',\n",
       "       'Lifetime Recency'],\n",
       "      dtype='object')"
      ]
     },
     "execution_count": 69,
     "metadata": {},
     "output_type": "execute_result"
    }
   ],
   "source": [
    "grouped_df.columns"
   ]
  },
  {
   "cell_type": "code",
   "execution_count": 70,
   "metadata": {},
   "outputs": [
    {
     "data": {
      "text/plain": [
       "{'whiskers': [<matplotlib.lines.Line2D at 0x25bdbadefd0>,\n",
       "  <matplotlib.lines.Line2D at 0x25bdbade310>],\n",
       " 'caps': [<matplotlib.lines.Line2D at 0x25bdbade850>,\n",
       "  <matplotlib.lines.Line2D at 0x25bdbb0e4f0>],\n",
       " 'boxes': [<matplotlib.lines.Line2D at 0x25bdbaded30>],\n",
       " 'medians': [<matplotlib.lines.Line2D at 0x25bdbb0e100>],\n",
       " 'fliers': [<matplotlib.lines.Line2D at 0x25bdbb0e0a0>],\n",
       " 'means': []}"
      ]
     },
     "execution_count": 70,
     "metadata": {},
     "output_type": "execute_result"
    },
    {
     "data": {
      "image/png": "[encoded data removed]",
      "text/plain": [
       "<Figure size 432x288 with 1 Axes>"
      ]
     },
     "metadata": {
      "needs_background": "light"
     },
     "output_type": "display_data"
    }
   ],
   "source": [
    "plt.boxplot(grouped_df['Lifetime Frequency '])"
   ]
  },
  {
   "cell_type": "code",
   "execution_count": 71,
   "metadata": {},
   "outputs": [
    {
     "data": {
      "text/plain": [
       "{'whiskers': [<matplotlib.lines.Line2D at 0x25bdb5ae580>,\n",
       "  <matplotlib.lines.Line2D at 0x25bdb5ae460>],\n",
       " 'caps': [<matplotlib.lines.Line2D at 0x25bdb5a38b0>,\n",
       "  <matplotlib.lines.Line2D at 0x25bdb5a3d90>],\n",
       " 'boxes': [<matplotlib.lines.Line2D at 0x25bdb5aea30>],\n",
       " 'medians': [<matplotlib.lines.Line2D at 0x25bdb5a3a30>],\n",
       " 'fliers': [<matplotlib.lines.Line2D at 0x25bdb5a3370>],\n",
       " 'means': []}"
      ]
     },
     "execution_count": 71,
     "metadata": {},
     "output_type": "execute_result"
    },
    {
     "data": {
      "image/png": "[encoded data removed]",
      "text/plain": [
       "<Figure size 432x288 with 1 Axes>"
      ]
     },
     "metadata": {
      "needs_background": "light"
     },
     "output_type": "display_data"
    }
   ],
   "source": [
    "plt.boxplot(grouped_df['Lifetime Monetary'])"
   ]
  },
  {
   "cell_type": "code",
   "execution_count": 72,
   "metadata": {},
   "outputs": [
    {
     "data": {
      "text/plain": [
       "3394273471340.0625"
      ]
     },
     "execution_count": 72,
     "metadata": {},
     "output_type": "execute_result"
    }
   ],
   "source": [
    "grouped_df['Lifetime Monetary'].max()"
   ]
  },
  {
   "cell_type": "code",
   "execution_count": 73,
   "metadata": {},
   "outputs": [
    {
     "data": {
      "text/html": [
       "<div>\n",
       "<style scoped>\n",
       "    .dataframe tbody tr th:only-of-type {\n",
       "        vertical-align: middle;\n",
       "    }\n",
       "\n",
       "    .dataframe tbody tr th {\n",
       "        vertical-align: top;\n",
       "    }\n",
       "\n",
       "    .dataframe thead th {\n",
       "        text-align: right;\n",
       "    }\n",
       "</style>\n",
       "<table border=\"1\" class=\"dataframe\">\n",
       "  <thead>\n",
       "    <tr style=\"text-align: right;\">\n",
       "      <th></th>\n",
       "      <th>Customer ID</th>\n",
       "      <th>Lifetime Monetary</th>\n",
       "      <th>Lifetime Frequency</th>\n",
       "      <th>Lifetime Recency</th>\n",
       "    </tr>\n",
       "  </thead>\n",
       "  <tbody>\n",
       "    <tr>\n",
       "      <th>0</th>\n",
       "      <td>1806560</td>\n",
       "      <td>27763.19</td>\n",
       "      <td>7</td>\n",
       "      <td>2</td>\n",
       "    </tr>\n",
       "    <tr>\n",
       "      <th>1</th>\n",
       "      <td>1806593</td>\n",
       "      <td>4314.69</td>\n",
       "      <td>3</td>\n",
       "      <td>3</td>\n",
       "    </tr>\n",
       "    <tr>\n",
       "      <th>2</th>\n",
       "      <td>1806727</td>\n",
       "      <td>16492.96</td>\n",
       "      <td>8</td>\n",
       "      <td>1</td>\n",
       "    </tr>\n",
       "    <tr>\n",
       "      <th>3</th>\n",
       "      <td>1806735</td>\n",
       "      <td>1822.02</td>\n",
       "      <td>2</td>\n",
       "      <td>1</td>\n",
       "    </tr>\n",
       "    <tr>\n",
       "      <th>4</th>\n",
       "      <td>1806741</td>\n",
       "      <td>11842.16</td>\n",
       "      <td>4</td>\n",
       "      <td>18</td>\n",
       "    </tr>\n",
       "  </tbody>\n",
       "</table>\n",
       "</div>"
      ],
      "text/plain": [
       "   Customer ID  Lifetime Monetary  Lifetime Frequency   Lifetime Recency\n",
       "0      1806560           27763.19                    7                 2\n",
       "1      1806593            4314.69                    3                 3\n",
       "2      1806727           16492.96                    8                 1\n",
       "3      1806735            1822.02                    2                 1\n",
       "4      1806741           11842.16                    4                18"
      ]
     },
     "execution_count": 73,
     "metadata": {},
     "output_type": "execute_result"
    }
   ],
   "source": [
    "grouped_df.head()"
   ]
  },
  {
   "cell_type": "code",
   "execution_count": 74,
   "metadata": {},
   "outputs": [
    {
     "data": {
      "text/plain": [
       "(86665, 4)"
      ]
     },
     "execution_count": 74,
     "metadata": {},
     "output_type": "execute_result"
    }
   ],
   "source": [
    "grouped_df = grouped_df.rename(columns={'Lifetime Monetary': 'Lifetime_Monetary','Lifetime Frequency ':'Lifetime_Frequency','Lifetime Recency':'Lifetime_Recency'})\n",
    "grouped_df.shape"
   ]
  },
  {
   "cell_type": "code",
   "execution_count": 75,
   "metadata": {},
   "outputs": [
    {
     "data": {
      "text/html": [
       "<div>\n",
       "<style scoped>\n",
       "    .dataframe tbody tr th:only-of-type {\n",
       "        vertical-align: middle;\n",
       "    }\n",
       "\n",
       "    .dataframe tbody tr th {\n",
       "        vertical-align: top;\n",
       "    }\n",
       "\n",
       "    .dataframe thead th {\n",
       "        text-align: right;\n",
       "    }\n",
       "</style>\n",
       "<table border=\"1\" class=\"dataframe\">\n",
       "  <thead>\n",
       "    <tr style=\"text-align: right;\">\n",
       "      <th></th>\n",
       "      <th>Customer ID</th>\n",
       "      <th>Lifetime_Monetary</th>\n",
       "      <th>Lifetime_Frequency</th>\n",
       "      <th>Lifetime_Recency</th>\n",
       "    </tr>\n",
       "  </thead>\n",
       "  <tbody>\n",
       "    <tr>\n",
       "      <th>count</th>\n",
       "      <td>8.666500e+04</td>\n",
       "      <td>8.666500e+04</td>\n",
       "      <td>86665.000000</td>\n",
       "      <td>86665.000000</td>\n",
       "    </tr>\n",
       "    <tr>\n",
       "      <th>mean</th>\n",
       "      <td>8.414057e+06</td>\n",
       "      <td>3.919061e+07</td>\n",
       "      <td>5.869244</td>\n",
       "      <td>10.038066</td>\n",
       "    </tr>\n",
       "    <tr>\n",
       "      <th>std</th>\n",
       "      <td>5.319762e+06</td>\n",
       "      <td>1.152988e+10</td>\n",
       "      <td>426.248169</td>\n",
       "      <td>5.477223</td>\n",
       "    </tr>\n",
       "    <tr>\n",
       "      <th>min</th>\n",
       "      <td>1.806560e+06</td>\n",
       "      <td>1.040000e+00</td>\n",
       "      <td>1.000000</td>\n",
       "      <td>1.000000</td>\n",
       "    </tr>\n",
       "    <tr>\n",
       "      <th>25%</th>\n",
       "      <td>3.927253e+06</td>\n",
       "      <td>7.553200e+02</td>\n",
       "      <td>1.000000</td>\n",
       "      <td>6.000000</td>\n",
       "    </tr>\n",
       "    <tr>\n",
       "      <th>50%</th>\n",
       "      <td>7.721348e+06</td>\n",
       "      <td>3.062460e+03</td>\n",
       "      <td>2.000000</td>\n",
       "      <td>11.000000</td>\n",
       "    </tr>\n",
       "    <tr>\n",
       "      <th>75%</th>\n",
       "      <td>9.534395e+06</td>\n",
       "      <td>1.206068e+04</td>\n",
       "      <td>5.000000</td>\n",
       "      <td>14.000000</td>\n",
       "    </tr>\n",
       "    <tr>\n",
       "      <th>max</th>\n",
       "      <td>1.809589e+07</td>\n",
       "      <td>3.394273e+12</td>\n",
       "      <td>125473.000000</td>\n",
       "      <td>22.000000</td>\n",
       "    </tr>\n",
       "  </tbody>\n",
       "</table>\n",
       "</div>"
      ],
      "text/plain": [
       "        Customer ID  Lifetime_Monetary  Lifetime_Frequency  Lifetime_Recency\n",
       "count  8.666500e+04       8.666500e+04        86665.000000      86665.000000\n",
       "mean   8.414057e+06       3.919061e+07            5.869244         10.038066\n",
       "std    5.319762e+06       1.152988e+10          426.248169          5.477223\n",
       "min    1.806560e+06       1.040000e+00            1.000000          1.000000\n",
       "25%    3.927253e+06       7.553200e+02            1.000000          6.000000\n",
       "50%    7.721348e+06       3.062460e+03            2.000000         11.000000\n",
       "75%    9.534395e+06       1.206068e+04            5.000000         14.000000\n",
       "max    1.809589e+07       3.394273e+12       125473.000000         22.000000"
      ]
     },
     "execution_count": 75,
     "metadata": {},
     "output_type": "execute_result"
    }
   ],
   "source": [
    "grouped_df.describe()"
   ]
  },
  {
   "cell_type": "markdown",
   "metadata": {},
   "source": [
    "### Outlier treatment"
   ]
  },
  {
   "cell_type": "code",
   "execution_count": 76,
   "metadata": {},
   "outputs": [],
   "source": [
    "from scipy import stats\n",
    "\n",
    "# Calculate z-scores for each column\n",
    "z_scores = stats.zscore(grouped_df[['Lifetime_Frequency', 'Lifetime_Monetary']])\n",
    "\n",
    "# Find rows where z-score > 3 or z-score < -3\n",
    "outliers = (np.abs(z_scores) > 3).any(axis=1)\n",
    "\n",
    "# Remove rows where outliers are found\n",
    "grouped_df = grouped_df[~outliers]\n"
   ]
  },
  {
   "cell_type": "code",
   "execution_count": 77,
   "metadata": {},
   "outputs": [],
   "source": [
    "Frequency = grouped_df['Lifetime_Frequency']\n",
    "log_frequecy = np.log(Frequency)\n",
    "\n",
    "# replace the original column with the transformed column\n",
    "grouped_df['Lifetime_Frequency'] = log_frequecy\n"
   ]
  },
  {
   "cell_type": "code",
   "execution_count": 78,
   "metadata": {},
   "outputs": [],
   "source": [
    "#Recency = grouped_df['Lifetime_Recency']\n",
    "#log_recency = np.log(Recency)\n",
    "#grouped_df['Lifetime_Recency'] = log_recency"
   ]
  },
  {
   "cell_type": "code",
   "execution_count": 79,
   "metadata": {},
   "outputs": [
    {
     "data": {
      "text/html": [
       "<div>\n",
       "<style scoped>\n",
       "    .dataframe tbody tr th:only-of-type {\n",
       "        vertical-align: middle;\n",
       "    }\n",
       "\n",
       "    .dataframe tbody tr th {\n",
       "        vertical-align: top;\n",
       "    }\n",
       "\n",
       "    .dataframe thead th {\n",
       "        text-align: right;\n",
       "    }\n",
       "</style>\n",
       "<table border=\"1\" class=\"dataframe\">\n",
       "  <thead>\n",
       "    <tr style=\"text-align: right;\">\n",
       "      <th></th>\n",
       "      <th>Customer ID</th>\n",
       "      <th>Lifetime_Monetary</th>\n",
       "      <th>Lifetime_Frequency</th>\n",
       "      <th>Lifetime_Recency</th>\n",
       "    </tr>\n",
       "  </thead>\n",
       "  <tbody>\n",
       "    <tr>\n",
       "      <th>count</th>\n",
       "      <td>8.666400e+04</td>\n",
       "      <td>8.666400e+04</td>\n",
       "      <td>86664.000000</td>\n",
       "      <td>86664.000000</td>\n",
       "    </tr>\n",
       "    <tr>\n",
       "      <th>mean</th>\n",
       "      <td>8.414078e+06</td>\n",
       "      <td>2.516653e+04</td>\n",
       "      <td>1.012827</td>\n",
       "      <td>10.038170</td>\n",
       "    </tr>\n",
       "    <tr>\n",
       "      <th>std</th>\n",
       "      <td>5.319790e+06</td>\n",
       "      <td>2.077434e+05</td>\n",
       "      <td>0.898730</td>\n",
       "      <td>5.477168</td>\n",
       "    </tr>\n",
       "    <tr>\n",
       "      <th>min</th>\n",
       "      <td>1.806560e+06</td>\n",
       "      <td>1.040000e+00</td>\n",
       "      <td>0.000000</td>\n",
       "      <td>1.000000</td>\n",
       "    </tr>\n",
       "    <tr>\n",
       "      <th>25%</th>\n",
       "      <td>3.927246e+06</td>\n",
       "      <td>7.553175e+02</td>\n",
       "      <td>0.000000</td>\n",
       "      <td>6.000000</td>\n",
       "    </tr>\n",
       "    <tr>\n",
       "      <th>50%</th>\n",
       "      <td>7.721412e+06</td>\n",
       "      <td>3.062315e+03</td>\n",
       "      <td>0.693147</td>\n",
       "      <td>11.000000</td>\n",
       "    </tr>\n",
       "    <tr>\n",
       "      <th>75%</th>\n",
       "      <td>9.534429e+06</td>\n",
       "      <td>1.206062e+04</td>\n",
       "      <td>1.609438</td>\n",
       "      <td>14.000000</td>\n",
       "    </tr>\n",
       "    <tr>\n",
       "      <th>max</th>\n",
       "      <td>1.809589e+07</td>\n",
       "      <td>3.946852e+07</td>\n",
       "      <td>5.717028</td>\n",
       "      <td>22.000000</td>\n",
       "    </tr>\n",
       "  </tbody>\n",
       "</table>\n",
       "</div>"
      ],
      "text/plain": [
       "        Customer ID  Lifetime_Monetary  Lifetime_Frequency  Lifetime_Recency\n",
       "count  8.666400e+04       8.666400e+04        86664.000000      86664.000000\n",
       "mean   8.414078e+06       2.516653e+04            1.012827         10.038170\n",
       "std    5.319790e+06       2.077434e+05            0.898730          5.477168\n",
       "min    1.806560e+06       1.040000e+00            0.000000          1.000000\n",
       "25%    3.927246e+06       7.553175e+02            0.000000          6.000000\n",
       "50%    7.721412e+06       3.062315e+03            0.693147         11.000000\n",
       "75%    9.534429e+06       1.206062e+04            1.609438         14.000000\n",
       "max    1.809589e+07       3.946852e+07            5.717028         22.000000"
      ]
     },
     "execution_count": 79,
     "metadata": {},
     "output_type": "execute_result"
    }
   ],
   "source": [
    "grouped_df.describe()"
   ]
  },
  {
   "cell_type": "code",
   "execution_count": 80,
   "metadata": {},
   "outputs": [],
   "source": [
    "# removing (statistical) outliers\n",
    "#Q1 = grouped_df.Lifetime_Monetary.quantile(0.25)\n",
    "#Q3 = grouped_df.Lifetime_Monetary.quantile(0.75)\n",
    "#IQR = Q3 - Q1\n",
    "#grouped_df = grouped_df[(grouped_df.Lifetime_Monetary >= Q1 - 1.5*IQR) & (grouped_df.Lifetime_Monetary <= Q3 + 1.5*IQR)]\n"
   ]
  },
  {
   "cell_type": "code",
   "execution_count": 81,
   "metadata": {},
   "outputs": [],
   "source": [
    "# outlier treatment for recency\n",
    "#Q1 = grouped_df.Lifetime_Recency.quantile(0.25)\n",
    "#Q3 = grouped_df.Lifetime_Recency.quantile(0.75)\n",
    "#IQR = Q3 - Q1\n",
    "#grouped_df = grouped_df[(grouped_df.Lifetime_Recency >= Q1 - 1.5*IQR) & (grouped_df.Lifetime_Recency <= Q3 + 1.5*IQR)]\n"
   ]
  },
  {
   "cell_type": "code",
   "execution_count": 82,
   "metadata": {},
   "outputs": [],
   "source": [
    "# outlier treatment for frequency\n",
    "#Q1 = grouped_df.Lifetime_Frequency.quantile(0.25)\n",
    "#Q3 = grouped_df.Lifetime_Frequency.quantile(0.75)\n",
    "#IQR = Q3 - Q1\n",
    "#grouped_df = grouped_df[(grouped_df.Lifetime_Frequency >= Q1 - 1.5*IQR) & (grouped_df.Lifetime_Frequency <= Q3 + 1.5*IQR)]\n"
   ]
  },
  {
   "cell_type": "code",
   "execution_count": 83,
   "metadata": {},
   "outputs": [],
   "source": [
    "import sklearn\n",
    "from sklearn.preprocessing import StandardScaler\n",
    "from sklearn.cluster import KMeans\n",
    "from sklearn.metrics import silhouette_score"
   ]
  },
  {
   "cell_type": "code",
   "execution_count": 84,
   "metadata": {},
   "outputs": [
    {
     "data": {
      "text/plain": [
       "(86664, 3)"
      ]
     },
     "execution_count": 84,
     "metadata": {},
     "output_type": "execute_result"
    }
   ],
   "source": [
    "# rescaling\n",
    "rfm_df = grouped_df[['Lifetime_Monetary', 'Lifetime_Frequency', 'Lifetime_Recency']]\n",
    "\n",
    "# instantiate\n",
    "scaler = StandardScaler()\n",
    "# fit_transform\n",
    "rfm_df_scaled = scaler.fit_transform(rfm_df)\n",
    "rfm_df_scaled.shape"
   ]
  },
  {
   "cell_type": "code",
   "execution_count": 85,
   "metadata": {},
   "outputs": [
    {
     "data": {
      "text/html": [
       "<div>\n",
       "<style scoped>\n",
       "    .dataframe tbody tr th:only-of-type {\n",
       "        vertical-align: middle;\n",
       "    }\n",
       "\n",
       "    .dataframe tbody tr th {\n",
       "        vertical-align: top;\n",
       "    }\n",
       "\n",
       "    .dataframe thead th {\n",
       "        text-align: right;\n",
       "    }\n",
       "</style>\n",
       "<table border=\"1\" class=\"dataframe\">\n",
       "  <thead>\n",
       "    <tr style=\"text-align: right;\">\n",
       "      <th></th>\n",
       "      <th>Monetary</th>\n",
       "      <th>Frequency</th>\n",
       "      <th>Recency</th>\n",
       "    </tr>\n",
       "  </thead>\n",
       "  <tbody>\n",
       "    <tr>\n",
       "      <th>0</th>\n",
       "      <td>0.012499</td>\n",
       "      <td>1.038231</td>\n",
       "      <td>-1.467586</td>\n",
       "    </tr>\n",
       "    <tr>\n",
       "      <th>1</th>\n",
       "      <td>-0.100374</td>\n",
       "      <td>0.095453</td>\n",
       "      <td>-1.285009</td>\n",
       "    </tr>\n",
       "    <tr>\n",
       "      <th>2</th>\n",
       "      <td>-0.041752</td>\n",
       "      <td>1.186810</td>\n",
       "      <td>-1.650163</td>\n",
       "    </tr>\n",
       "    <tr>\n",
       "      <th>3</th>\n",
       "      <td>-0.112373</td>\n",
       "      <td>-0.355703</td>\n",
       "      <td>-1.650163</td>\n",
       "    </tr>\n",
       "    <tr>\n",
       "      <th>4</th>\n",
       "      <td>-0.064139</td>\n",
       "      <td>0.415553</td>\n",
       "      <td>1.453648</td>\n",
       "    </tr>\n",
       "  </tbody>\n",
       "</table>\n",
       "</div>"
      ],
      "text/plain": [
       "   Monetary  Frequency   Recency\n",
       "0  0.012499   1.038231 -1.467586\n",
       "1 -0.100374   0.095453 -1.285009\n",
       "2 -0.041752   1.186810 -1.650163\n",
       "3 -0.112373  -0.355703 -1.650163\n",
       "4 -0.064139   0.415553  1.453648"
      ]
     },
     "execution_count": 85,
     "metadata": {},
     "output_type": "execute_result"
    }
   ],
   "source": [
    "rfm_df_scaled = pd.DataFrame(rfm_df_scaled)\n",
    "rfm_df_scaled.columns = ['Monetary','Frequency','Recency']\n",
    "rfm_df_scaled.head()"
   ]
  },
  {
   "cell_type": "markdown",
   "metadata": {},
   "source": [
    "### Modelling"
   ]
  },
  {
   "cell_type": "code",
   "execution_count": 86,
   "metadata": {},
   "outputs": [
    {
     "data": {
      "text/plain": [
       "[<matplotlib.lines.Line2D at 0x25be4c9a460>]"
      ]
     },
     "execution_count": 86,
     "metadata": {},
     "output_type": "execute_result"
    },
    {
     "data": {
      "image/png": "[encoded data removed]",
      "text/plain": [
       "<Figure size 432x288 with 1 Axes>"
      ]
     },
     "metadata": {
      "needs_background": "light"
     },
     "output_type": "display_data"
    }
   ],
   "source": [
    "#elbow curve\n",
    "\n",
    "ssd = []\n",
    "range_n_clusters = [2,3,4,5,6,7,8]\n",
    "for num_clusters in range_n_clusters:\n",
    "    kmeans = KMeans(n_clusters=num_clusters,init='k-means++', max_iter=300, n_init=10, random_state=0)\n",
    "    kmeans.fit(rfm_df_scaled)\n",
    "    \n",
    "    ssd.append(kmeans.inertia_)\n",
    "\n",
    "plt.title('Elbow Method')\n",
    "plt.xlabel('Number of clusters')\n",
    "plt.ylabel('WCSS')\n",
    "plt.plot(ssd)"
   ]
  },
  {
   "cell_type": "markdown",
   "metadata": {},
   "source": [
    "### Silhouette analysis"
   ]
  },
  {
   "cell_type": "code",
   "execution_count": 75,
   "metadata": {},
   "outputs": [
    {
     "name": "stdout",
     "output_type": "stream",
     "text": [
      "form n_clusters=2, the silhouette score is 0.3937948010257699\n",
      "form n_clusters=3, the silhouette score is 0.3929560264855427\n",
      "form n_clusters=4, the silhouette score is 0.3611711287469935\n",
      "form n_clusters=5, the silhouette score is 0.34671059428169576\n",
      "form n_clusters=6, the silhouette score is 0.3825946752513651\n",
      "form n_clusters=7, the silhouette score is 0.38636581763976924\n",
      "form n_clusters=8, the silhouette score is 0.3835622491484164\n"
     ]
    }
   ],
   "source": [
    "range_n_clusters = [2,3,4,5,6,7,8]\n",
    "\n",
    "for num_clusters in range_n_clusters:\n",
    "    \n",
    "    kmeans = KMeans(n_clusters=num_clusters,init='k-means++', max_iter=200, n_init=10, random_state=0)\n",
    "    kmeans.fit(rfm_df_scaled)\n",
    "    \n",
    "    cluster_labels = kmeans.labels_\n",
    "    \n",
    "    silhouette_avg = silhouette_score(rfm_df_scaled,cluster_labels)\n",
    "    \n",
    "    print(\"form n_clusters={0}, the silhouette score is {1}\".format(num_clusters,silhouette_avg))"
   ]
  },
  {
   "cell_type": "code",
   "execution_count": 87,
   "metadata": {},
   "outputs": [],
   "source": [
    "# final model with k = 4\n",
    "\n",
    "kmeans = KMeans(n_clusters=4, init='k-means++', max_iter=300, n_init=10, random_state=0)\n",
    "pred_y = kmeans.fit_predict(rfm_df_scaled)"
   ]
  },
  {
   "cell_type": "code",
   "execution_count": 88,
   "metadata": {},
   "outputs": [
    {
     "data": {
      "text/plain": [
       "array([1, 2, 1, ..., 0, 0, 0])"
      ]
     },
     "execution_count": 88,
     "metadata": {},
     "output_type": "execute_result"
    }
   ],
   "source": [
    "kmeans.labels_"
   ]
  },
  {
   "cell_type": "code",
   "execution_count": 89,
   "metadata": {},
   "outputs": [
    {
     "data": {
      "text/html": [
       "<div>\n",
       "<style scoped>\n",
       "    .dataframe tbody tr th:only-of-type {\n",
       "        vertical-align: middle;\n",
       "    }\n",
       "\n",
       "    .dataframe tbody tr th {\n",
       "        vertical-align: top;\n",
       "    }\n",
       "\n",
       "    .dataframe thead th {\n",
       "        text-align: right;\n",
       "    }\n",
       "</style>\n",
       "<table border=\"1\" class=\"dataframe\">\n",
       "  <thead>\n",
       "    <tr style=\"text-align: right;\">\n",
       "      <th></th>\n",
       "      <th>Customer ID</th>\n",
       "      <th>Lifetime_Monetary</th>\n",
       "      <th>Lifetime_Frequency</th>\n",
       "      <th>Lifetime_Recency</th>\n",
       "      <th>cluster_id</th>\n",
       "    </tr>\n",
       "  </thead>\n",
       "  <tbody>\n",
       "    <tr>\n",
       "      <th>0</th>\n",
       "      <td>1806560</td>\n",
       "      <td>27763.19</td>\n",
       "      <td>1.945910</td>\n",
       "      <td>2</td>\n",
       "      <td>1</td>\n",
       "    </tr>\n",
       "    <tr>\n",
       "      <th>1</th>\n",
       "      <td>1806593</td>\n",
       "      <td>4314.69</td>\n",
       "      <td>1.098612</td>\n",
       "      <td>3</td>\n",
       "      <td>2</td>\n",
       "    </tr>\n",
       "    <tr>\n",
       "      <th>2</th>\n",
       "      <td>1806727</td>\n",
       "      <td>16492.96</td>\n",
       "      <td>2.079442</td>\n",
       "      <td>1</td>\n",
       "      <td>1</td>\n",
       "    </tr>\n",
       "    <tr>\n",
       "      <th>3</th>\n",
       "      <td>1806735</td>\n",
       "      <td>1822.02</td>\n",
       "      <td>0.693147</td>\n",
       "      <td>1</td>\n",
       "      <td>2</td>\n",
       "    </tr>\n",
       "    <tr>\n",
       "      <th>4</th>\n",
       "      <td>1806741</td>\n",
       "      <td>11842.16</td>\n",
       "      <td>1.386294</td>\n",
       "      <td>18</td>\n",
       "      <td>0</td>\n",
       "    </tr>\n",
       "  </tbody>\n",
       "</table>\n",
       "</div>"
      ],
      "text/plain": [
       "   Customer ID  Lifetime_Monetary  Lifetime_Frequency  Lifetime_Recency  \\\n",
       "0      1806560           27763.19            1.945910                 2   \n",
       "1      1806593            4314.69            1.098612                 3   \n",
       "2      1806727           16492.96            2.079442                 1   \n",
       "3      1806735            1822.02            0.693147                 1   \n",
       "4      1806741           11842.16            1.386294                18   \n",
       "\n",
       "   cluster_id  \n",
       "0           1  \n",
       "1           2  \n",
       "2           1  \n",
       "3           2  \n",
       "4           0  "
      ]
     },
     "execution_count": 89,
     "metadata": {},
     "output_type": "execute_result"
    }
   ],
   "source": [
    "#assign the label\n",
    "grouped_df['cluster_id'] = kmeans.labels_\n",
    "grouped_df.head()"
   ]
  },
  {
   "cell_type": "code",
   "execution_count": 92,
   "metadata": {},
   "outputs": [
    {
     "data": {
      "text/plain": [
       "Index(['Customer ID', 'Lifetime_Monetary', 'Lifetime_Frequency',\n",
       "       'Lifetime_Recency', 'cluster_id'],\n",
       "      dtype='object')"
      ]
     },
     "execution_count": 92,
     "metadata": {},
     "output_type": "execute_result"
    }
   ],
   "source": [
    "grouped_df.columns"
   ]
  },
  {
   "cell_type": "code",
   "execution_count": 93,
   "metadata": {},
   "outputs": [
    {
     "data": {
      "text/plain": [
       "(86664, 5)"
      ]
     },
     "execution_count": 93,
     "metadata": {},
     "output_type": "execute_result"
    }
   ],
   "source": [
    "grouped_df.shape"
   ]
  },
  {
   "cell_type": "code",
   "execution_count": 90,
   "metadata": {},
   "outputs": [
    {
     "name": "stdout",
     "output_type": "stream",
     "text": [
      "0    44725\n",
      "2    21383\n",
      "1    20555\n",
      "3        1\n",
      "Name: cluster_id, dtype: int64\n"
     ]
    }
   ],
   "source": [
    "cluster_counts = grouped_df['cluster_id'].value_counts()\n",
    "print(cluster_counts)"
   ]
  },
  {
   "cell_type": "markdown",
   "metadata": {},
   "source": [
    "### Cluster Analysis"
   ]
  },
  {
   "cell_type": "code",
   "execution_count": 94,
   "metadata": {},
   "outputs": [
    {
     "data": {
      "text/html": [
       "<div>\n",
       "<style scoped>\n",
       "    .dataframe tbody tr th:only-of-type {\n",
       "        vertical-align: middle;\n",
       "    }\n",
       "\n",
       "    .dataframe tbody tr th {\n",
       "        vertical-align: top;\n",
       "    }\n",
       "\n",
       "    .dataframe thead th {\n",
       "        text-align: right;\n",
       "    }\n",
       "</style>\n",
       "<table border=\"1\" class=\"dataframe\">\n",
       "  <thead>\n",
       "    <tr style=\"text-align: right;\">\n",
       "      <th></th>\n",
       "      <th>Customer ID</th>\n",
       "      <th>Mail Deliverable</th>\n",
       "      <th>Lifetime Recency</th>\n",
       "      <th>Lifetime Frequency</th>\n",
       "      <th>Lifetime Monetary</th>\n",
       "      <th>Closest store distance</th>\n",
       "      <th>Date</th>\n",
       "      <th>Product</th>\n",
       "      <th>Cost</th>\n",
       "      <th>Channel</th>\n",
       "      <th>Store</th>\n",
       "      <th>Month</th>\n",
       "      <th>Quarter</th>\n",
       "      <th>Year</th>\n",
       "      <th>Quantity</th>\n",
       "      <th>Revenue</th>\n",
       "      <th>diff</th>\n",
       "    </tr>\n",
       "  </thead>\n",
       "  <tbody>\n",
       "    <tr>\n",
       "      <th>0</th>\n",
       "      <td>4482047</td>\n",
       "      <td>1</td>\n",
       "      <td>15</td>\n",
       "      <td>2</td>\n",
       "      <td>118.90</td>\n",
       "      <td>8.0</td>\n",
       "      <td>2019-07-06</td>\n",
       "      <td>APPAREL</td>\n",
       "      <td>23.00</td>\n",
       "      <td>Internet</td>\n",
       "      <td>999</td>\n",
       "      <td>7</td>\n",
       "      <td>3</td>\n",
       "      <td>2019</td>\n",
       "      <td>1</td>\n",
       "      <td>108.95</td>\n",
       "      <td>178 days</td>\n",
       "    </tr>\n",
       "    <tr>\n",
       "      <th>1</th>\n",
       "      <td>6564872</td>\n",
       "      <td>1</td>\n",
       "      <td>4</td>\n",
       "      <td>6</td>\n",
       "      <td>1785.20</td>\n",
       "      <td>13.0</td>\n",
       "      <td>2019-12-13</td>\n",
       "      <td>APPAREL</td>\n",
       "      <td>16.31</td>\n",
       "      <td>Internet</td>\n",
       "      <td>999</td>\n",
       "      <td>12</td>\n",
       "      <td>4</td>\n",
       "      <td>2019</td>\n",
       "      <td>1</td>\n",
       "      <td>69.95</td>\n",
       "      <td>18 days</td>\n",
       "    </tr>\n",
       "    <tr>\n",
       "      <th>2</th>\n",
       "      <td>7004515</td>\n",
       "      <td>1</td>\n",
       "      <td>11</td>\n",
       "      <td>23</td>\n",
       "      <td>2068.93</td>\n",
       "      <td>23.0</td>\n",
       "      <td>2019-11-21</td>\n",
       "      <td>APPAREL</td>\n",
       "      <td>39.75</td>\n",
       "      <td>Internet</td>\n",
       "      <td>999</td>\n",
       "      <td>11</td>\n",
       "      <td>4</td>\n",
       "      <td>2019</td>\n",
       "      <td>1</td>\n",
       "      <td>119.95</td>\n",
       "      <td>40 days</td>\n",
       "    </tr>\n",
       "    <tr>\n",
       "      <th>3</th>\n",
       "      <td>7004515</td>\n",
       "      <td>1</td>\n",
       "      <td>11</td>\n",
       "      <td>23</td>\n",
       "      <td>2068.93</td>\n",
       "      <td>23.0</td>\n",
       "      <td>2019-07-20</td>\n",
       "      <td>APPAREL</td>\n",
       "      <td>14.75</td>\n",
       "      <td>Internet</td>\n",
       "      <td>999</td>\n",
       "      <td>7</td>\n",
       "      <td>3</td>\n",
       "      <td>2019</td>\n",
       "      <td>1</td>\n",
       "      <td>59.95</td>\n",
       "      <td>164 days</td>\n",
       "    </tr>\n",
       "    <tr>\n",
       "      <th>4</th>\n",
       "      <td>6429944</td>\n",
       "      <td>1</td>\n",
       "      <td>11</td>\n",
       "      <td>8</td>\n",
       "      <td>2813.77</td>\n",
       "      <td>9.0</td>\n",
       "      <td>2019-12-11</td>\n",
       "      <td>APPAREL</td>\n",
       "      <td>15.76</td>\n",
       "      <td>Internet</td>\n",
       "      <td>999</td>\n",
       "      <td>12</td>\n",
       "      <td>4</td>\n",
       "      <td>2019</td>\n",
       "      <td>1</td>\n",
       "      <td>79.95</td>\n",
       "      <td>20 days</td>\n",
       "    </tr>\n",
       "  </tbody>\n",
       "</table>\n",
       "</div>"
      ],
      "text/plain": [
       "   Customer ID  Mail Deliverable  Lifetime Recency  Lifetime Frequency   \\\n",
       "0      4482047                 1                15                    2   \n",
       "1      6564872                 1                 4                    6   \n",
       "2      7004515                 1                11                   23   \n",
       "3      7004515                 1                11                   23   \n",
       "4      6429944                 1                11                    8   \n",
       "\n",
       "   Lifetime Monetary  Closest store distance       Date  Product   Cost  \\\n",
       "0             118.90                     8.0 2019-07-06  APPAREL  23.00   \n",
       "1            1785.20                    13.0 2019-12-13  APPAREL  16.31   \n",
       "2            2068.93                    23.0 2019-11-21  APPAREL  39.75   \n",
       "3            2068.93                    23.0 2019-07-20  APPAREL  14.75   \n",
       "4            2813.77                     9.0 2019-12-11  APPAREL  15.76   \n",
       "\n",
       "    Channel  Store  Month  Quarter  Year  Quantity  Revenue     diff  \n",
       "0  Internet    999      7        3  2019         1   108.95 178 days  \n",
       "1  Internet    999     12        4  2019         1    69.95  18 days  \n",
       "2  Internet    999     11        4  2019         1   119.95  40 days  \n",
       "3  Internet    999      7        3  2019         1    59.95 164 days  \n",
       "4  Internet    999     12        4  2019         1    79.95  20 days  "
      ]
     },
     "execution_count": 94,
     "metadata": {},
     "output_type": "execute_result"
    }
   ],
   "source": [
    "merged_df.head()"
   ]
  },
  {
   "cell_type": "code",
   "execution_count": 97,
   "metadata": {},
   "outputs": [
    {
     "data": {
      "text/html": [
       "<div>\n",
       "<style scoped>\n",
       "    .dataframe tbody tr th:only-of-type {\n",
       "        vertical-align: middle;\n",
       "    }\n",
       "\n",
       "    .dataframe tbody tr th {\n",
       "        vertical-align: top;\n",
       "    }\n",
       "\n",
       "    .dataframe thead th {\n",
       "        text-align: right;\n",
       "    }\n",
       "</style>\n",
       "<table border=\"1\" class=\"dataframe\">\n",
       "  <thead>\n",
       "    <tr style=\"text-align: right;\">\n",
       "      <th></th>\n",
       "      <th>Customer ID</th>\n",
       "      <th>Mail Deliverable</th>\n",
       "      <th>Lifetime Recency</th>\n",
       "      <th>Lifetime Frequency</th>\n",
       "      <th>Lifetime Monetary</th>\n",
       "      <th>Closest store distance</th>\n",
       "      <th>Date</th>\n",
       "      <th>Product</th>\n",
       "      <th>Units</th>\n",
       "      <th>Amount</th>\n",
       "      <th>Cost</th>\n",
       "      <th>Channel</th>\n",
       "      <th>Store</th>\n",
       "    </tr>\n",
       "  </thead>\n",
       "  <tbody>\n",
       "    <tr>\n",
       "      <th>0</th>\n",
       "      <td>4482047</td>\n",
       "      <td>Y</td>\n",
       "      <td>15</td>\n",
       "      <td>2</td>\n",
       "      <td>118.90</td>\n",
       "      <td>8.0</td>\n",
       "      <td>07/06/2019</td>\n",
       "      <td>APPAREL</td>\n",
       "      <td>1</td>\n",
       "      <td>108.95</td>\n",
       "      <td>23.00</td>\n",
       "      <td>Internet</td>\n",
       "      <td>999</td>\n",
       "    </tr>\n",
       "    <tr>\n",
       "      <th>1</th>\n",
       "      <td>6564872</td>\n",
       "      <td>Y</td>\n",
       "      <td>4</td>\n",
       "      <td>6</td>\n",
       "      <td>1785.20</td>\n",
       "      <td>13.0</td>\n",
       "      <td>13/12/2019</td>\n",
       "      <td>APPAREL</td>\n",
       "      <td>1</td>\n",
       "      <td>69.95</td>\n",
       "      <td>16.31</td>\n",
       "      <td>Internet</td>\n",
       "      <td>999</td>\n",
       "    </tr>\n",
       "    <tr>\n",
       "      <th>2</th>\n",
       "      <td>7004515</td>\n",
       "      <td>Y</td>\n",
       "      <td>11</td>\n",
       "      <td>23</td>\n",
       "      <td>2068.93</td>\n",
       "      <td>23.0</td>\n",
       "      <td>21/11/2019</td>\n",
       "      <td>APPAREL</td>\n",
       "      <td>1</td>\n",
       "      <td>119.95</td>\n",
       "      <td>39.75</td>\n",
       "      <td>Internet</td>\n",
       "      <td>999</td>\n",
       "    </tr>\n",
       "    <tr>\n",
       "      <th>3</th>\n",
       "      <td>7004515</td>\n",
       "      <td>Y</td>\n",
       "      <td>11</td>\n",
       "      <td>23</td>\n",
       "      <td>2068.93</td>\n",
       "      <td>23.0</td>\n",
       "      <td>20/07/2019</td>\n",
       "      <td>APPAREL</td>\n",
       "      <td>1</td>\n",
       "      <td>59.95</td>\n",
       "      <td>14.75</td>\n",
       "      <td>Internet</td>\n",
       "      <td>999</td>\n",
       "    </tr>\n",
       "    <tr>\n",
       "      <th>4</th>\n",
       "      <td>6429944</td>\n",
       "      <td>Y</td>\n",
       "      <td>11</td>\n",
       "      <td>8</td>\n",
       "      <td>2813.77</td>\n",
       "      <td>9.0</td>\n",
       "      <td>12/11/2019</td>\n",
       "      <td>APPAREL</td>\n",
       "      <td>1</td>\n",
       "      <td>79.95</td>\n",
       "      <td>15.76</td>\n",
       "      <td>Internet</td>\n",
       "      <td>999</td>\n",
       "    </tr>\n",
       "    <tr>\n",
       "      <th>...</th>\n",
       "      <td>...</td>\n",
       "      <td>...</td>\n",
       "      <td>...</td>\n",
       "      <td>...</td>\n",
       "      <td>...</td>\n",
       "      <td>...</td>\n",
       "      <td>...</td>\n",
       "      <td>...</td>\n",
       "      <td>...</td>\n",
       "      <td>...</td>\n",
       "      <td>...</td>\n",
       "      <td>...</td>\n",
       "      <td>...</td>\n",
       "    </tr>\n",
       "    <tr>\n",
       "      <th>508653</th>\n",
       "      <td>2930907</td>\n",
       "      <td>Y</td>\n",
       "      <td>18</td>\n",
       "      <td>1</td>\n",
       "      <td>99.90</td>\n",
       "      <td>175.0</td>\n",
       "      <td>20/04/2019</td>\n",
       "      <td>APPAREL</td>\n",
       "      <td>1</td>\n",
       "      <td>76.46</td>\n",
       "      <td>13.80</td>\n",
       "      <td>Internet</td>\n",
       "      <td>999</td>\n",
       "    </tr>\n",
       "    <tr>\n",
       "      <th>508654</th>\n",
       "      <td>18077839</td>\n",
       "      <td>Y</td>\n",
       "      <td>13</td>\n",
       "      <td>2</td>\n",
       "      <td>229.86</td>\n",
       "      <td>24.0</td>\n",
       "      <td>31/08/2019</td>\n",
       "      <td>APPAREL</td>\n",
       "      <td>1</td>\n",
       "      <td>39.99</td>\n",
       "      <td>27.25</td>\n",
       "      <td>Internet</td>\n",
       "      <td>999</td>\n",
       "    </tr>\n",
       "    <tr>\n",
       "      <th>508655</th>\n",
       "      <td>18077839</td>\n",
       "      <td>Y</td>\n",
       "      <td>13</td>\n",
       "      <td>2</td>\n",
       "      <td>229.86</td>\n",
       "      <td>24.0</td>\n",
       "      <td>31/08/2019</td>\n",
       "      <td>APPAREL</td>\n",
       "      <td>1</td>\n",
       "      <td>49.99</td>\n",
       "      <td>21.00</td>\n",
       "      <td>Internet</td>\n",
       "      <td>999</td>\n",
       "    </tr>\n",
       "    <tr>\n",
       "      <th>508656</th>\n",
       "      <td>18077839</td>\n",
       "      <td>Y</td>\n",
       "      <td>13</td>\n",
       "      <td>2</td>\n",
       "      <td>229.86</td>\n",
       "      <td>24.0</td>\n",
       "      <td>31/08/2019</td>\n",
       "      <td>APPAREL</td>\n",
       "      <td>1</td>\n",
       "      <td>59.99</td>\n",
       "      <td>20.16</td>\n",
       "      <td>Internet</td>\n",
       "      <td>999</td>\n",
       "    </tr>\n",
       "    <tr>\n",
       "      <th>508657</th>\n",
       "      <td>3173145</td>\n",
       "      <td>Y</td>\n",
       "      <td>20</td>\n",
       "      <td>2</td>\n",
       "      <td>137.83</td>\n",
       "      <td>15.0</td>\n",
       "      <td>11/02/2019</td>\n",
       "      <td>APPAREL</td>\n",
       "      <td>1</td>\n",
       "      <td>59.95</td>\n",
       "      <td>19.84</td>\n",
       "      <td>Internet</td>\n",
       "      <td>999</td>\n",
       "    </tr>\n",
       "  </tbody>\n",
       "</table>\n",
       "<p>505368 rows × 13 columns</p>\n",
       "</div>"
      ],
      "text/plain": [
       "        Customer ID Mail Deliverable  Lifetime Recency  Lifetime Frequency   \\\n",
       "0           4482047                Y                15                    2   \n",
       "1           6564872                Y                 4                    6   \n",
       "2           7004515                Y                11                   23   \n",
       "3           7004515                Y                11                   23   \n",
       "4           6429944                Y                11                    8   \n",
       "...             ...              ...               ...                  ...   \n",
       "508653      2930907                Y                18                    1   \n",
       "508654     18077839                Y                13                    2   \n",
       "508655     18077839                Y                13                    2   \n",
       "508656     18077839                Y                13                    2   \n",
       "508657      3173145                Y                20                    2   \n",
       "\n",
       "        Lifetime Monetary  Closest store distance        Date  Product  Units  \\\n",
       "0                  118.90                     8.0  07/06/2019  APPAREL      1   \n",
       "1                 1785.20                    13.0  13/12/2019  APPAREL      1   \n",
       "2                 2068.93                    23.0  21/11/2019  APPAREL      1   \n",
       "3                 2068.93                    23.0  20/07/2019  APPAREL      1   \n",
       "4                 2813.77                     9.0  12/11/2019  APPAREL      1   \n",
       "...                   ...                     ...         ...      ...    ...   \n",
       "508653              99.90                   175.0  20/04/2019  APPAREL      1   \n",
       "508654             229.86                    24.0  31/08/2019  APPAREL      1   \n",
       "508655             229.86                    24.0  31/08/2019  APPAREL      1   \n",
       "508656             229.86                    24.0  31/08/2019  APPAREL      1   \n",
       "508657             137.83                    15.0  11/02/2019  APPAREL      1   \n",
       "\n",
       "        Amount   Cost   Channel  Store  \n",
       "0       108.95  23.00  Internet    999  \n",
       "1        69.95  16.31  Internet    999  \n",
       "2       119.95  39.75  Internet    999  \n",
       "3        59.95  14.75  Internet    999  \n",
       "4        79.95  15.76  Internet    999  \n",
       "...        ...    ...       ...    ...  \n",
       "508653   76.46  13.80  Internet    999  \n",
       "508654   39.99  27.25  Internet    999  \n",
       "508655   49.99  21.00  Internet    999  \n",
       "508656   59.99  20.16  Internet    999  \n",
       "508657   59.95  19.84  Internet    999  \n",
       "\n",
       "[505368 rows x 13 columns]"
      ]
     },
     "execution_count": 97,
     "metadata": {},
     "output_type": "execute_result"
    }
   ],
   "source": [
    "merged_cluster_df = pd.merge(merged_df, grouped_df, on='Customer ID', how='inner')\n",
    "\n",
    "# drop duplicate rows if any\n",
    "merged_df.drop_duplicates()"
   ]
  },
  {
   "cell_type": "code",
   "execution_count": 98,
   "metadata": {},
   "outputs": [
    {
     "name": "stdout",
     "output_type": "stream",
     "text": [
      "<class 'pandas.core.frame.DataFrame'>\n",
      "Int64Index: 383185 entries, 0 to 383184\n",
      "Data columns (total 17 columns):\n",
      " #   Column                  Non-Null Count   Dtype  \n",
      "---  ------                  --------------   -----  \n",
      " 0   Customer ID             383185 non-null  int64  \n",
      " 1   Mail Deliverable        383185 non-null  object \n",
      " 2   Lifetime Recency        383185 non-null  int64  \n",
      " 3   Lifetime Frequency      383185 non-null  int64  \n",
      " 4   Lifetime Monetary       383185 non-null  float64\n",
      " 5   Closest store distance  383185 non-null  float64\n",
      " 6   Date                    383185 non-null  object \n",
      " 7   Product                 383185 non-null  object \n",
      " 8   Units                   383185 non-null  int64  \n",
      " 9   Amount                  383182 non-null  float64\n",
      " 10  Cost                    383185 non-null  float64\n",
      " 11  Channel                 383185 non-null  object \n",
      " 12  Store                   383185 non-null  int32  \n",
      " 13  Lifetime_Monetary       383185 non-null  float64\n",
      " 14  Lifetime_Frequency      383185 non-null  float64\n",
      " 15  Lifetime_Recency        383185 non-null  int64  \n",
      " 16  cluster_id              383185 non-null  int32  \n",
      "dtypes: float64(6), int32(2), int64(5), object(4)\n",
      "memory usage: 49.7+ MB\n"
     ]
    }
   ],
   "source": [
    "merged_cluster_df.info()"
   ]
  },
  {
   "cell_type": "markdown",
   "metadata": {},
   "source": [
    "### Cluster wise statistics"
   ]
  },
  {
   "cell_type": "code",
   "execution_count": 105,
   "metadata": {},
   "outputs": [
    {
     "name": "stdout",
     "output_type": "stream",
     "text": [
      "            Lifetime_Monetary_mean  Lifetime_Recency_mean  \\\n",
      "cluster_id                                                  \n",
      "0                     4.009924e+03              14.231392   \n",
      "1                     9.008451e+04               6.207492   \n",
      "2                     5.169188e+03               4.950334   \n",
      "3                     3.946852e+07               1.000000   \n",
      "\n",
      "            Lifetime_Frequency_mean  \n",
      "cluster_id                           \n",
      "0                          0.631713  \n",
      "1                          2.248559  \n",
      "2                          0.621869  \n",
      "3                          5.683580  \n"
     ]
    }
   ],
   "source": [
    "# group the data by cluster_id and calculate the mean, median, and standard deviation for each variable\n",
    "grouped_cluster = grouped_df.groupby('cluster_id').agg({'Lifetime_Monetary': ['mean'],'Lifetime_Recency': ['mean'],'Lifetime_Frequency': ['mean']})\n",
    "\n",
    "# flatten the column names to make it easier to work with\n",
    "grouped_cluster.columns = ['_'.join(col).strip() for col in grouped_cluster.columns.values]\n",
    "\n",
    "# display the result\n",
    "print(grouped_cluster)\n"
   ]
  },
  {
   "cell_type": "code",
   "execution_count": 106,
   "metadata": {},
   "outputs": [
    {
     "data": {
      "image/png": "[encoded data removed]",
      "text/plain": [
       "<Figure size 432x288 with 1 Axes>"
      ]
     },
     "metadata": {
      "needs_background": "light"
     },
     "output_type": "display_data"
    }
   ],
   "source": [
    "import matplotlib.pyplot as plt\n",
    "\n",
    "# Create a dictionary of color codes for each cluster\n",
    "color_dict = {0: 'red', 1: 'black', 2: 'yellow',3:'orange'}\n",
    "\n",
    "# Plot the scatter plot with color-coded clusters\n",
    "plt.scatter(grouped_df['Lifetime_Frequency'], grouped_df['Lifetime_Monetary'], c=grouped_df['cluster_id'].apply(lambda x: color_dict[x]))\n",
    "\n",
    "# Add axis labels and title\n",
    "plt.xlabel('Lifetime Frequency')\n",
    "plt.ylabel('Lifetime Monetary')\n",
    "\n",
    "# Show the plot\n",
    "plt.show()\n"
   ]
  },
  {
   "cell_type": "code",
   "execution_count": 107,
   "metadata": {},
   "outputs": [
    {
     "data": {
      "text/plain": [
       "<AxesSubplot:xlabel='cluster_id', ylabel='Lifetime_Monetary'>"
      ]
     },
     "execution_count": 107,
     "metadata": {},
     "output_type": "execute_result"
    },
    {
     "data": {
      "image/png": "[encoded data removed]",
      "text/plain": [
       "<Figure size 432x288 with 1 Axes>"
      ]
     },
     "metadata": {
      "needs_background": "light"
     },
     "output_type": "display_data"
    }
   ],
   "source": [
    "#plot\n",
    "sns.boxplot(x = 'cluster_id',y = 'Lifetime_Monetary',data = grouped_df)"
   ]
  },
  {
   "cell_type": "code",
   "execution_count": 108,
   "metadata": {},
   "outputs": [
    {
     "data": {
      "text/plain": [
       "<AxesSubplot:xlabel='cluster_id', ylabel='Lifetime_Frequency'>"
      ]
     },
     "execution_count": 108,
     "metadata": {},
     "output_type": "execute_result"
    },
    {
     "data": {
      "image/png": "[encoded data removed]",
      "text/plain": [
       "<Figure size 432x288 with 1 Axes>"
      ]
     },
     "metadata": {
      "needs_background": "light"
     },
     "output_type": "display_data"
    }
   ],
   "source": [
    "sns.boxplot(x = 'cluster_id',y = 'Lifetime_Frequency',data = grouped_df)"
   ]
  },
  {
   "cell_type": "code",
   "execution_count": 109,
   "metadata": {},
   "outputs": [
    {
     "data": {
      "text/plain": [
       "<AxesSubplot:xlabel='cluster_id', ylabel='Lifetime_Recency'>"
      ]
     },
     "execution_count": 109,
     "metadata": {},
     "output_type": "execute_result"
    },
    {
     "data": {
      "image/png": "[encoded data removed]",
      "text/plain": [
       "<Figure size 432x288 with 1 Axes>"
      ]
     },
     "metadata": {
      "needs_background": "light"
     },
     "output_type": "display_data"
    }
   ],
   "source": [
    "sns.boxplot(x = 'cluster_id',y = 'Lifetime_Recency',data = grouped_df)"
   ]
  },
  {
   "cell_type": "markdown",
   "metadata": {},
   "source": [
    "### Hierarchical Clustering"
   ]
  },
  {
   "cell_type": "code",
   "execution_count": 189,
   "metadata": {},
   "outputs": [],
   "source": [
    "from scipy.cluster.hierarchy import linkage\n",
    "from scipy.cluster.hierarchy import dendrogram\n",
    "from scipy.cluster.hierarchy import cut_tree"
   ]
  },
  {
   "cell_type": "code",
   "execution_count": 190,
   "metadata": {},
   "outputs": [
    {
     "data": {
      "text/html": [
       "<div>\n",
       "<style scoped>\n",
       "    .dataframe tbody tr th:only-of-type {\n",
       "        vertical-align: middle;\n",
       "    }\n",
       "\n",
       "    .dataframe tbody tr th {\n",
       "        vertical-align: top;\n",
       "    }\n",
       "\n",
       "    .dataframe thead th {\n",
       "        text-align: right;\n",
       "    }\n",
       "</style>\n",
       "<table border=\"1\" class=\"dataframe\">\n",
       "  <thead>\n",
       "    <tr style=\"text-align: right;\">\n",
       "      <th></th>\n",
       "      <th>Monetary</th>\n",
       "      <th>Frequency</th>\n",
       "      <th>Recency</th>\n",
       "    </tr>\n",
       "  </thead>\n",
       "  <tbody>\n",
       "    <tr>\n",
       "      <th>0</th>\n",
       "      <td>0.012499</td>\n",
       "      <td>0.401010</td>\n",
       "      <td>-1.467586</td>\n",
       "    </tr>\n",
       "    <tr>\n",
       "      <th>1</th>\n",
       "      <td>-0.100374</td>\n",
       "      <td>-0.221073</td>\n",
       "      <td>-1.285009</td>\n",
       "    </tr>\n",
       "    <tr>\n",
       "      <th>2</th>\n",
       "      <td>-0.041752</td>\n",
       "      <td>0.556531</td>\n",
       "      <td>-1.650163</td>\n",
       "    </tr>\n",
       "    <tr>\n",
       "      <th>3</th>\n",
       "      <td>-0.112373</td>\n",
       "      <td>-0.376594</td>\n",
       "      <td>-1.650163</td>\n",
       "    </tr>\n",
       "    <tr>\n",
       "      <th>4</th>\n",
       "      <td>-0.064139</td>\n",
       "      <td>-0.065552</td>\n",
       "      <td>1.453648</td>\n",
       "    </tr>\n",
       "  </tbody>\n",
       "</table>\n",
       "</div>"
      ],
      "text/plain": [
       "   Monetary  Frequency   Recency\n",
       "0  0.012499   0.401010 -1.467586\n",
       "1 -0.100374  -0.221073 -1.285009\n",
       "2 -0.041752   0.556531 -1.650163\n",
       "3 -0.112373  -0.376594 -1.650163\n",
       "4 -0.064139  -0.065552  1.453648"
      ]
     },
     "execution_count": 190,
     "metadata": {},
     "output_type": "execute_result"
    }
   ],
   "source": [
    "rfm_df_scaled.head()"
   ]
  },
  {
   "cell_type": "code",
   "execution_count": 191,
   "metadata": {},
   "outputs": [
    {
     "ename": "MemoryError",
     "evalue": "unable to allocate array data.",
     "output_type": "error",
     "traceback": [
      "\u001b[1;31m---------------------------------------------------------------------------\u001b[0m",
      "\u001b[1;31mMemoryError\u001b[0m                               Traceback (most recent call last)",
      "\u001b[1;32m<ipython-input-191-c3464cde8faa>\u001b[0m in \u001b[0;36m<module>\u001b[1;34m\u001b[0m\n\u001b[0;32m      1\u001b[0m \u001b[1;31m# perform hierarchical clustering using linkage function\u001b[0m\u001b[1;33m\u001b[0m\u001b[1;33m\u001b[0m\u001b[1;33m\u001b[0m\u001b[0m\n\u001b[1;32m----> 2\u001b[1;33m \u001b[0mZ\u001b[0m \u001b[1;33m=\u001b[0m \u001b[0mlinkage\u001b[0m\u001b[1;33m(\u001b[0m\u001b[0mrfm_df_scaled\u001b[0m\u001b[1;33m,\u001b[0m \u001b[0mmethod\u001b[0m\u001b[1;33m=\u001b[0m\u001b[1;34m'ward'\u001b[0m\u001b[1;33m)\u001b[0m\u001b[1;33m\u001b[0m\u001b[1;33m\u001b[0m\u001b[0m\n\u001b[0m",
      "\u001b[1;32m~\\Anaconda3\\lib\\site-packages\\scipy\\cluster\\hierarchy.py\u001b[0m in \u001b[0;36mlinkage\u001b[1;34m(y, method, metric, optimal_ordering)\u001b[0m\n\u001b[0;32m   1072\u001b[0m         \u001b[0mresult\u001b[0m \u001b[1;33m=\u001b[0m \u001b[0m_hierarchy\u001b[0m\u001b[1;33m.\u001b[0m\u001b[0mmst_single_linkage\u001b[0m\u001b[1;33m(\u001b[0m\u001b[0my\u001b[0m\u001b[1;33m,\u001b[0m \u001b[0mn\u001b[0m\u001b[1;33m)\u001b[0m\u001b[1;33m\u001b[0m\u001b[1;33m\u001b[0m\u001b[0m\n\u001b[0;32m   1073\u001b[0m     \u001b[1;32melif\u001b[0m \u001b[0mmethod\u001b[0m \u001b[1;32min\u001b[0m \u001b[1;33m[\u001b[0m\u001b[1;34m'complete'\u001b[0m\u001b[1;33m,\u001b[0m \u001b[1;34m'average'\u001b[0m\u001b[1;33m,\u001b[0m \u001b[1;34m'weighted'\u001b[0m\u001b[1;33m,\u001b[0m \u001b[1;34m'ward'\u001b[0m\u001b[1;33m]\u001b[0m\u001b[1;33m:\u001b[0m\u001b[1;33m\u001b[0m\u001b[1;33m\u001b[0m\u001b[0m\n\u001b[1;32m-> 1074\u001b[1;33m         \u001b[0mresult\u001b[0m \u001b[1;33m=\u001b[0m \u001b[0m_hierarchy\u001b[0m\u001b[1;33m.\u001b[0m\u001b[0mnn_chain\u001b[0m\u001b[1;33m(\u001b[0m\u001b[0my\u001b[0m\u001b[1;33m,\u001b[0m \u001b[0mn\u001b[0m\u001b[1;33m,\u001b[0m \u001b[0mmethod_code\u001b[0m\u001b[1;33m)\u001b[0m\u001b[1;33m\u001b[0m\u001b[1;33m\u001b[0m\u001b[0m\n\u001b[0m\u001b[0;32m   1075\u001b[0m     \u001b[1;32melse\u001b[0m\u001b[1;33m:\u001b[0m\u001b[1;33m\u001b[0m\u001b[1;33m\u001b[0m\u001b[0m\n\u001b[0;32m   1076\u001b[0m         \u001b[0mresult\u001b[0m \u001b[1;33m=\u001b[0m \u001b[0m_hierarchy\u001b[0m\u001b[1;33m.\u001b[0m\u001b[0mfast_linkage\u001b[0m\u001b[1;33m(\u001b[0m\u001b[0my\u001b[0m\u001b[1;33m,\u001b[0m \u001b[0mn\u001b[0m\u001b[1;33m,\u001b[0m \u001b[0mmethod_code\u001b[0m\u001b[1;33m)\u001b[0m\u001b[1;33m\u001b[0m\u001b[1;33m\u001b[0m\u001b[0m\n",
      "\u001b[1;32m_hierarchy.pyx\u001b[0m in \u001b[0;36mscipy.cluster._hierarchy.nn_chain\u001b[1;34m()\u001b[0m\n",
      "\u001b[1;32m~\\Anaconda3\\lib\\site-packages\\scipy\\cluster\\_hierarchy.cp38-win_amd64.pyd\u001b[0m in \u001b[0;36mView.MemoryView.array_cwrapper\u001b[1;34m()\u001b[0m\n",
      "\u001b[1;32m~\\Anaconda3\\lib\\site-packages\\scipy\\cluster\\_hierarchy.cp38-win_amd64.pyd\u001b[0m in \u001b[0;36mView.MemoryView.array.__cinit__\u001b[1;34m()\u001b[0m\n",
      "\u001b[1;31mMemoryError\u001b[0m: unable to allocate array data."
     ]
    }
   ],
   "source": [
    "# perform hierarchical clustering using linkage function \n",
    "Z = linkage(rfm_df_scaled, method='ward')"
   ]
  },
  {
   "cell_type": "code",
   "execution_count": null,
   "metadata": {},
   "outputs": [],
   "source": [
    "# plot dendrogram\n",
    "plt.figure(figsize=(10, 5))\n",
    "dendrogram(Z)\n",
    "plt.title('Dendrogram')\n",
    "plt.xlabel('Index')\n",
    "plt.ylabel('Distance')\n",
    "plt.show()"
   ]
  },
  {
   "cell_type": "code",
   "execution_count": null,
   "metadata": {},
   "outputs": [],
   "source": [
    "#single linkage\n",
    "#mergings = linkage(rfm_df_scaled,method=\"single\",metric='euclidean')\n",
    "#dendrogram(mergings)\n",
    "#plt.show()"
   ]
  },
  {
   "cell_type": "code",
   "execution_count": null,
   "metadata": {},
   "outputs": [],
   "source": [
    "#complete linkage\n",
    "#mergings = linkage(rfm_df_scaled,method=\"complete\",metric='euclidean')\n",
    "#dendrogram(mergings)\n",
    "#plt.show()"
   ]
  },
  {
   "cell_type": "code",
   "execution_count": null,
   "metadata": {},
   "outputs": [],
   "source": [
    "#3 clusters\n",
    "cluster_labels = cut_tree(mergings,n_clusters = 3).reshape(-1, )\n",
    "cluster_labels"
   ]
  },
  {
   "cell_type": "code",
   "execution_count": null,
   "metadata": {},
   "outputs": [],
   "source": [
    "# assign cluster labels\n",
    "grouped_df['cluster_labels'] = cluster_labels\n",
    "grouped_df.head()"
   ]
  },
  {
   "cell_type": "code",
   "execution_count": null,
   "metadata": {},
   "outputs": [],
   "source": [
    "sns.boxplot(x='cluster_labels',y='Lifetime_Recency',data=grouped_df)"
   ]
  },
  {
   "cell_type": "code",
   "execution_count": null,
   "metadata": {},
   "outputs": [],
   "source": [
    "sns.boxplot(x='cluster_labels',y='Lifetime_Frequency',data=grouped_df)"
   ]
  }
 ],
 "metadata": {
  "kernelspec": {
   "display_name": "Python 3",
   "language": "python",
   "name": "python3"
  },
  "language_info": {
   "codemirror_mode": {
    "name": "ipython",
    "version": 3
   },
   "file_extension": ".py",
   "mimetype": "text/x-python",
   "name": "python",
   "nbconvert_exporter": "python",
   "pygments_lexer": "ipython3",
   "version": "3.8.8"
  }
 },
 "nbformat": 4,
 "nbformat_minor": 2
}
