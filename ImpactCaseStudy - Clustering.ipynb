{
 "cells": [
  {
   "cell_type": "code",
   "execution_count": 1,
   "metadata": {},
   "outputs": [],
   "source": [
    "import pandas as pd\n",
    "import matplotlib.pyplot as plt\n",
    "import seaborn as sns"
   ]
  },
  {
   "cell_type": "code",
   "execution_count": 2,
   "metadata": {},
   "outputs": [],
   "source": [
    "customer_df = pd.read_csv(\"Customer Data.csv\",header=0)"
   ]
  },
  {
   "cell_type": "code",
   "execution_count": 3,
   "metadata": {},
   "outputs": [
    {
     "data": {
      "text/html": [
       "<div>\n",
       "<style scoped>\n",
       "    .dataframe tbody tr th:only-of-type {\n",
       "        vertical-align: middle;\n",
       "    }\n",
       "\n",
       "    .dataframe tbody tr th {\n",
       "        vertical-align: top;\n",
       "    }\n",
       "\n",
       "    .dataframe thead th {\n",
       "        text-align: right;\n",
       "    }\n",
       "</style>\n",
       "<table border=\"1\" class=\"dataframe\">\n",
       "  <thead>\n",
       "    <tr style=\"text-align: right;\">\n",
       "      <th></th>\n",
       "      <th>Customer ID</th>\n",
       "      <th>Mail Deliverable</th>\n",
       "      <th>Lifetime Recency</th>\n",
       "      <th>Lifetime Frequency</th>\n",
       "      <th>Lifetime Monetary</th>\n",
       "      <th>Closest store distance</th>\n",
       "    </tr>\n",
       "  </thead>\n",
       "  <tbody>\n",
       "    <tr>\n",
       "      <td>0</td>\n",
       "      <td>18089141</td>\n",
       "      <td>Y</td>\n",
       "      <td>12</td>\n",
       "      <td>1</td>\n",
       "      <td>368.84</td>\n",
       "      <td>161.0</td>\n",
       "    </tr>\n",
       "    <tr>\n",
       "      <td>1</td>\n",
       "      <td>4482047</td>\n",
       "      <td>Y</td>\n",
       "      <td>15</td>\n",
       "      <td>2</td>\n",
       "      <td>118.90</td>\n",
       "      <td>8.0</td>\n",
       "    </tr>\n",
       "    <tr>\n",
       "      <td>2</td>\n",
       "      <td>18201629</td>\n",
       "      <td>Y</td>\n",
       "      <td>4</td>\n",
       "      <td>1</td>\n",
       "      <td>99.90</td>\n",
       "      <td>86.0</td>\n",
       "    </tr>\n",
       "    <tr>\n",
       "      <td>3</td>\n",
       "      <td>18116939</td>\n",
       "      <td>Y</td>\n",
       "      <td>11</td>\n",
       "      <td>1</td>\n",
       "      <td>29.92</td>\n",
       "      <td>80.0</td>\n",
       "    </tr>\n",
       "    <tr>\n",
       "      <td>4</td>\n",
       "      <td>9125409</td>\n",
       "      <td>Y</td>\n",
       "      <td>4</td>\n",
       "      <td>21</td>\n",
       "      <td>1785.23</td>\n",
       "      <td>10.0</td>\n",
       "    </tr>\n",
       "  </tbody>\n",
       "</table>\n",
       "</div>"
      ],
      "text/plain": [
       "   Customer ID Mail Deliverable  Lifetime Recency  Lifetime Frequency   \\\n",
       "0     18089141                Y                12                    1   \n",
       "1      4482047                Y                15                    2   \n",
       "2     18201629                Y                 4                    1   \n",
       "3     18116939                Y                11                    1   \n",
       "4      9125409                Y                 4                   21   \n",
       "\n",
       "   Lifetime Monetary  Closest store distance  \n",
       "0             368.84                   161.0  \n",
       "1             118.90                     8.0  \n",
       "2              99.90                    86.0  \n",
       "3              29.92                    80.0  \n",
       "4            1785.23                    10.0  "
      ]
     },
     "execution_count": 3,
     "metadata": {},
     "output_type": "execute_result"
    }
   ],
   "source": [
    "customer_df.head()"
   ]
  },
  {
   "cell_type": "code",
   "execution_count": 4,
   "metadata": {
    "scrolled": true
   },
   "outputs": [
    {
     "name": "stdout",
     "output_type": "stream",
     "text": [
      "<class 'pandas.core.frame.DataFrame'>\n",
      "RangeIndex: 200000 entries, 0 to 199999\n",
      "Data columns (total 6 columns):\n",
      "Customer ID               200000 non-null int64\n",
      "Mail Deliverable          200000 non-null object\n",
      "Lifetime Recency          200000 non-null int64\n",
      "Lifetime Frequency        200000 non-null int64\n",
      "Lifetime Monetary         200000 non-null float64\n",
      "Closest store distance    197159 non-null float64\n",
      "dtypes: float64(2), int64(3), object(1)\n",
      "memory usage: 9.2+ MB\n"
     ]
    }
   ],
   "source": [
    "customer_df.info()"
   ]
  },
  {
   "cell_type": "code",
   "execution_count": 5,
   "metadata": {},
   "outputs": [
    {
     "data": {
      "text/plain": [
       "200000"
      ]
     },
     "execution_count": 5,
     "metadata": {},
     "output_type": "execute_result"
    }
   ],
   "source": [
    "len(customer_df['Customer ID'].unique())"
   ]
  },
  {
   "cell_type": "code",
   "execution_count": 6,
   "metadata": {},
   "outputs": [
    {
     "data": {
      "text/plain": [
       "Customer ID               0.00\n",
       "Mail Deliverable          0.00\n",
       "Lifetime Recency          0.00\n",
       "Lifetime Frequency        0.00\n",
       "Lifetime Monetary         0.00\n",
       "Closest store distance    1.42\n",
       "dtype: float64"
      ]
     },
     "execution_count": 6,
     "metadata": {},
     "output_type": "execute_result"
    }
   ],
   "source": [
    "# percent missing values in customer data\n",
    "round(100*(customer_df.isnull().sum())/len(customer_df), 2)"
   ]
  },
  {
   "cell_type": "code",
   "execution_count": 7,
   "metadata": {},
   "outputs": [
    {
     "data": {
      "text/plain": [
       "2841"
      ]
     },
     "execution_count": 7,
     "metadata": {},
     "output_type": "execute_result"
    }
   ],
   "source": [
    "missing_count = customer_df['Closest store distance'].isnull().sum()\n",
    "missing_count"
   ]
  },
  {
   "cell_type": "code",
   "execution_count": 8,
   "metadata": {},
   "outputs": [
    {
     "data": {
      "text/plain": [
       "count    197159.000000\n",
       "mean         43.918507\n",
       "std          50.164970\n",
       "min           0.000000\n",
       "25%          10.000000\n",
       "50%          22.000000\n",
       "75%          62.000000\n",
       "max         299.000000\n",
       "Name: Closest store distance, dtype: float64"
      ]
     },
     "execution_count": 8,
     "metadata": {},
     "output_type": "execute_result"
    }
   ],
   "source": [
    "customer_df['Closest store distance'].describe()"
   ]
  },
  {
   "cell_type": "code",
   "execution_count": 9,
   "metadata": {},
   "outputs": [
    {
     "name": "stderr",
     "output_type": "stream",
     "text": [
      "C:\\Users\\PRANJAL\\Anaconda3\\lib\\site-packages\\numpy\\lib\\histograms.py:839: RuntimeWarning: invalid value encountered in greater_equal\n",
      "  keep = (tmp_a >= first_edge)\n",
      "C:\\Users\\PRANJAL\\Anaconda3\\lib\\site-packages\\numpy\\lib\\histograms.py:840: RuntimeWarning: invalid value encountered in less_equal\n",
      "  keep &= (tmp_a <= last_edge)\n"
     ]
    },
    {
     "data": {
      "image/png": "[encoded data removed]",
      "text/plain": [
       "<Figure size 432x288 with 1 Axes>"
      ]
     },
     "metadata": {
      "needs_background": "light"
     },
     "output_type": "display_data"
    }
   ],
   "source": [
    "plt.hist(customer_df['Closest store distance'], bins=50)\n",
    "plt.xlabel('Distance')\n",
    "plt.ylabel('Frequency')\n",
    "plt.show()"
   ]
  },
  {
   "cell_type": "code",
   "execution_count": 10,
   "metadata": {},
   "outputs": [
    {
     "data": {
      "image/png": "[encoded data removed]",
      "text/plain": [
       "<Figure size 432x288 with 1 Axes>"
      ]
     },
     "metadata": {
      "needs_background": "light"
     },
     "output_type": "display_data"
    }
   ],
   "source": [
    "sns.boxplot(x=customer_df[\"Closest store distance\"])\n",
    "plt.show()"
   ]
  },
  {
   "cell_type": "code",
   "execution_count": 11,
   "metadata": {},
   "outputs": [],
   "source": [
    "# impute missing distance enteries with mean distance\n",
    "mean_distance = customer_df['Closest store distance'].mean()\n",
    "customer_df['Closest store distance'] = customer_df['Closest store distance'].fillna(mean_distance)"
   ]
  },
  {
   "cell_type": "code",
   "execution_count": 12,
   "metadata": {},
   "outputs": [
    {
     "name": "stdout",
     "output_type": "stream",
     "text": [
      "<class 'pandas.core.frame.DataFrame'>\n",
      "RangeIndex: 200000 entries, 0 to 199999\n",
      "Data columns (total 6 columns):\n",
      "Customer ID               200000 non-null int64\n",
      "Mail Deliverable          200000 non-null object\n",
      "Lifetime Recency          200000 non-null int64\n",
      "Lifetime Frequency        200000 non-null int64\n",
      "Lifetime Monetary         200000 non-null float64\n",
      "Closest store distance    200000 non-null float64\n",
      "dtypes: float64(2), int64(3), object(1)\n",
      "memory usage: 9.2+ MB\n"
     ]
    }
   ],
   "source": [
    "customer_df.info()"
   ]
  },
  {
   "cell_type": "code",
   "execution_count": 13,
   "metadata": {},
   "outputs": [
    {
     "name": "stderr",
     "output_type": "stream",
     "text": [
      "C:\\Users\\PRANJAL\\Anaconda3\\lib\\site-packages\\IPython\\core\\interactiveshell.py:3058: DtypeWarning: Columns (7) have mixed types. Specify dtype option on import or set low_memory=False.\n",
      "  interactivity=interactivity, compiler=compiler, result=result)\n"
     ]
    }
   ],
   "source": [
    "purchase_df = pd.read_csv(\"Purchase Data.csv\",header = 0)"
   ]
  },
  {
   "cell_type": "code",
   "execution_count": 14,
   "metadata": {},
   "outputs": [
    {
     "name": "stdout",
     "output_type": "stream",
     "text": [
      "<class 'pandas.core.frame.DataFrame'>\n",
      "RangeIndex: 508658 entries, 0 to 508657\n",
      "Data columns (total 8 columns):\n",
      "Customer ID    508658 non-null int64\n",
      "Date           508658 non-null object\n",
      "Product        508658 non-null object\n",
      "Units          508658 non-null int64\n",
      "Amount         508655 non-null float64\n",
      "Cost           508658 non-null float64\n",
      "Channel        508658 non-null object\n",
      "Store          508658 non-null object\n",
      "dtypes: float64(2), int64(2), object(4)\n",
      "memory usage: 31.0+ MB\n"
     ]
    }
   ],
   "source": [
    "purchase_df.info()"
   ]
  },
  {
   "cell_type": "code",
   "execution_count": 15,
   "metadata": {
    "scrolled": true
   },
   "outputs": [
    {
     "data": {
      "text/html": [
       "<div>\n",
       "<style scoped>\n",
       "    .dataframe tbody tr th:only-of-type {\n",
       "        vertical-align: middle;\n",
       "    }\n",
       "\n",
       "    .dataframe tbody tr th {\n",
       "        vertical-align: top;\n",
       "    }\n",
       "\n",
       "    .dataframe thead th {\n",
       "        text-align: right;\n",
       "    }\n",
       "</style>\n",
       "<table border=\"1\" class=\"dataframe\">\n",
       "  <thead>\n",
       "    <tr style=\"text-align: right;\">\n",
       "      <th></th>\n",
       "      <th>Customer ID</th>\n",
       "      <th>Date</th>\n",
       "      <th>Product</th>\n",
       "      <th>Units</th>\n",
       "      <th>Amount</th>\n",
       "      <th>Cost</th>\n",
       "      <th>Channel</th>\n",
       "      <th>Store</th>\n",
       "    </tr>\n",
       "  </thead>\n",
       "  <tbody>\n",
       "    <tr>\n",
       "      <td>0</td>\n",
       "      <td>1806560</td>\n",
       "      <td>19/09/2019</td>\n",
       "      <td>APPAREL</td>\n",
       "      <td>1</td>\n",
       "      <td>29.97</td>\n",
       "      <td>20.00</td>\n",
       "      <td>Internet</td>\n",
       "      <td>~</td>\n",
       "    </tr>\n",
       "    <tr>\n",
       "      <td>1</td>\n",
       "      <td>1806560</td>\n",
       "      <td>19/09/2019</td>\n",
       "      <td>APPAREL</td>\n",
       "      <td>1</td>\n",
       "      <td>29.97</td>\n",
       "      <td>38.00</td>\n",
       "      <td>Internet</td>\n",
       "      <td>~</td>\n",
       "    </tr>\n",
       "    <tr>\n",
       "      <td>2</td>\n",
       "      <td>1806560</td>\n",
       "      <td>19/09/2019</td>\n",
       "      <td>APPAREL</td>\n",
       "      <td>1</td>\n",
       "      <td>29.98</td>\n",
       "      <td>27.25</td>\n",
       "      <td>Internet</td>\n",
       "      <td>~</td>\n",
       "    </tr>\n",
       "    <tr>\n",
       "      <td>3</td>\n",
       "      <td>1806560</td>\n",
       "      <td>19/09/2019</td>\n",
       "      <td>APPAREL</td>\n",
       "      <td>1</td>\n",
       "      <td>24.97</td>\n",
       "      <td>15.00</td>\n",
       "      <td>Internet</td>\n",
       "      <td>~</td>\n",
       "    </tr>\n",
       "    <tr>\n",
       "      <td>4</td>\n",
       "      <td>1806560</td>\n",
       "      <td>19/09/2019</td>\n",
       "      <td>APPAREL</td>\n",
       "      <td>1</td>\n",
       "      <td>39.98</td>\n",
       "      <td>19.00</td>\n",
       "      <td>Internet</td>\n",
       "      <td>~</td>\n",
       "    </tr>\n",
       "  </tbody>\n",
       "</table>\n",
       "</div>"
      ],
      "text/plain": [
       "   Customer ID        Date  Product  Units  Amount   Cost   Channel Store\n",
       "0      1806560  19/09/2019  APPAREL      1   29.97  20.00  Internet     ~\n",
       "1      1806560  19/09/2019  APPAREL      1   29.97  38.00  Internet     ~\n",
       "2      1806560  19/09/2019  APPAREL      1   29.98  27.25  Internet     ~\n",
       "3      1806560  19/09/2019  APPAREL      1   24.97  15.00  Internet     ~\n",
       "4      1806560  19/09/2019  APPAREL      1   39.98  19.00  Internet     ~"
      ]
     },
     "execution_count": 15,
     "metadata": {},
     "output_type": "execute_result"
    }
   ],
   "source": [
    "purchase_df.head()"
   ]
  },
  {
   "cell_type": "code",
   "execution_count": 16,
   "metadata": {},
   "outputs": [
    {
     "data": {
      "text/plain": [
       "(508658, 8)"
      ]
     },
     "execution_count": 16,
     "metadata": {},
     "output_type": "execute_result"
    }
   ],
   "source": [
    "purchase_df.shape"
   ]
  },
  {
   "cell_type": "code",
   "execution_count": 17,
   "metadata": {},
   "outputs": [
    {
     "data": {
      "text/plain": [
       "86665"
      ]
     },
     "execution_count": 17,
     "metadata": {},
     "output_type": "execute_result"
    }
   ],
   "source": [
    "len(purchase_df['Customer ID'].unique())"
   ]
  },
  {
   "cell_type": "code",
   "execution_count": 18,
   "metadata": {},
   "outputs": [
    {
     "data": {
      "text/plain": [
       "array(['Internet', 'POS Sales'], dtype=object)"
      ]
     },
     "execution_count": 18,
     "metadata": {},
     "output_type": "execute_result"
    }
   ],
   "source": [
    "purchase_df['Channel'].unique()"
   ]
  },
  {
   "cell_type": "code",
   "execution_count": 19,
   "metadata": {},
   "outputs": [
    {
     "data": {
      "text/plain": [
       "array(['APPAREL', 'ACCESSORIES', 'NOVELTY', 'PERSONAL CARE', 'JEWELRY',\n",
       "       'FOOTWEAR', 'BEAUTY', 'BATH & BODY'], dtype=object)"
      ]
     },
     "execution_count": 19,
     "metadata": {},
     "output_type": "execute_result"
    }
   ],
   "source": [
    "purchase_df['Product'].unique()"
   ]
  },
  {
   "cell_type": "code",
   "execution_count": 20,
   "metadata": {},
   "outputs": [
    {
     "data": {
      "text/plain": [
       "array(['~', '37', '17', '15', '74', '10', '33', '23', '20', '45', '55',\n",
       "       '22', '24', '26', '14', '13', '40', '36', '62', '67', '53', '56',\n",
       "       '81', '52', '6', '1', '28', '51', '31', '69', '12', '72', '48',\n",
       "       '35', '32', '41', '19', '58', '38', '77', '7', '57', '80', '49',\n",
       "       '29', '50', '3', '47', '34', '54', '68', '76', '21', '60', '27',\n",
       "       '65', '43', '70', '5', '9', '46', '39', '16', '61', '11', '59',\n",
       "       '83', '63', '25', '71', '75', '2', '30', '44', '66', '73', '64',\n",
       "       '18', '82', '42', '79', 19, 5, 39, 7, 60, 37, 50, 74, 14, 65, 75,\n",
       "       38, 18, 9, 80, 42, 70, 31, 66, 67, 11, 63, 32, 40, 54, 46, 71, 10,\n",
       "       61, 6, 16, 25, 59, 43, 13, 68, 62, 33, 27, 81, 1, 55, 82, 44, 48,\n",
       "       26, 52, 72, 51, 28, 69, 15, 64, 22, 30, 56, 49, 58, 24, 73, 17, 23,\n",
       "       29, 3, 35, 20, 76, 12, 45, 47, 21, 83, 36, 79, 41, 53, 34, 2, 57,\n",
       "       77], dtype=object)"
      ]
     },
     "execution_count": 20,
     "metadata": {},
     "output_type": "execute_result"
    }
   ],
   "source": [
    "purchase_df['Store'].unique()"
   ]
  },
  {
   "cell_type": "code",
   "execution_count": 21,
   "metadata": {},
   "outputs": [],
   "source": [
    "purchase_df[\"Store\"] = purchase_df[\"Store\"].replace(\"~\", \"999\")"
   ]
  },
  {
   "cell_type": "code",
   "execution_count": 22,
   "metadata": {},
   "outputs": [
    {
     "data": {
      "text/plain": [
       "array(['999', '37', '17', '15', '74', '10', '33', '23', '20', '45', '55',\n",
       "       '22', '24', '26', '14', '13', '40', '36', '62', '67', '53', '56',\n",
       "       '81', '52', '6', '1', '28', '51', '31', '69', '12', '72', '48',\n",
       "       '35', '32', '41', '19', '58', '38', '77', '7', '57', '80', '49',\n",
       "       '29', '50', '3', '47', '34', '54', '68', '76', '21', '60', '27',\n",
       "       '65', '43', '70', '5', '9', '46', '39', '16', '61', '11', '59',\n",
       "       '83', '63', '25', '71', '75', '2', '30', '44', '66', '73', '64',\n",
       "       '18', '82', '42', '79', 19, 5, 39, 7, 60, 37, 50, 74, 14, 65, 75,\n",
       "       38, 18, 9, 80, 42, 70, 31, 66, 67, 11, 63, 32, 40, 54, 46, 71, 10,\n",
       "       61, 6, 16, 25, 59, 43, 13, 68, 62, 33, 27, 81, 1, 55, 82, 44, 48,\n",
       "       26, 52, 72, 51, 28, 69, 15, 64, 22, 30, 56, 49, 58, 24, 73, 17, 23,\n",
       "       29, 3, 35, 20, 76, 12, 45, 47, 21, 83, 36, 79, 41, 53, 34, 2, 57,\n",
       "       77], dtype=object)"
      ]
     },
     "execution_count": 22,
     "metadata": {},
     "output_type": "execute_result"
    }
   ],
   "source": [
    "purchase_df['Store'].unique()"
   ]
  },
  {
   "cell_type": "code",
   "execution_count": 23,
   "metadata": {},
   "outputs": [],
   "source": [
    "purchase_df['Store'] = purchase_df['Store'].astype(int)"
   ]
  },
  {
   "cell_type": "code",
   "execution_count": 24,
   "metadata": {},
   "outputs": [],
   "source": [
    "def find_missing_store_number(unique_arr):\n",
    "    n = len(unique_arr) + 1\n",
    "    expected_sum = (n * (n + 1)) // 2\n",
    "    actual_sum = sum(unique_arr)\n",
    "    missing_number = expected_sum - actual_sum\n",
    "    return missing_number"
   ]
  },
  {
   "cell_type": "code",
   "execution_count": 25,
   "metadata": {},
   "outputs": [],
   "source": [
    "def find_missing_numbers(unique_arr):\n",
    "    min_num = min(unique_arr)\n",
    "    max_num = max(unique_arr)\n",
    "    new_arr = [0] * (max_num - min_num + 1)\n",
    "    for num in arr:\n",
    "        new_arr[num - min_num] = 1\n",
    "    missing_numbers = []\n",
    "    for i in range(len(new_arr)):\n",
    "        if new_arr[i] == 0:\n",
    "            missing_numbers.append(i + min_num)\n",
    "    return missing_numbers\n"
   ]
  },
  {
   "cell_type": "code",
   "execution_count": 26,
   "metadata": {},
   "outputs": [
    {
     "name": "stdout",
     "output_type": "stream",
     "text": [
      "[4, 8, 78]\n"
     ]
    }
   ],
   "source": [
    "import numpy as np\n",
    "arr = purchase_df.loc[purchase_df[\"Store\"] != 999, \"Store\"].values.astype(np.int32)\n",
    "unique_arr = np.unique(arr)\n",
    "missing_numbers = find_missing_numbers(unique_arr)\n",
    "print(missing_numbers)\n"
   ]
  },
  {
   "cell_type": "code",
   "execution_count": 27,
   "metadata": {},
   "outputs": [
    {
     "data": {
      "text/plain": [
       "Customer ID    0.0\n",
       "Date           0.0\n",
       "Product        0.0\n",
       "Units          0.0\n",
       "Amount         0.0\n",
       "Cost           0.0\n",
       "Channel        0.0\n",
       "Store          0.0\n",
       "dtype: float64"
      ]
     },
     "execution_count": 27,
     "metadata": {},
     "output_type": "execute_result"
    }
   ],
   "source": [
    "#check for missing values in purchase data\n",
    "round(100*(purchase_df.isnull().sum())/len(purchase_df), 2)"
   ]
  },
  {
   "cell_type": "markdown",
   "metadata": {},
   "source": [
    "### Prepare Data for modelling"
   ]
  },
  {
   "cell_type": "code",
   "execution_count": 47,
   "metadata": {},
   "outputs": [
    {
     "data": {
      "text/html": [
       "<div>\n",
       "<style scoped>\n",
       "    .dataframe tbody tr th:only-of-type {\n",
       "        vertical-align: middle;\n",
       "    }\n",
       "\n",
       "    .dataframe tbody tr th {\n",
       "        vertical-align: top;\n",
       "    }\n",
       "\n",
       "    .dataframe thead th {\n",
       "        text-align: right;\n",
       "    }\n",
       "</style>\n",
       "<table border=\"1\" class=\"dataframe\">\n",
       "  <thead>\n",
       "    <tr style=\"text-align: right;\">\n",
       "      <th></th>\n",
       "      <th>Customer ID</th>\n",
       "      <th>Mail Deliverable</th>\n",
       "      <th>Lifetime Recency</th>\n",
       "      <th>Lifetime Frequency</th>\n",
       "      <th>Lifetime Monetary</th>\n",
       "      <th>Closest store distance</th>\n",
       "      <th>Date</th>\n",
       "      <th>Product</th>\n",
       "      <th>Units</th>\n",
       "      <th>Amount</th>\n",
       "      <th>Cost</th>\n",
       "      <th>Channel</th>\n",
       "      <th>Store</th>\n",
       "    </tr>\n",
       "  </thead>\n",
       "  <tbody>\n",
       "    <tr>\n",
       "      <td>0</td>\n",
       "      <td>4482047</td>\n",
       "      <td>Y</td>\n",
       "      <td>15</td>\n",
       "      <td>2</td>\n",
       "      <td>118.90</td>\n",
       "      <td>8.0</td>\n",
       "      <td>07/06/2019</td>\n",
       "      <td>APPAREL</td>\n",
       "      <td>1</td>\n",
       "      <td>108.95</td>\n",
       "      <td>23.00</td>\n",
       "      <td>Internet</td>\n",
       "      <td>999</td>\n",
       "    </tr>\n",
       "    <tr>\n",
       "      <td>1</td>\n",
       "      <td>6564872</td>\n",
       "      <td>Y</td>\n",
       "      <td>4</td>\n",
       "      <td>6</td>\n",
       "      <td>1785.20</td>\n",
       "      <td>13.0</td>\n",
       "      <td>13/12/2019</td>\n",
       "      <td>APPAREL</td>\n",
       "      <td>1</td>\n",
       "      <td>69.95</td>\n",
       "      <td>16.31</td>\n",
       "      <td>Internet</td>\n",
       "      <td>999</td>\n",
       "    </tr>\n",
       "    <tr>\n",
       "      <td>2</td>\n",
       "      <td>7004515</td>\n",
       "      <td>Y</td>\n",
       "      <td>11</td>\n",
       "      <td>23</td>\n",
       "      <td>2068.93</td>\n",
       "      <td>23.0</td>\n",
       "      <td>21/11/2019</td>\n",
       "      <td>APPAREL</td>\n",
       "      <td>1</td>\n",
       "      <td>119.95</td>\n",
       "      <td>39.75</td>\n",
       "      <td>Internet</td>\n",
       "      <td>999</td>\n",
       "    </tr>\n",
       "    <tr>\n",
       "      <td>3</td>\n",
       "      <td>7004515</td>\n",
       "      <td>Y</td>\n",
       "      <td>11</td>\n",
       "      <td>23</td>\n",
       "      <td>2068.93</td>\n",
       "      <td>23.0</td>\n",
       "      <td>20/07/2019</td>\n",
       "      <td>APPAREL</td>\n",
       "      <td>1</td>\n",
       "      <td>59.95</td>\n",
       "      <td>14.75</td>\n",
       "      <td>Internet</td>\n",
       "      <td>999</td>\n",
       "    </tr>\n",
       "    <tr>\n",
       "      <td>4</td>\n",
       "      <td>6429944</td>\n",
       "      <td>Y</td>\n",
       "      <td>11</td>\n",
       "      <td>8</td>\n",
       "      <td>2813.77</td>\n",
       "      <td>9.0</td>\n",
       "      <td>12/11/2019</td>\n",
       "      <td>APPAREL</td>\n",
       "      <td>1</td>\n",
       "      <td>79.95</td>\n",
       "      <td>15.76</td>\n",
       "      <td>Internet</td>\n",
       "      <td>999</td>\n",
       "    </tr>\n",
       "    <tr>\n",
       "      <td>...</td>\n",
       "      <td>...</td>\n",
       "      <td>...</td>\n",
       "      <td>...</td>\n",
       "      <td>...</td>\n",
       "      <td>...</td>\n",
       "      <td>...</td>\n",
       "      <td>...</td>\n",
       "      <td>...</td>\n",
       "      <td>...</td>\n",
       "      <td>...</td>\n",
       "      <td>...</td>\n",
       "      <td>...</td>\n",
       "      <td>...</td>\n",
       "    </tr>\n",
       "    <tr>\n",
       "      <td>508653</td>\n",
       "      <td>2930907</td>\n",
       "      <td>Y</td>\n",
       "      <td>18</td>\n",
       "      <td>1</td>\n",
       "      <td>99.90</td>\n",
       "      <td>175.0</td>\n",
       "      <td>20/04/2019</td>\n",
       "      <td>APPAREL</td>\n",
       "      <td>1</td>\n",
       "      <td>76.46</td>\n",
       "      <td>13.80</td>\n",
       "      <td>Internet</td>\n",
       "      <td>999</td>\n",
       "    </tr>\n",
       "    <tr>\n",
       "      <td>508654</td>\n",
       "      <td>18077839</td>\n",
       "      <td>Y</td>\n",
       "      <td>13</td>\n",
       "      <td>2</td>\n",
       "      <td>229.86</td>\n",
       "      <td>24.0</td>\n",
       "      <td>31/08/2019</td>\n",
       "      <td>APPAREL</td>\n",
       "      <td>1</td>\n",
       "      <td>39.99</td>\n",
       "      <td>27.25</td>\n",
       "      <td>Internet</td>\n",
       "      <td>999</td>\n",
       "    </tr>\n",
       "    <tr>\n",
       "      <td>508655</td>\n",
       "      <td>18077839</td>\n",
       "      <td>Y</td>\n",
       "      <td>13</td>\n",
       "      <td>2</td>\n",
       "      <td>229.86</td>\n",
       "      <td>24.0</td>\n",
       "      <td>31/08/2019</td>\n",
       "      <td>APPAREL</td>\n",
       "      <td>1</td>\n",
       "      <td>49.99</td>\n",
       "      <td>21.00</td>\n",
       "      <td>Internet</td>\n",
       "      <td>999</td>\n",
       "    </tr>\n",
       "    <tr>\n",
       "      <td>508656</td>\n",
       "      <td>18077839</td>\n",
       "      <td>Y</td>\n",
       "      <td>13</td>\n",
       "      <td>2</td>\n",
       "      <td>229.86</td>\n",
       "      <td>24.0</td>\n",
       "      <td>31/08/2019</td>\n",
       "      <td>APPAREL</td>\n",
       "      <td>1</td>\n",
       "      <td>59.99</td>\n",
       "      <td>20.16</td>\n",
       "      <td>Internet</td>\n",
       "      <td>999</td>\n",
       "    </tr>\n",
       "    <tr>\n",
       "      <td>508657</td>\n",
       "      <td>3173145</td>\n",
       "      <td>Y</td>\n",
       "      <td>20</td>\n",
       "      <td>2</td>\n",
       "      <td>137.83</td>\n",
       "      <td>15.0</td>\n",
       "      <td>11/02/2019</td>\n",
       "      <td>APPAREL</td>\n",
       "      <td>1</td>\n",
       "      <td>59.95</td>\n",
       "      <td>19.84</td>\n",
       "      <td>Internet</td>\n",
       "      <td>999</td>\n",
       "    </tr>\n",
       "  </tbody>\n",
       "</table>\n",
       "<p>505368 rows × 13 columns</p>\n",
       "</div>"
      ],
      "text/plain": [
       "        Customer ID Mail Deliverable  Lifetime Recency  Lifetime Frequency   \\\n",
       "0           4482047                Y                15                    2   \n",
       "1           6564872                Y                 4                    6   \n",
       "2           7004515                Y                11                   23   \n",
       "3           7004515                Y                11                   23   \n",
       "4           6429944                Y                11                    8   \n",
       "...             ...              ...               ...                  ...   \n",
       "508653      2930907                Y                18                    1   \n",
       "508654     18077839                Y                13                    2   \n",
       "508655     18077839                Y                13                    2   \n",
       "508656     18077839                Y                13                    2   \n",
       "508657      3173145                Y                20                    2   \n",
       "\n",
       "        Lifetime Monetary  Closest store distance        Date  Product  Units  \\\n",
       "0                  118.90                     8.0  07/06/2019  APPAREL      1   \n",
       "1                 1785.20                    13.0  13/12/2019  APPAREL      1   \n",
       "2                 2068.93                    23.0  21/11/2019  APPAREL      1   \n",
       "3                 2068.93                    23.0  20/07/2019  APPAREL      1   \n",
       "4                 2813.77                     9.0  12/11/2019  APPAREL      1   \n",
       "...                   ...                     ...         ...      ...    ...   \n",
       "508653              99.90                   175.0  20/04/2019  APPAREL      1   \n",
       "508654             229.86                    24.0  31/08/2019  APPAREL      1   \n",
       "508655             229.86                    24.0  31/08/2019  APPAREL      1   \n",
       "508656             229.86                    24.0  31/08/2019  APPAREL      1   \n",
       "508657             137.83                    15.0  11/02/2019  APPAREL      1   \n",
       "\n",
       "        Amount   Cost   Channel  Store  \n",
       "0       108.95  23.00  Internet    999  \n",
       "1        69.95  16.31  Internet    999  \n",
       "2       119.95  39.75  Internet    999  \n",
       "3        59.95  14.75  Internet    999  \n",
       "4        79.95  15.76  Internet    999  \n",
       "...        ...    ...       ...    ...  \n",
       "508653   76.46  13.80  Internet    999  \n",
       "508654   39.99  27.25  Internet    999  \n",
       "508655   49.99  21.00  Internet    999  \n",
       "508656   59.99  20.16  Internet    999  \n",
       "508657   59.95  19.84  Internet    999  \n",
       "\n",
       "[505368 rows x 13 columns]"
      ]
     },
     "execution_count": 47,
     "metadata": {},
     "output_type": "execute_result"
    }
   ],
   "source": [
    "# merge customer data and purchase data\n",
    "# merge the two data frames on the 'Customer ID' column\n",
    "merged_df = pd.merge(customer_df, purchase_df, on='Customer ID', how='inner')\n",
    "\n",
    "# drop duplicate rows if any\n",
    "merged_df.drop_duplicates()"
   ]
  },
  {
   "cell_type": "code",
   "execution_count": 48,
   "metadata": {},
   "outputs": [
    {
     "name": "stdout",
     "output_type": "stream",
     "text": [
      "<class 'pandas.core.frame.DataFrame'>\n",
      "Int64Index: 508658 entries, 0 to 508657\n",
      "Data columns (total 13 columns):\n",
      "Customer ID               508658 non-null int64\n",
      "Mail Deliverable          508658 non-null object\n",
      "Lifetime Recency          508658 non-null int64\n",
      "Lifetime Frequency        508658 non-null int64\n",
      "Lifetime Monetary         508658 non-null float64\n",
      "Closest store distance    508658 non-null float64\n",
      "Date                      508658 non-null object\n",
      "Product                   508658 non-null object\n",
      "Units                     508658 non-null int64\n",
      "Amount                    508655 non-null float64\n",
      "Cost                      508658 non-null float64\n",
      "Channel                   508658 non-null object\n",
      "Store                     508658 non-null int32\n",
      "dtypes: float64(4), int32(1), int64(4), object(4)\n",
      "memory usage: 52.4+ MB\n"
     ]
    }
   ],
   "source": [
    "merged_df.info()"
   ]
  },
  {
   "cell_type": "code",
   "execution_count": 49,
   "metadata": {},
   "outputs": [],
   "source": [
    "#convert date to proper datatype\n",
    "import datetime as dt\n",
    "merged_df['Date'] = pd.to_datetime(merged_df['Date'])"
   ]
  },
  {
   "cell_type": "code",
   "execution_count": 50,
   "metadata": {},
   "outputs": [
    {
     "data": {
      "text/plain": [
       "array(['Y', 'N'], dtype=object)"
      ]
     },
     "execution_count": 50,
     "metadata": {},
     "output_type": "execute_result"
    }
   ],
   "source": [
    "merged_df['Mail Deliverable'].unique()"
   ]
  },
  {
   "cell_type": "code",
   "execution_count": 51,
   "metadata": {},
   "outputs": [],
   "source": [
    "merged_df[\"Mail Deliverable\"] = merged_df[\"Mail Deliverable\"].replace(\"Y\", \"1\")\n",
    "merged_df[\"Mail Deliverable\"] = merged_df[\"Mail Deliverable\"].replace(\"N\", \"0\")"
   ]
  },
  {
   "cell_type": "code",
   "execution_count": 52,
   "metadata": {},
   "outputs": [
    {
     "data": {
      "text/plain": [
       "array(['1', '0'], dtype=object)"
      ]
     },
     "execution_count": 52,
     "metadata": {},
     "output_type": "execute_result"
    }
   ],
   "source": [
    "merged_df['Mail Deliverable'].unique()"
   ]
  },
  {
   "cell_type": "code",
   "execution_count": 53,
   "metadata": {},
   "outputs": [],
   "source": [
    "merged_df['Mail Deliverable'] = merged_df['Mail Deliverable'].astype(int)"
   ]
  },
  {
   "cell_type": "code",
   "execution_count": 54,
   "metadata": {},
   "outputs": [
    {
     "name": "stdout",
     "output_type": "stream",
     "text": [
      "<class 'pandas.core.frame.DataFrame'>\n",
      "Int64Index: 508658 entries, 0 to 508657\n",
      "Data columns (total 13 columns):\n",
      "Customer ID               508658 non-null int64\n",
      "Mail Deliverable          508658 non-null int32\n",
      "Lifetime Recency          508658 non-null int64\n",
      "Lifetime Frequency        508658 non-null int64\n",
      "Lifetime Monetary         508658 non-null float64\n",
      "Closest store distance    508658 non-null float64\n",
      "Date                      508658 non-null datetime64[ns]\n",
      "Product                   508658 non-null object\n",
      "Units                     508658 non-null int64\n",
      "Amount                    508655 non-null float64\n",
      "Cost                      508658 non-null float64\n",
      "Channel                   508658 non-null object\n",
      "Store                     508658 non-null int32\n",
      "dtypes: datetime64[ns](1), float64(4), int32(2), int64(4), object(2)\n",
      "memory usage: 50.4+ MB\n"
     ]
    }
   ],
   "source": [
    "merged_df.info()"
   ]
  },
  {
   "cell_type": "code",
   "execution_count": 69,
   "metadata": {},
   "outputs": [],
   "source": [
    "# add month and quarter columns\n",
    "merged_df['Month'] = merged_df['Date'].dt.month\n",
    "merged_df['Quarter'] = merged_df['Date'].dt.quarter\n",
    "merged_df['Year'] = merged_df['Date'].dt.year"
   ]
  },
  {
   "cell_type": "code",
   "execution_count": 70,
   "metadata": {},
   "outputs": [
    {
     "name": "stdout",
     "output_type": "stream",
     "text": [
      "<class 'pandas.core.frame.DataFrame'>\n",
      "Int64Index: 508658 entries, 0 to 508657\n",
      "Data columns (total 16 columns):\n",
      "Customer ID               508658 non-null int64\n",
      "Mail Deliverable          508658 non-null int32\n",
      "Lifetime Recency          508658 non-null int64\n",
      "Lifetime Frequency        508658 non-null int64\n",
      "Lifetime Monetary         508658 non-null float64\n",
      "Closest store distance    508658 non-null float64\n",
      "Date                      508658 non-null datetime64[ns]\n",
      "Product                   508658 non-null object\n",
      "Units                     508658 non-null int64\n",
      "Amount                    508655 non-null float64\n",
      "Cost                      508658 non-null float64\n",
      "Channel                   508658 non-null object\n",
      "Store                     508658 non-null int32\n",
      "Month                     508658 non-null int64\n",
      "Quarter                   508658 non-null int64\n",
      "Year                      508658 non-null int64\n",
      "dtypes: datetime64[ns](1), float64(4), int32(2), int64(7), object(2)\n",
      "memory usage: 62.1+ MB\n"
     ]
    }
   ],
   "source": [
    "merged_df.info()"
   ]
  },
  {
   "cell_type": "markdown",
   "metadata": {},
   "source": [
    "### EDA questions"
   ]
  },
  {
   "cell_type": "markdown",
   "metadata": {},
   "source": [
    "#### Q1. Aggregate the revenue and quantity at customer level for relevant time period along with the reason of time period selection"
   ]
  },
  {
   "cell_type": "markdown",
   "metadata": {},
   "source": [
    "To aggregate revenue and quantity at the customer level, we need to first identify the relevant time period for analysis\n",
    "\n",
    "1.Monthly: Aggregating the data at the monthly level can provide insights into trends over time and seasonal variations.\n",
    "\n",
    "2.Quarterly: Aggregating the data at the quarterly level can provide a higher-level view of performance and may be useful for reporting purposes.\n",
    "\n",
    "3.Annual: Aggregating the data at the annual level can provide a high-level overview of performance for the entire year."
   ]
  },
  {
   "cell_type": "code",
   "execution_count": 65,
   "metadata": {},
   "outputs": [],
   "source": [
    "monthly_df = merged_df.groupby(['Customer ID', 'Month']).agg({'Amount': 'sum','Units': 'sum'}).reset_index()"
   ]
  },
  {
   "cell_type": "code",
   "execution_count": 66,
   "metadata": {},
   "outputs": [
    {
     "data": {
      "text/html": [
       "<div>\n",
       "<style scoped>\n",
       "    .dataframe tbody tr th:only-of-type {\n",
       "        vertical-align: middle;\n",
       "    }\n",
       "\n",
       "    .dataframe tbody tr th {\n",
       "        vertical-align: top;\n",
       "    }\n",
       "\n",
       "    .dataframe thead th {\n",
       "        text-align: right;\n",
       "    }\n",
       "</style>\n",
       "<table border=\"1\" class=\"dataframe\">\n",
       "  <thead>\n",
       "    <tr style=\"text-align: right;\">\n",
       "      <th></th>\n",
       "      <th>Customer ID</th>\n",
       "      <th>Month</th>\n",
       "      <th>Amount</th>\n",
       "      <th>Units</th>\n",
       "    </tr>\n",
       "  </thead>\n",
       "  <tbody>\n",
       "    <tr>\n",
       "      <td>0</td>\n",
       "      <td>1806560</td>\n",
       "      <td>9</td>\n",
       "      <td>234.84</td>\n",
       "      <td>7</td>\n",
       "    </tr>\n",
       "    <tr>\n",
       "      <td>1</td>\n",
       "      <td>1806593</td>\n",
       "      <td>1</td>\n",
       "      <td>278.85</td>\n",
       "      <td>3</td>\n",
       "    </tr>\n",
       "    <tr>\n",
       "      <td>2</td>\n",
       "      <td>1806727</td>\n",
       "      <td>1</td>\n",
       "      <td>108.95</td>\n",
       "      <td>1</td>\n",
       "    </tr>\n",
       "    <tr>\n",
       "      <td>3</td>\n",
       "      <td>1806727</td>\n",
       "      <td>4</td>\n",
       "      <td>508.70</td>\n",
       "      <td>6</td>\n",
       "    </tr>\n",
       "    <tr>\n",
       "      <td>4</td>\n",
       "      <td>1806727</td>\n",
       "      <td>10</td>\n",
       "      <td>79.95</td>\n",
       "      <td>1</td>\n",
       "    </tr>\n",
       "  </tbody>\n",
       "</table>\n",
       "</div>"
      ],
      "text/plain": [
       "   Customer ID  Month  Amount  Units\n",
       "0      1806560      9  234.84      7\n",
       "1      1806593      1  278.85      3\n",
       "2      1806727      1  108.95      1\n",
       "3      1806727      4  508.70      6\n",
       "4      1806727     10   79.95      1"
      ]
     },
     "execution_count": 66,
     "metadata": {},
     "output_type": "execute_result"
    }
   ],
   "source": [
    "monthly_df.head()"
   ]
  },
  {
   "cell_type": "code",
   "execution_count": 67,
   "metadata": {},
   "outputs": [],
   "source": [
    "quarterly_df = merged_df.groupby(['Customer ID', 'Quarter']).agg({'Amount': 'sum','Units': 'sum'}).reset_index()"
   ]
  },
  {
   "cell_type": "code",
   "execution_count": 68,
   "metadata": {},
   "outputs": [
    {
     "data": {
      "text/html": [
       "<div>\n",
       "<style scoped>\n",
       "    .dataframe tbody tr th:only-of-type {\n",
       "        vertical-align: middle;\n",
       "    }\n",
       "\n",
       "    .dataframe tbody tr th {\n",
       "        vertical-align: top;\n",
       "    }\n",
       "\n",
       "    .dataframe thead th {\n",
       "        text-align: right;\n",
       "    }\n",
       "</style>\n",
       "<table border=\"1\" class=\"dataframe\">\n",
       "  <thead>\n",
       "    <tr style=\"text-align: right;\">\n",
       "      <th></th>\n",
       "      <th>Customer ID</th>\n",
       "      <th>Quarter</th>\n",
       "      <th>Amount</th>\n",
       "      <th>Units</th>\n",
       "    </tr>\n",
       "  </thead>\n",
       "  <tbody>\n",
       "    <tr>\n",
       "      <td>0</td>\n",
       "      <td>1806560</td>\n",
       "      <td>3</td>\n",
       "      <td>234.84</td>\n",
       "      <td>7</td>\n",
       "    </tr>\n",
       "    <tr>\n",
       "      <td>1</td>\n",
       "      <td>1806593</td>\n",
       "      <td>1</td>\n",
       "      <td>278.85</td>\n",
       "      <td>3</td>\n",
       "    </tr>\n",
       "    <tr>\n",
       "      <td>2</td>\n",
       "      <td>1806727</td>\n",
       "      <td>1</td>\n",
       "      <td>108.95</td>\n",
       "      <td>1</td>\n",
       "    </tr>\n",
       "    <tr>\n",
       "      <td>3</td>\n",
       "      <td>1806727</td>\n",
       "      <td>2</td>\n",
       "      <td>508.70</td>\n",
       "      <td>6</td>\n",
       "    </tr>\n",
       "    <tr>\n",
       "      <td>4</td>\n",
       "      <td>1806727</td>\n",
       "      <td>4</td>\n",
       "      <td>79.95</td>\n",
       "      <td>1</td>\n",
       "    </tr>\n",
       "  </tbody>\n",
       "</table>\n",
       "</div>"
      ],
      "text/plain": [
       "   Customer ID  Quarter  Amount  Units\n",
       "0      1806560        3  234.84      7\n",
       "1      1806593        1  278.85      3\n",
       "2      1806727        1  108.95      1\n",
       "3      1806727        2  508.70      6\n",
       "4      1806727        4   79.95      1"
      ]
     },
     "execution_count": 68,
     "metadata": {},
     "output_type": "execute_result"
    }
   ],
   "source": [
    "quarterly_df.head()"
   ]
  },
  {
   "cell_type": "code",
   "execution_count": 71,
   "metadata": {},
   "outputs": [],
   "source": [
    "yearly_df = merged_df.groupby(['Customer ID', 'Year']).agg({'Amount': 'sum','Units': 'sum'}).reset_index()"
   ]
  },
  {
   "cell_type": "code",
   "execution_count": 72,
   "metadata": {},
   "outputs": [
    {
     "data": {
      "text/html": [
       "<div>\n",
       "<style scoped>\n",
       "    .dataframe tbody tr th:only-of-type {\n",
       "        vertical-align: middle;\n",
       "    }\n",
       "\n",
       "    .dataframe tbody tr th {\n",
       "        vertical-align: top;\n",
       "    }\n",
       "\n",
       "    .dataframe thead th {\n",
       "        text-align: right;\n",
       "    }\n",
       "</style>\n",
       "<table border=\"1\" class=\"dataframe\">\n",
       "  <thead>\n",
       "    <tr style=\"text-align: right;\">\n",
       "      <th></th>\n",
       "      <th>Customer ID</th>\n",
       "      <th>Year</th>\n",
       "      <th>Amount</th>\n",
       "      <th>Units</th>\n",
       "    </tr>\n",
       "  </thead>\n",
       "  <tbody>\n",
       "    <tr>\n",
       "      <td>0</td>\n",
       "      <td>1806560</td>\n",
       "      <td>2019</td>\n",
       "      <td>234.84</td>\n",
       "      <td>7</td>\n",
       "    </tr>\n",
       "    <tr>\n",
       "      <td>1</td>\n",
       "      <td>1806593</td>\n",
       "      <td>2019</td>\n",
       "      <td>278.85</td>\n",
       "      <td>3</td>\n",
       "    </tr>\n",
       "    <tr>\n",
       "      <td>2</td>\n",
       "      <td>1806727</td>\n",
       "      <td>2019</td>\n",
       "      <td>697.60</td>\n",
       "      <td>8</td>\n",
       "    </tr>\n",
       "    <tr>\n",
       "      <td>3</td>\n",
       "      <td>1806735</td>\n",
       "      <td>2019</td>\n",
       "      <td>177.85</td>\n",
       "      <td>3</td>\n",
       "    </tr>\n",
       "    <tr>\n",
       "      <td>4</td>\n",
       "      <td>1806741</td>\n",
       "      <td>2019</td>\n",
       "      <td>164.80</td>\n",
       "      <td>4</td>\n",
       "    </tr>\n",
       "  </tbody>\n",
       "</table>\n",
       "</div>"
      ],
      "text/plain": [
       "   Customer ID  Year  Amount  Units\n",
       "0      1806560  2019  234.84      7\n",
       "1      1806593  2019  278.85      3\n",
       "2      1806727  2019  697.60      8\n",
       "3      1806735  2019  177.85      3\n",
       "4      1806741  2019  164.80      4"
      ]
     },
     "execution_count": 72,
     "metadata": {},
     "output_type": "execute_result"
    }
   ],
   "source": [
    "yearly_df.head()"
   ]
  },
  {
   "cell_type": "code",
   "execution_count": 82,
   "metadata": {},
   "outputs": [
    {
     "data": {
      "text/html": [
       "<div>\n",
       "<style scoped>\n",
       "    .dataframe tbody tr th:only-of-type {\n",
       "        vertical-align: middle;\n",
       "    }\n",
       "\n",
       "    .dataframe tbody tr th {\n",
       "        vertical-align: top;\n",
       "    }\n",
       "\n",
       "    .dataframe thead th {\n",
       "        text-align: right;\n",
       "    }\n",
       "</style>\n",
       "<table border=\"1\" class=\"dataframe\">\n",
       "  <thead>\n",
       "    <tr style=\"text-align: right;\">\n",
       "      <th></th>\n",
       "      <th>Customer ID</th>\n",
       "      <th>Amount</th>\n",
       "    </tr>\n",
       "  </thead>\n",
       "  <tbody>\n",
       "    <tr>\n",
       "      <td>0</td>\n",
       "      <td>1806560</td>\n",
       "      <td>33.548571</td>\n",
       "    </tr>\n",
       "    <tr>\n",
       "      <td>1</td>\n",
       "      <td>1806593</td>\n",
       "      <td>92.950000</td>\n",
       "    </tr>\n",
       "    <tr>\n",
       "      <td>2</td>\n",
       "      <td>1806727</td>\n",
       "      <td>87.200000</td>\n",
       "    </tr>\n",
       "    <tr>\n",
       "      <td>3</td>\n",
       "      <td>1806735</td>\n",
       "      <td>88.925000</td>\n",
       "    </tr>\n",
       "    <tr>\n",
       "      <td>4</td>\n",
       "      <td>1806741</td>\n",
       "      <td>41.200000</td>\n",
       "    </tr>\n",
       "  </tbody>\n",
       "</table>\n",
       "</div>"
      ],
      "text/plain": [
       "   Customer ID     Amount\n",
       "0      1806560  33.548571\n",
       "1      1806593  92.950000\n",
       "2      1806727  87.200000\n",
       "3      1806735  88.925000\n",
       "4      1806741  41.200000"
      ]
     },
     "execution_count": 82,
     "metadata": {},
     "output_type": "execute_result"
    }
   ],
   "source": [
    "avg_order_value_per_customer = merged_df.groupby(['Customer ID']).agg({'Amount': 'mean'}).reset_index()\n",
    "avg_order_value_per_customer.head()"
   ]
  },
  {
   "cell_type": "code",
   "execution_count": 36,
   "metadata": {},
   "outputs": [
    {
     "data": {
      "text/plain": [
       "Timestamp('2019-12-31 00:00:00')"
      ]
     },
     "execution_count": 36,
     "metadata": {},
     "output_type": "execute_result"
    }
   ],
   "source": [
    "# compute the max date\n",
    "max_date = max(merged_df['Date'])\n",
    "max_date"
   ]
  },
  {
   "cell_type": "code",
   "execution_count": 37,
   "metadata": {},
   "outputs": [
    {
     "data": {
      "text/html": [
       "<div>\n",
       "<style scoped>\n",
       "    .dataframe tbody tr th:only-of-type {\n",
       "        vertical-align: middle;\n",
       "    }\n",
       "\n",
       "    .dataframe tbody tr th {\n",
       "        vertical-align: top;\n",
       "    }\n",
       "\n",
       "    .dataframe thead th {\n",
       "        text-align: right;\n",
       "    }\n",
       "</style>\n",
       "<table border=\"1\" class=\"dataframe\">\n",
       "  <thead>\n",
       "    <tr style=\"text-align: right;\">\n",
       "      <th></th>\n",
       "      <th>Customer ID</th>\n",
       "      <th>Mail Deliverable</th>\n",
       "      <th>Lifetime Recency</th>\n",
       "      <th>Lifetime Frequency</th>\n",
       "      <th>Lifetime Monetary</th>\n",
       "      <th>Closest store distance</th>\n",
       "      <th>Date</th>\n",
       "      <th>Product</th>\n",
       "      <th>Units</th>\n",
       "      <th>Amount</th>\n",
       "      <th>Cost</th>\n",
       "      <th>Channel</th>\n",
       "      <th>Store</th>\n",
       "      <th>diff</th>\n",
       "    </tr>\n",
       "  </thead>\n",
       "  <tbody>\n",
       "    <tr>\n",
       "      <th>0</th>\n",
       "      <td>4482047</td>\n",
       "      <td>1</td>\n",
       "      <td>15</td>\n",
       "      <td>2</td>\n",
       "      <td>118.90</td>\n",
       "      <td>8.0</td>\n",
       "      <td>2019-06-07</td>\n",
       "      <td>APPAREL</td>\n",
       "      <td>1</td>\n",
       "      <td>108.95</td>\n",
       "      <td>23.00</td>\n",
       "      <td>Internet</td>\n",
       "      <td>999</td>\n",
       "      <td>207 days</td>\n",
       "    </tr>\n",
       "    <tr>\n",
       "      <th>1</th>\n",
       "      <td>6564872</td>\n",
       "      <td>1</td>\n",
       "      <td>4</td>\n",
       "      <td>6</td>\n",
       "      <td>1785.20</td>\n",
       "      <td>13.0</td>\n",
       "      <td>2019-12-13</td>\n",
       "      <td>APPAREL</td>\n",
       "      <td>1</td>\n",
       "      <td>69.95</td>\n",
       "      <td>16.31</td>\n",
       "      <td>Internet</td>\n",
       "      <td>999</td>\n",
       "      <td>18 days</td>\n",
       "    </tr>\n",
       "    <tr>\n",
       "      <th>2</th>\n",
       "      <td>7004515</td>\n",
       "      <td>1</td>\n",
       "      <td>11</td>\n",
       "      <td>23</td>\n",
       "      <td>2068.93</td>\n",
       "      <td>23.0</td>\n",
       "      <td>2019-11-21</td>\n",
       "      <td>APPAREL</td>\n",
       "      <td>1</td>\n",
       "      <td>119.95</td>\n",
       "      <td>39.75</td>\n",
       "      <td>Internet</td>\n",
       "      <td>999</td>\n",
       "      <td>40 days</td>\n",
       "    </tr>\n",
       "    <tr>\n",
       "      <th>3</th>\n",
       "      <td>7004515</td>\n",
       "      <td>1</td>\n",
       "      <td>11</td>\n",
       "      <td>23</td>\n",
       "      <td>2068.93</td>\n",
       "      <td>23.0</td>\n",
       "      <td>2019-07-20</td>\n",
       "      <td>APPAREL</td>\n",
       "      <td>1</td>\n",
       "      <td>59.95</td>\n",
       "      <td>14.75</td>\n",
       "      <td>Internet</td>\n",
       "      <td>999</td>\n",
       "      <td>164 days</td>\n",
       "    </tr>\n",
       "    <tr>\n",
       "      <th>4</th>\n",
       "      <td>6429944</td>\n",
       "      <td>1</td>\n",
       "      <td>11</td>\n",
       "      <td>8</td>\n",
       "      <td>2813.77</td>\n",
       "      <td>9.0</td>\n",
       "      <td>2019-11-12</td>\n",
       "      <td>APPAREL</td>\n",
       "      <td>1</td>\n",
       "      <td>79.95</td>\n",
       "      <td>15.76</td>\n",
       "      <td>Internet</td>\n",
       "      <td>999</td>\n",
       "      <td>49 days</td>\n",
       "    </tr>\n",
       "  </tbody>\n",
       "</table>\n",
       "</div>"
      ],
      "text/plain": [
       "   Customer ID  Mail Deliverable  Lifetime Recency  Lifetime Frequency   \\\n",
       "0      4482047                 1                15                    2   \n",
       "1      6564872                 1                 4                    6   \n",
       "2      7004515                 1                11                   23   \n",
       "3      7004515                 1                11                   23   \n",
       "4      6429944                 1                11                    8   \n",
       "\n",
       "   Lifetime Monetary  Closest store distance       Date  Product  Units  \\\n",
       "0             118.90                     8.0 2019-06-07  APPAREL      1   \n",
       "1            1785.20                    13.0 2019-12-13  APPAREL      1   \n",
       "2            2068.93                    23.0 2019-11-21  APPAREL      1   \n",
       "3            2068.93                    23.0 2019-07-20  APPAREL      1   \n",
       "4            2813.77                     9.0 2019-11-12  APPAREL      1   \n",
       "\n",
       "   Amount   Cost   Channel  Store     diff  \n",
       "0  108.95  23.00  Internet    999 207 days  \n",
       "1   69.95  16.31  Internet    999  18 days  \n",
       "2  119.95  39.75  Internet    999  40 days  \n",
       "3   59.95  14.75  Internet    999 164 days  \n",
       "4   79.95  15.76  Internet    999  49 days  "
      ]
     },
     "execution_count": 37,
     "metadata": {},
     "output_type": "execute_result"
    }
   ],
   "source": [
    "# compute the diff\n",
    "merged_df['diff'] = max_date - merged_df['Date']\n",
    "merged_df.head()"
   ]
  },
  {
   "cell_type": "code",
   "execution_count": null,
   "metadata": {},
   "outputs": [],
   "source": []
  },
  {
   "cell_type": "code",
   "execution_count": null,
   "metadata": {},
   "outputs": [],
   "source": []
  },
  {
   "cell_type": "code",
   "execution_count": null,
   "metadata": {},
   "outputs": [],
   "source": []
  },
  {
   "cell_type": "code",
   "execution_count": null,
   "metadata": {},
   "outputs": [],
   "source": []
  },
  {
   "cell_type": "code",
   "execution_count": null,
   "metadata": {},
   "outputs": [],
   "source": []
  },
  {
   "cell_type": "code",
   "execution_count": null,
   "metadata": {},
   "outputs": [],
   "source": []
  },
  {
   "cell_type": "code",
   "execution_count": null,
   "metadata": {},
   "outputs": [],
   "source": []
  },
  {
   "cell_type": "code",
   "execution_count": null,
   "metadata": {},
   "outputs": [],
   "source": []
  },
  {
   "cell_type": "code",
   "execution_count": 38,
   "metadata": {},
   "outputs": [
    {
     "data": {
      "text/html": [
       "<div>\n",
       "<style scoped>\n",
       "    .dataframe tbody tr th:only-of-type {\n",
       "        vertical-align: middle;\n",
       "    }\n",
       "\n",
       "    .dataframe tbody tr th {\n",
       "        vertical-align: top;\n",
       "    }\n",
       "\n",
       "    .dataframe thead th {\n",
       "        text-align: right;\n",
       "    }\n",
       "</style>\n",
       "<table border=\"1\" class=\"dataframe\">\n",
       "  <thead>\n",
       "    <tr style=\"text-align: right;\">\n",
       "      <th></th>\n",
       "      <th>Customer ID</th>\n",
       "      <th>Lifetime Monetary</th>\n",
       "    </tr>\n",
       "  </thead>\n",
       "  <tbody>\n",
       "    <tr>\n",
       "      <th>0</th>\n",
       "      <td>1806560</td>\n",
       "      <td>27763.19</td>\n",
       "    </tr>\n",
       "    <tr>\n",
       "      <th>1</th>\n",
       "      <td>1806593</td>\n",
       "      <td>4314.69</td>\n",
       "    </tr>\n",
       "    <tr>\n",
       "      <th>2</th>\n",
       "      <td>1806727</td>\n",
       "      <td>16492.96</td>\n",
       "    </tr>\n",
       "    <tr>\n",
       "      <th>3</th>\n",
       "      <td>1806735</td>\n",
       "      <td>1822.02</td>\n",
       "    </tr>\n",
       "    <tr>\n",
       "      <th>4</th>\n",
       "      <td>1806741</td>\n",
       "      <td>11842.16</td>\n",
       "    </tr>\n",
       "  </tbody>\n",
       "</table>\n",
       "</div>"
      ],
      "text/plain": [
       "   Customer ID  Lifetime Monetary\n",
       "0      1806560           27763.19\n",
       "1      1806593            4314.69\n",
       "2      1806727           16492.96\n",
       "3      1806735            1822.02\n",
       "4      1806741           11842.16"
      ]
     },
     "execution_count": 38,
     "metadata": {},
     "output_type": "execute_result"
    }
   ],
   "source": [
    "# monetary\n",
    "grouped_df = merged_df.groupby('Customer ID')['Lifetime Monetary'].sum()\n",
    "grouped_df = grouped_df.reset_index()\n",
    "grouped_df.head()"
   ]
  },
  {
   "cell_type": "code",
   "execution_count": 39,
   "metadata": {},
   "outputs": [
    {
     "data": {
      "text/plain": [
       "Index(['Customer ID', 'Mail Deliverable', 'Lifetime Recency',\n",
       "       'Lifetime Frequency ', 'Lifetime Monetary', 'Closest store distance',\n",
       "       'Date', 'Product', 'Units', 'Amount', 'Cost', 'Channel', 'Store',\n",
       "       'diff'],\n",
       "      dtype='object')"
      ]
     },
     "execution_count": 39,
     "metadata": {},
     "output_type": "execute_result"
    }
   ],
   "source": [
    "merged_df.columns"
   ]
  },
  {
   "cell_type": "code",
   "execution_count": 40,
   "metadata": {},
   "outputs": [
    {
     "data": {
      "text/html": [
       "<div>\n",
       "<style scoped>\n",
       "    .dataframe tbody tr th:only-of-type {\n",
       "        vertical-align: middle;\n",
       "    }\n",
       "\n",
       "    .dataframe tbody tr th {\n",
       "        vertical-align: top;\n",
       "    }\n",
       "\n",
       "    .dataframe thead th {\n",
       "        text-align: right;\n",
       "    }\n",
       "</style>\n",
       "<table border=\"1\" class=\"dataframe\">\n",
       "  <thead>\n",
       "    <tr style=\"text-align: right;\">\n",
       "      <th></th>\n",
       "      <th>Customer ID</th>\n",
       "      <th>Lifetime Frequency</th>\n",
       "    </tr>\n",
       "  </thead>\n",
       "  <tbody>\n",
       "    <tr>\n",
       "      <th>0</th>\n",
       "      <td>1806560</td>\n",
       "      <td>7</td>\n",
       "    </tr>\n",
       "    <tr>\n",
       "      <th>1</th>\n",
       "      <td>1806593</td>\n",
       "      <td>3</td>\n",
       "    </tr>\n",
       "    <tr>\n",
       "      <th>2</th>\n",
       "      <td>1806727</td>\n",
       "      <td>8</td>\n",
       "    </tr>\n",
       "    <tr>\n",
       "      <th>3</th>\n",
       "      <td>1806735</td>\n",
       "      <td>2</td>\n",
       "    </tr>\n",
       "    <tr>\n",
       "      <th>4</th>\n",
       "      <td>1806741</td>\n",
       "      <td>4</td>\n",
       "    </tr>\n",
       "  </tbody>\n",
       "</table>\n",
       "</div>"
      ],
      "text/plain": [
       "   Customer ID  Lifetime Frequency \n",
       "0      1806560                    7\n",
       "1      1806593                    3\n",
       "2      1806727                    8\n",
       "3      1806735                    2\n",
       "4      1806741                    4"
      ]
     },
     "execution_count": 40,
     "metadata": {},
     "output_type": "execute_result"
    }
   ],
   "source": [
    "# frequency\n",
    "frequency = merged_df.groupby('Customer ID')['Lifetime Frequency '].count()\n",
    "frequency = frequency.reset_index()\n",
    "frequency.columns = ['Customer ID', 'Lifetime Frequency ']\n",
    "frequency.head()"
   ]
  },
  {
   "cell_type": "code",
   "execution_count": 41,
   "metadata": {},
   "outputs": [
    {
     "data": {
      "text/html": [
       "<div>\n",
       "<style scoped>\n",
       "    .dataframe tbody tr th:only-of-type {\n",
       "        vertical-align: middle;\n",
       "    }\n",
       "\n",
       "    .dataframe tbody tr th {\n",
       "        vertical-align: top;\n",
       "    }\n",
       "\n",
       "    .dataframe thead th {\n",
       "        text-align: right;\n",
       "    }\n",
       "</style>\n",
       "<table border=\"1\" class=\"dataframe\">\n",
       "  <thead>\n",
       "    <tr style=\"text-align: right;\">\n",
       "      <th></th>\n",
       "      <th>Customer ID</th>\n",
       "      <th>Lifetime Monetary</th>\n",
       "      <th>Lifetime Frequency</th>\n",
       "    </tr>\n",
       "  </thead>\n",
       "  <tbody>\n",
       "    <tr>\n",
       "      <th>0</th>\n",
       "      <td>1806560</td>\n",
       "      <td>27763.19</td>\n",
       "      <td>7</td>\n",
       "    </tr>\n",
       "    <tr>\n",
       "      <th>1</th>\n",
       "      <td>1806593</td>\n",
       "      <td>4314.69</td>\n",
       "      <td>3</td>\n",
       "    </tr>\n",
       "    <tr>\n",
       "      <th>2</th>\n",
       "      <td>1806727</td>\n",
       "      <td>16492.96</td>\n",
       "      <td>8</td>\n",
       "    </tr>\n",
       "    <tr>\n",
       "      <th>3</th>\n",
       "      <td>1806735</td>\n",
       "      <td>1822.02</td>\n",
       "      <td>2</td>\n",
       "    </tr>\n",
       "    <tr>\n",
       "      <th>4</th>\n",
       "      <td>1806741</td>\n",
       "      <td>11842.16</td>\n",
       "      <td>4</td>\n",
       "    </tr>\n",
       "  </tbody>\n",
       "</table>\n",
       "</div>"
      ],
      "text/plain": [
       "   Customer ID  Lifetime Monetary  Lifetime Frequency \n",
       "0      1806560           27763.19                    7\n",
       "1      1806593            4314.69                    3\n",
       "2      1806727           16492.96                    8\n",
       "3      1806735            1822.02                    2\n",
       "4      1806741           11842.16                    4"
      ]
     },
     "execution_count": 41,
     "metadata": {},
     "output_type": "execute_result"
    }
   ],
   "source": [
    "# merge the two dfs\n",
    "grouped_df = pd.merge(grouped_df, frequency, on='Customer ID', how='inner')\n",
    "grouped_df.head()"
   ]
  },
  {
   "cell_type": "code",
   "execution_count": 42,
   "metadata": {},
   "outputs": [
    {
     "data": {
      "text/html": [
       "<div>\n",
       "<style scoped>\n",
       "    .dataframe tbody tr th:only-of-type {\n",
       "        vertical-align: middle;\n",
       "    }\n",
       "\n",
       "    .dataframe tbody tr th {\n",
       "        vertical-align: top;\n",
       "    }\n",
       "\n",
       "    .dataframe thead th {\n",
       "        text-align: right;\n",
       "    }\n",
       "</style>\n",
       "<table border=\"1\" class=\"dataframe\">\n",
       "  <thead>\n",
       "    <tr style=\"text-align: right;\">\n",
       "      <th></th>\n",
       "      <th>Customer ID</th>\n",
       "      <th>Lifetime Recency</th>\n",
       "    </tr>\n",
       "  </thead>\n",
       "  <tbody>\n",
       "    <tr>\n",
       "      <th>0</th>\n",
       "      <td>1806560</td>\n",
       "      <td>2</td>\n",
       "    </tr>\n",
       "    <tr>\n",
       "      <th>1</th>\n",
       "      <td>1806593</td>\n",
       "      <td>3</td>\n",
       "    </tr>\n",
       "    <tr>\n",
       "      <th>2</th>\n",
       "      <td>1806727</td>\n",
       "      <td>1</td>\n",
       "    </tr>\n",
       "    <tr>\n",
       "      <th>3</th>\n",
       "      <td>1806735</td>\n",
       "      <td>1</td>\n",
       "    </tr>\n",
       "    <tr>\n",
       "      <th>4</th>\n",
       "      <td>1806741</td>\n",
       "      <td>18</td>\n",
       "    </tr>\n",
       "  </tbody>\n",
       "</table>\n",
       "</div>"
      ],
      "text/plain": [
       "   Customer ID  Lifetime Recency\n",
       "0      1806560                 2\n",
       "1      1806593                 3\n",
       "2      1806727                 1\n",
       "3      1806735                 1\n",
       "4      1806741                18"
      ]
     },
     "execution_count": 42,
     "metadata": {},
     "output_type": "execute_result"
    }
   ],
   "source": [
    "recency = merged_df.groupby('Customer ID')['Lifetime Recency'].min()\n",
    "recency = recency.reset_index()\n",
    "recency.columns = ['Customer ID', 'Lifetime Recency']\n",
    "recency.head()"
   ]
  },
  {
   "cell_type": "code",
   "execution_count": 43,
   "metadata": {},
   "outputs": [
    {
     "data": {
      "text/html": [
       "<div>\n",
       "<style scoped>\n",
       "    .dataframe tbody tr th:only-of-type {\n",
       "        vertical-align: middle;\n",
       "    }\n",
       "\n",
       "    .dataframe tbody tr th {\n",
       "        vertical-align: top;\n",
       "    }\n",
       "\n",
       "    .dataframe thead th {\n",
       "        text-align: right;\n",
       "    }\n",
       "</style>\n",
       "<table border=\"1\" class=\"dataframe\">\n",
       "  <thead>\n",
       "    <tr style=\"text-align: right;\">\n",
       "      <th></th>\n",
       "      <th>Customer ID</th>\n",
       "      <th>Lifetime Monetary</th>\n",
       "      <th>Lifetime Frequency</th>\n",
       "      <th>Lifetime Recency</th>\n",
       "    </tr>\n",
       "  </thead>\n",
       "  <tbody>\n",
       "    <tr>\n",
       "      <th>0</th>\n",
       "      <td>1806560</td>\n",
       "      <td>27763.19</td>\n",
       "      <td>7</td>\n",
       "      <td>2</td>\n",
       "    </tr>\n",
       "    <tr>\n",
       "      <th>1</th>\n",
       "      <td>1806593</td>\n",
       "      <td>4314.69</td>\n",
       "      <td>3</td>\n",
       "      <td>3</td>\n",
       "    </tr>\n",
       "    <tr>\n",
       "      <th>2</th>\n",
       "      <td>1806727</td>\n",
       "      <td>16492.96</td>\n",
       "      <td>8</td>\n",
       "      <td>1</td>\n",
       "    </tr>\n",
       "    <tr>\n",
       "      <th>3</th>\n",
       "      <td>1806735</td>\n",
       "      <td>1822.02</td>\n",
       "      <td>2</td>\n",
       "      <td>1</td>\n",
       "    </tr>\n",
       "    <tr>\n",
       "      <th>4</th>\n",
       "      <td>1806741</td>\n",
       "      <td>11842.16</td>\n",
       "      <td>4</td>\n",
       "      <td>18</td>\n",
       "    </tr>\n",
       "  </tbody>\n",
       "</table>\n",
       "</div>"
      ],
      "text/plain": [
       "   Customer ID  Lifetime Monetary  Lifetime Frequency   Lifetime Recency\n",
       "0      1806560           27763.19                    7                 2\n",
       "1      1806593            4314.69                    3                 3\n",
       "2      1806727           16492.96                    8                 1\n",
       "3      1806735            1822.02                    2                 1\n",
       "4      1806741           11842.16                    4                18"
      ]
     },
     "execution_count": 43,
     "metadata": {},
     "output_type": "execute_result"
    }
   ],
   "source": [
    "grouped_df = pd.merge(grouped_df, recency, on='Customer ID', how='inner')\n",
    "grouped_df.head()"
   ]
  },
  {
   "cell_type": "code",
   "execution_count": 44,
   "metadata": {},
   "outputs": [
    {
     "data": {
      "text/plain": [
       "{'whiskers': [<matplotlib.lines.Line2D at 0x1a3009a9d30>,\n",
       "  <matplotlib.lines.Line2D at 0x1a3009a9c10>],\n",
       " 'caps': [<matplotlib.lines.Line2D at 0x1a3009781c0>,\n",
       "  <matplotlib.lines.Line2D at 0x1a300978760>],\n",
       " 'boxes': [<matplotlib.lines.Line2D at 0x1a3009a9850>],\n",
       " 'medians': [<matplotlib.lines.Line2D at 0x1a300978d00>],\n",
       " 'fliers': [<matplotlib.lines.Line2D at 0x1a300978f10>],\n",
       " 'means': []}"
      ]
     },
     "execution_count": 44,
     "metadata": {},
     "output_type": "execute_result"
    },
    {
     "data": {
      "image/png": "[encoded data removed]",
      "text/plain": [
       "<Figure size 432x288 with 1 Axes>"
      ]
     },
     "metadata": {
      "needs_background": "light"
     },
     "output_type": "display_data"
    }
   ],
   "source": [
    "plt.boxplot(grouped_df['Lifetime Recency'])"
   ]
  },
  {
   "cell_type": "code",
   "execution_count": 45,
   "metadata": {},
   "outputs": [
    {
     "data": {
      "text/plain": [
       "125473"
      ]
     },
     "execution_count": 45,
     "metadata": {},
     "output_type": "execute_result"
    }
   ],
   "source": [
    "grouped_df['Lifetime Frequency '].max()"
   ]
  },
  {
   "cell_type": "code",
   "execution_count": 46,
   "metadata": {},
   "outputs": [
    {
     "data": {
      "text/plain": [
       "{'whiskers': [<matplotlib.lines.Line2D at 0x1a3000a7be0>,\n",
       "  <matplotlib.lines.Line2D at 0x1a3000a7490>],\n",
       " 'caps': [<matplotlib.lines.Line2D at 0x1a300a830a0>,\n",
       "  <matplotlib.lines.Line2D at 0x1a3009dea00>],\n",
       " 'boxes': [<matplotlib.lines.Line2D at 0x1a3000a7580>],\n",
       " 'medians': [<matplotlib.lines.Line2D at 0x1a3009de6a0>],\n",
       " 'fliers': [<matplotlib.lines.Line2D at 0x1a3009de160>],\n",
       " 'means': []}"
      ]
     },
     "execution_count": 46,
     "metadata": {},
     "output_type": "execute_result"
    },
    {
     "data": {
      "image/png": "[encoded data removed]",
      "text/plain": [
       "<Figure size 432x288 with 1 Axes>"
      ]
     },
     "metadata": {
      "needs_background": "light"
     },
     "output_type": "display_data"
    }
   ],
   "source": [
    "plt.boxplot(grouped_df['Lifetime Monetary'])"
   ]
  },
  {
   "cell_type": "code",
   "execution_count": 47,
   "metadata": {},
   "outputs": [
    {
     "data": {
      "text/plain": [
       "3394273471340.0625"
      ]
     },
     "execution_count": 47,
     "metadata": {},
     "output_type": "execute_result"
    }
   ],
   "source": [
    "grouped_df['Lifetime Monetary'].max()"
   ]
  },
  {
   "cell_type": "code",
   "execution_count": 48,
   "metadata": {},
   "outputs": [
    {
     "data": {
      "text/html": [
       "<div>\n",
       "<style scoped>\n",
       "    .dataframe tbody tr th:only-of-type {\n",
       "        vertical-align: middle;\n",
       "    }\n",
       "\n",
       "    .dataframe tbody tr th {\n",
       "        vertical-align: top;\n",
       "    }\n",
       "\n",
       "    .dataframe thead th {\n",
       "        text-align: right;\n",
       "    }\n",
       "</style>\n",
       "<table border=\"1\" class=\"dataframe\">\n",
       "  <thead>\n",
       "    <tr style=\"text-align: right;\">\n",
       "      <th></th>\n",
       "      <th>Customer ID</th>\n",
       "      <th>Lifetime Monetary</th>\n",
       "      <th>Lifetime Frequency</th>\n",
       "      <th>Lifetime Recency</th>\n",
       "    </tr>\n",
       "  </thead>\n",
       "  <tbody>\n",
       "    <tr>\n",
       "      <th>0</th>\n",
       "      <td>1806560</td>\n",
       "      <td>27763.19</td>\n",
       "      <td>7</td>\n",
       "      <td>2</td>\n",
       "    </tr>\n",
       "    <tr>\n",
       "      <th>1</th>\n",
       "      <td>1806593</td>\n",
       "      <td>4314.69</td>\n",
       "      <td>3</td>\n",
       "      <td>3</td>\n",
       "    </tr>\n",
       "    <tr>\n",
       "      <th>2</th>\n",
       "      <td>1806727</td>\n",
       "      <td>16492.96</td>\n",
       "      <td>8</td>\n",
       "      <td>1</td>\n",
       "    </tr>\n",
       "    <tr>\n",
       "      <th>3</th>\n",
       "      <td>1806735</td>\n",
       "      <td>1822.02</td>\n",
       "      <td>2</td>\n",
       "      <td>1</td>\n",
       "    </tr>\n",
       "    <tr>\n",
       "      <th>4</th>\n",
       "      <td>1806741</td>\n",
       "      <td>11842.16</td>\n",
       "      <td>4</td>\n",
       "      <td>18</td>\n",
       "    </tr>\n",
       "  </tbody>\n",
       "</table>\n",
       "</div>"
      ],
      "text/plain": [
       "   Customer ID  Lifetime Monetary  Lifetime Frequency   Lifetime Recency\n",
       "0      1806560           27763.19                    7                 2\n",
       "1      1806593            4314.69                    3                 3\n",
       "2      1806727           16492.96                    8                 1\n",
       "3      1806735            1822.02                    2                 1\n",
       "4      1806741           11842.16                    4                18"
      ]
     },
     "execution_count": 48,
     "metadata": {},
     "output_type": "execute_result"
    }
   ],
   "source": [
    "grouped_df.head()"
   ]
  },
  {
   "cell_type": "code",
   "execution_count": 49,
   "metadata": {},
   "outputs": [],
   "source": [
    "grouped_df = grouped_df.rename(columns={'Lifetime Monetary': 'Lifetime_Monetary','Lifetime Frequency ':'Lifetime_Frequency','Lifetime Recency':'Lifetime_Recency'})"
   ]
  },
  {
   "cell_type": "code",
   "execution_count": 50,
   "metadata": {},
   "outputs": [],
   "source": [
    "# removing (statistical) outliers\n",
    "Q1 = grouped_df.Lifetime_Monetary.quantile(0.05)\n",
    "Q3 = grouped_df.Lifetime_Monetary.quantile(0.95)\n",
    "IQR = Q3 - Q1\n",
    "grouped_df = grouped_df[(grouped_df.Lifetime_Monetary >= Q1 - 1.5*IQR) & (grouped_df.Lifetime_Monetary <= Q3 + 1.5*IQR)]\n"
   ]
  },
  {
   "cell_type": "code",
   "execution_count": 51,
   "metadata": {},
   "outputs": [],
   "source": [
    "# outlier treatment for recency\n",
    "Q1 = grouped_df.Lifetime_Recency.quantile(0.05)\n",
    "Q3 = grouped_df.Lifetime_Recency.quantile(0.95)\n",
    "IQR = Q3 - Q1\n",
    "grouped_df = grouped_df[(grouped_df.Lifetime_Recency >= Q1 - 1.5*IQR) & (grouped_df.Lifetime_Recency <= Q3 + 1.5*IQR)]\n"
   ]
  },
  {
   "cell_type": "code",
   "execution_count": 52,
   "metadata": {},
   "outputs": [],
   "source": [
    "# outlier treatment for frequency\n",
    "Q1 = grouped_df.Lifetime_Frequency.quantile(0.05)\n",
    "Q3 = grouped_df.Lifetime_Frequency.quantile(0.95)\n",
    "IQR = Q3 - Q1\n",
    "grouped_df = grouped_df[(grouped_df.Lifetime_Frequency >= Q1 - 1.5*IQR) & (grouped_df.Lifetime_Frequency <= Q3 + 1.5*IQR)]\n"
   ]
  },
  {
   "cell_type": "code",
   "execution_count": 53,
   "metadata": {},
   "outputs": [],
   "source": [
    "import sklearn\n",
    "from sklearn.preprocessing import StandardScaler\n",
    "from sklearn.cluster import KMeans\n",
    "from sklearn.metrics import silhouette_score"
   ]
  },
  {
   "cell_type": "code",
   "execution_count": 54,
   "metadata": {},
   "outputs": [
    {
     "data": {
      "text/plain": [
       "(84948, 3)"
      ]
     },
     "execution_count": 54,
     "metadata": {},
     "output_type": "execute_result"
    }
   ],
   "source": [
    "# rescaling\n",
    "rfm_df = grouped_df[['Lifetime_Monetary', 'Lifetime_Frequency', 'Lifetime_Recency']]\n",
    "\n",
    "# instantiate\n",
    "scaler = StandardScaler()\n",
    "# fit_transform\n",
    "rfm_df_scaled = scaler.fit_transform(rfm_df)\n",
    "rfm_df_scaled.shape"
   ]
  },
  {
   "cell_type": "code",
   "execution_count": 55,
   "metadata": {},
   "outputs": [
    {
     "data": {
      "text/html": [
       "<div>\n",
       "<style scoped>\n",
       "    .dataframe tbody tr th:only-of-type {\n",
       "        vertical-align: middle;\n",
       "    }\n",
       "\n",
       "    .dataframe tbody tr th {\n",
       "        vertical-align: top;\n",
       "    }\n",
       "\n",
       "    .dataframe thead th {\n",
       "        text-align: right;\n",
       "    }\n",
       "</style>\n",
       "<table border=\"1\" class=\"dataframe\">\n",
       "  <thead>\n",
       "    <tr style=\"text-align: right;\">\n",
       "      <th></th>\n",
       "      <th>Monetary</th>\n",
       "      <th>Frequency</th>\n",
       "      <th>Recency</th>\n",
       "    </tr>\n",
       "  </thead>\n",
       "  <tbody>\n",
       "    <tr>\n",
       "      <th>0</th>\n",
       "      <td>0.551246</td>\n",
       "      <td>0.818600</td>\n",
       "      <td>-1.499471</td>\n",
       "    </tr>\n",
       "    <tr>\n",
       "      <th>1</th>\n",
       "      <td>-0.314798</td>\n",
       "      <td>-0.213365</td>\n",
       "      <td>-1.315652</td>\n",
       "    </tr>\n",
       "    <tr>\n",
       "      <th>2</th>\n",
       "      <td>0.134993</td>\n",
       "      <td>1.076591</td>\n",
       "      <td>-1.683290</td>\n",
       "    </tr>\n",
       "    <tr>\n",
       "      <th>3</th>\n",
       "      <td>-0.406862</td>\n",
       "      <td>-0.471356</td>\n",
       "      <td>-1.683290</td>\n",
       "    </tr>\n",
       "    <tr>\n",
       "      <th>4</th>\n",
       "      <td>-0.036779</td>\n",
       "      <td>0.044626</td>\n",
       "      <td>1.441630</td>\n",
       "    </tr>\n",
       "  </tbody>\n",
       "</table>\n",
       "</div>"
      ],
      "text/plain": [
       "   Monetary  Frequency   Recency\n",
       "0  0.551246   0.818600 -1.499471\n",
       "1 -0.314798  -0.213365 -1.315652\n",
       "2  0.134993   1.076591 -1.683290\n",
       "3 -0.406862  -0.471356 -1.683290\n",
       "4 -0.036779   0.044626  1.441630"
      ]
     },
     "execution_count": 55,
     "metadata": {},
     "output_type": "execute_result"
    }
   ],
   "source": [
    "rfm_df_scaled = pd.DataFrame(rfm_df_scaled)\n",
    "rfm_df_scaled.columns = ['Monetary','Frequency','Recency']\n",
    "rfm_df_scaled.head()"
   ]
  },
  {
   "cell_type": "markdown",
   "metadata": {},
   "source": [
    "### Modelling"
   ]
  },
  {
   "cell_type": "code",
   "execution_count": 56,
   "metadata": {},
   "outputs": [
    {
     "data": {
      "text/plain": [
       "KMeans(max_iter=100, n_clusters=4)"
      ]
     },
     "execution_count": 56,
     "metadata": {},
     "output_type": "execute_result"
    }
   ],
   "source": [
    "kmeans = KMeans(n_clusters=4,max_iter=100)\n",
    "kmeans.fit(rfm_df_scaled)"
   ]
  },
  {
   "cell_type": "code",
   "execution_count": 57,
   "metadata": {},
   "outputs": [
    {
     "data": {
      "text/plain": [
       "array([1, 2, 1, ..., 0, 0, 0])"
      ]
     },
     "execution_count": 57,
     "metadata": {},
     "output_type": "execute_result"
    }
   ],
   "source": [
    "kmeans.labels_"
   ]
  },
  {
   "cell_type": "code",
   "execution_count": 58,
   "metadata": {},
   "outputs": [
    {
     "data": {
      "text/plain": [
       "[<matplotlib.lines.Line2D at 0x1a30c5bd5e0>]"
      ]
     },
     "execution_count": 58,
     "metadata": {},
     "output_type": "execute_result"
    },
    {
     "data": {
      "image/png": "[encoded data removed]",
      "text/plain": [
       "<Figure size 432x288 with 1 Axes>"
      ]
     },
     "metadata": {
      "needs_background": "light"
     },
     "output_type": "display_data"
    }
   ],
   "source": [
    "#elbow curve\n",
    "\n",
    "ssd = []\n",
    "range_n_clusters = [2,3,4,5,6,7,8]\n",
    "for num_clusters in range_n_clusters:\n",
    "    kmeans = KMeans(n_clusters=num_clusters,max_iter=100)\n",
    "    kmeans.fit(rfm_df_scaled)\n",
    "    \n",
    "    ssd.append(kmeans.inertia_)\n",
    "\n",
    "plt.plot(ssd)"
   ]
  },
  {
   "cell_type": "markdown",
   "metadata": {},
   "source": [
    "### Silhouette analysis"
   ]
  },
  {
   "cell_type": "code",
   "execution_count": 59,
   "metadata": {},
   "outputs": [
    {
     "name": "stdout",
     "output_type": "stream",
     "text": [
      "form n_clusters=2, the silhouette score is 0.6025414737914732\n",
      "form n_clusters=3, the silhouette score is 0.42399081060340627\n",
      "form n_clusters=4, the silhouette score is 0.429814135522093\n",
      "form n_clusters=5, the silhouette score is 0.3826369264470941\n",
      "form n_clusters=6, the silhouette score is 0.3977995795379366\n",
      "form n_clusters=7, the silhouette score is 0.39866944921724645\n",
      "form n_clusters=8, the silhouette score is 0.40094127975399724\n"
     ]
    }
   ],
   "source": [
    "range_n_clusters = [2,3,4,5,6,7,8]\n",
    "\n",
    "for num_clusters in range_n_clusters:\n",
    "    \n",
    "    kmeans = KMeans(n_clusters=num_clusters,max_iter=100)\n",
    "    kmeans.fit(rfm_df_scaled)\n",
    "    \n",
    "    cluster_labels = kmeans.labels_\n",
    "    \n",
    "    silhouette_avg = silhouette_score(rfm_df_scaled,cluster_labels)\n",
    "    \n",
    "    print(\"form n_clusters={0}, the silhouette score is {1}\".format(num_clusters,silhouette_avg))"
   ]
  },
  {
   "cell_type": "code",
   "execution_count": 60,
   "metadata": {},
   "outputs": [
    {
     "data": {
      "text/plain": [
       "KMeans(max_iter=100, n_clusters=3)"
      ]
     },
     "execution_count": 60,
     "metadata": {},
     "output_type": "execute_result"
    }
   ],
   "source": [
    "# final model with k = 3\n",
    "\n",
    "kmeans = KMeans(n_clusters=3,max_iter=100)\n",
    "kmeans.fit(rfm_df_scaled)"
   ]
  },
  {
   "cell_type": "code",
   "execution_count": 61,
   "metadata": {},
   "outputs": [
    {
     "data": {
      "text/plain": [
       "array([1, 1, 1, ..., 0, 0, 0])"
      ]
     },
     "execution_count": 61,
     "metadata": {},
     "output_type": "execute_result"
    }
   ],
   "source": [
    "kmeans.labels_"
   ]
  },
  {
   "cell_type": "code",
   "execution_count": 62,
   "metadata": {},
   "outputs": [
    {
     "data": {
      "text/html": [
       "<div>\n",
       "<style scoped>\n",
       "    .dataframe tbody tr th:only-of-type {\n",
       "        vertical-align: middle;\n",
       "    }\n",
       "\n",
       "    .dataframe tbody tr th {\n",
       "        vertical-align: top;\n",
       "    }\n",
       "\n",
       "    .dataframe thead th {\n",
       "        text-align: right;\n",
       "    }\n",
       "</style>\n",
       "<table border=\"1\" class=\"dataframe\">\n",
       "  <thead>\n",
       "    <tr style=\"text-align: right;\">\n",
       "      <th></th>\n",
       "      <th>Customer ID</th>\n",
       "      <th>Lifetime_Monetary</th>\n",
       "      <th>Lifetime_Frequency</th>\n",
       "      <th>Lifetime_Recency</th>\n",
       "      <th>cluster_id</th>\n",
       "    </tr>\n",
       "  </thead>\n",
       "  <tbody>\n",
       "    <tr>\n",
       "      <th>0</th>\n",
       "      <td>1806560</td>\n",
       "      <td>27763.19</td>\n",
       "      <td>7</td>\n",
       "      <td>2</td>\n",
       "      <td>1</td>\n",
       "    </tr>\n",
       "    <tr>\n",
       "      <th>1</th>\n",
       "      <td>1806593</td>\n",
       "      <td>4314.69</td>\n",
       "      <td>3</td>\n",
       "      <td>3</td>\n",
       "      <td>1</td>\n",
       "    </tr>\n",
       "    <tr>\n",
       "      <th>2</th>\n",
       "      <td>1806727</td>\n",
       "      <td>16492.96</td>\n",
       "      <td>8</td>\n",
       "      <td>1</td>\n",
       "      <td>1</td>\n",
       "    </tr>\n",
       "    <tr>\n",
       "      <th>3</th>\n",
       "      <td>1806735</td>\n",
       "      <td>1822.02</td>\n",
       "      <td>2</td>\n",
       "      <td>1</td>\n",
       "      <td>1</td>\n",
       "    </tr>\n",
       "    <tr>\n",
       "      <th>4</th>\n",
       "      <td>1806741</td>\n",
       "      <td>11842.16</td>\n",
       "      <td>4</td>\n",
       "      <td>18</td>\n",
       "      <td>0</td>\n",
       "    </tr>\n",
       "  </tbody>\n",
       "</table>\n",
       "</div>"
      ],
      "text/plain": [
       "   Customer ID  Lifetime_Monetary  Lifetime_Frequency  Lifetime_Recency  \\\n",
       "0      1806560           27763.19                   7                 2   \n",
       "1      1806593            4314.69                   3                 3   \n",
       "2      1806727           16492.96                   8                 1   \n",
       "3      1806735            1822.02                   2                 1   \n",
       "4      1806741           11842.16                   4                18   \n",
       "\n",
       "   cluster_id  \n",
       "0           1  \n",
       "1           1  \n",
       "2           1  \n",
       "3           1  \n",
       "4           0  "
      ]
     },
     "execution_count": 62,
     "metadata": {},
     "output_type": "execute_result"
    }
   ],
   "source": [
    "#assign the label\n",
    "grouped_df['cluster_id'] = kmeans.labels_\n",
    "grouped_df.head()"
   ]
  },
  {
   "cell_type": "code",
   "execution_count": 63,
   "metadata": {},
   "outputs": [
    {
     "data": {
      "text/plain": [
       "<AxesSubplot:xlabel='cluster_id', ylabel='Lifetime_Monetary'>"
      ]
     },
     "execution_count": 63,
     "metadata": {},
     "output_type": "execute_result"
    },
    {
     "data": {
      "image/png": "[encoded data removed]",
      "text/plain": [
       "<Figure size 432x288 with 1 Axes>"
      ]
     },
     "metadata": {
      "needs_background": "light"
     },
     "output_type": "display_data"
    }
   ],
   "source": [
    "#plot\n",
    "sns.boxplot(x = 'cluster_id',y = 'Lifetime_Monetary',data = grouped_df)"
   ]
  },
  {
   "cell_type": "markdown",
   "metadata": {},
   "source": [
    "### Hierarchical Clustering"
   ]
  },
  {
   "cell_type": "code",
   "execution_count": 64,
   "metadata": {},
   "outputs": [],
   "source": [
    "from scipy.cluster.hierarchy import linkage\n",
    "from scipy.cluster.hierarchy import dendrogram\n",
    "from scipy.cluster.hierarchy import cut_tree"
   ]
  },
  {
   "cell_type": "code",
   "execution_count": 65,
   "metadata": {},
   "outputs": [
    {
     "data": {
      "text/html": [
       "<div>\n",
       "<style scoped>\n",
       "    .dataframe tbody tr th:only-of-type {\n",
       "        vertical-align: middle;\n",
       "    }\n",
       "\n",
       "    .dataframe tbody tr th {\n",
       "        vertical-align: top;\n",
       "    }\n",
       "\n",
       "    .dataframe thead th {\n",
       "        text-align: right;\n",
       "    }\n",
       "</style>\n",
       "<table border=\"1\" class=\"dataframe\">\n",
       "  <thead>\n",
       "    <tr style=\"text-align: right;\">\n",
       "      <th></th>\n",
       "      <th>Monetary</th>\n",
       "      <th>Frequency</th>\n",
       "      <th>Recency</th>\n",
       "    </tr>\n",
       "  </thead>\n",
       "  <tbody>\n",
       "    <tr>\n",
       "      <th>0</th>\n",
       "      <td>0.551246</td>\n",
       "      <td>0.818600</td>\n",
       "      <td>-1.499471</td>\n",
       "    </tr>\n",
       "    <tr>\n",
       "      <th>1</th>\n",
       "      <td>-0.314798</td>\n",
       "      <td>-0.213365</td>\n",
       "      <td>-1.315652</td>\n",
       "    </tr>\n",
       "    <tr>\n",
       "      <th>2</th>\n",
       "      <td>0.134993</td>\n",
       "      <td>1.076591</td>\n",
       "      <td>-1.683290</td>\n",
       "    </tr>\n",
       "    <tr>\n",
       "      <th>3</th>\n",
       "      <td>-0.406862</td>\n",
       "      <td>-0.471356</td>\n",
       "      <td>-1.683290</td>\n",
       "    </tr>\n",
       "    <tr>\n",
       "      <th>4</th>\n",
       "      <td>-0.036779</td>\n",
       "      <td>0.044626</td>\n",
       "      <td>1.441630</td>\n",
       "    </tr>\n",
       "  </tbody>\n",
       "</table>\n",
       "</div>"
      ],
      "text/plain": [
       "   Monetary  Frequency   Recency\n",
       "0  0.551246   0.818600 -1.499471\n",
       "1 -0.314798  -0.213365 -1.315652\n",
       "2  0.134993   1.076591 -1.683290\n",
       "3 -0.406862  -0.471356 -1.683290\n",
       "4 -0.036779   0.044626  1.441630"
      ]
     },
     "execution_count": 65,
     "metadata": {},
     "output_type": "execute_result"
    }
   ],
   "source": [
    "rfm_df_scaled.head()"
   ]
  },
  {
   "cell_type": "code",
   "execution_count": 66,
   "metadata": {},
   "outputs": [
    {
     "data": {
      "text/html": [
       "<div>\n",
       "<style scoped>\n",
       "    .dataframe tbody tr th:only-of-type {\n",
       "        vertical-align: middle;\n",
       "    }\n",
       "\n",
       "    .dataframe tbody tr th {\n",
       "        vertical-align: top;\n",
       "    }\n",
       "\n",
       "    .dataframe thead th {\n",
       "        text-align: right;\n",
       "    }\n",
       "</style>\n",
       "<table border=\"1\" class=\"dataframe\">\n",
       "  <thead>\n",
       "    <tr style=\"text-align: right;\">\n",
       "      <th></th>\n",
       "      <th>Customer ID</th>\n",
       "      <th>Lifetime_Monetary</th>\n",
       "      <th>Lifetime_Frequency</th>\n",
       "      <th>Lifetime_Recency</th>\n",
       "      <th>cluster_id</th>\n",
       "    </tr>\n",
       "  </thead>\n",
       "  <tbody>\n",
       "    <tr>\n",
       "      <th>0</th>\n",
       "      <td>1806560</td>\n",
       "      <td>27763.19</td>\n",
       "      <td>7</td>\n",
       "      <td>2</td>\n",
       "      <td>1</td>\n",
       "    </tr>\n",
       "    <tr>\n",
       "      <th>1</th>\n",
       "      <td>1806593</td>\n",
       "      <td>4314.69</td>\n",
       "      <td>3</td>\n",
       "      <td>3</td>\n",
       "      <td>1</td>\n",
       "    </tr>\n",
       "    <tr>\n",
       "      <th>2</th>\n",
       "      <td>1806727</td>\n",
       "      <td>16492.96</td>\n",
       "      <td>8</td>\n",
       "      <td>1</td>\n",
       "      <td>1</td>\n",
       "    </tr>\n",
       "    <tr>\n",
       "      <th>3</th>\n",
       "      <td>1806735</td>\n",
       "      <td>1822.02</td>\n",
       "      <td>2</td>\n",
       "      <td>1</td>\n",
       "      <td>1</td>\n",
       "    </tr>\n",
       "    <tr>\n",
       "      <th>4</th>\n",
       "      <td>1806741</td>\n",
       "      <td>11842.16</td>\n",
       "      <td>4</td>\n",
       "      <td>18</td>\n",
       "      <td>0</td>\n",
       "    </tr>\n",
       "  </tbody>\n",
       "</table>\n",
       "</div>"
      ],
      "text/plain": [
       "   Customer ID  Lifetime_Monetary  Lifetime_Frequency  Lifetime_Recency  \\\n",
       "0      1806560           27763.19                   7                 2   \n",
       "1      1806593            4314.69                   3                 3   \n",
       "2      1806727           16492.96                   8                 1   \n",
       "3      1806735            1822.02                   2                 1   \n",
       "4      1806741           11842.16                   4                18   \n",
       "\n",
       "   cluster_id  \n",
       "0           1  \n",
       "1           1  \n",
       "2           1  \n",
       "3           1  \n",
       "4           0  "
      ]
     },
     "execution_count": 66,
     "metadata": {},
     "output_type": "execute_result"
    }
   ],
   "source": [
    "grouped_df.head()"
   ]
  },
  {
   "cell_type": "code",
   "execution_count": null,
   "metadata": {},
   "outputs": [],
   "source": [
    "#single linkage\n",
    "mergings = linkage(rfm_df_scaled,method=\"single\",metric='euclidean')\n",
    "dendrogram(mergings)\n",
    "#plt.show()"
   ]
  },
  {
   "cell_type": "code",
   "execution_count": null,
   "metadata": {},
   "outputs": [],
   "source": [
    "#complete linkage\n",
    "mergings = linkage(rfm_df_scaled,method=\"complete\",metric='euclidean')\n",
    "dendrogram(mergings)\n",
    "#plt.show()"
   ]
  },
  {
   "cell_type": "code",
   "execution_count": null,
   "metadata": {},
   "outputs": [],
   "source": [
    "#3 clusters\n",
    "cluster_labels = cut_tree(mergings,n_clusters = 3).reshape(-1, )\n",
    "cluster_labels"
   ]
  },
  {
   "cell_type": "code",
   "execution_count": null,
   "metadata": {},
   "outputs": [],
   "source": [
    "# assign cluster labels\n",
    "grouped_df['cluster_labels'] = cluster_labels\n",
    "grouped_df.head()"
   ]
  },
  {
   "cell_type": "code",
   "execution_count": null,
   "metadata": {},
   "outputs": [],
   "source": [
    "sns.boxplot(x='cluster_labels',y='Lifetime_Recency',data=grouped_df)"
   ]
  },
  {
   "cell_type": "code",
   "execution_count": null,
   "metadata": {},
   "outputs": [],
   "source": [
    "sns.boxplot(x='cluster_labels',y='Lifetime_Frequency',data=grouped_df)"
   ]
  }
 ],
 "metadata": {
  "kernelspec": {
   "display_name": "Python 3",
   "language": "python",
   "name": "python3"
  },
  "language_info": {
   "codemirror_mode": {
    "name": "ipython",
    "version": 3
   },
   "file_extension": ".py",
   "mimetype": "text/x-python",
   "name": "python",
   "nbconvert_exporter": "python",
   "pygments_lexer": "ipython3",
   "version": "3.7.4"
  }
 },
 "nbformat": 4,
 "nbformat_minor": 2
}
